{
 "cells": [
  {
   "cell_type": "markdown",
   "id": "018ec1f0",
   "metadata": {},
   "source": [
    "Le but de cette étude est de prédire si une transaction est frauduleuse"
   ]
  },
  {
   "cell_type": "code",
   "execution_count": 4,
   "id": "02fffbd3",
   "metadata": {},
   "outputs": [
    {
     "name": "stdout",
     "output_type": "stream",
     "text": [
      "Requirement already satisfied: seaborn in e:\\anaconda3\\envs\\python_ds\\lib\\site-packages (0.11.2)\n",
      "Requirement already satisfied: numpy>=1.15 in e:\\anaconda3\\envs\\python_ds\\lib\\site-packages (from seaborn) (1.20.3)\n",
      "Requirement already satisfied: pandas>=0.23 in e:\\anaconda3\\envs\\python_ds\\lib\\site-packages (from seaborn) (1.2.4)\n",
      "Requirement already satisfied: scipy>=1.0 in e:\\anaconda3\\envs\\python_ds\\lib\\site-packages (from seaborn) (1.7.0)\n",
      "Requirement already satisfied: matplotlib>=2.2 in e:\\anaconda3\\envs\\python_ds\\lib\\site-packages (from seaborn) (3.4.2)\n",
      "Requirement already satisfied: kiwisolver>=1.0.1 in e:\\anaconda3\\envs\\python_ds\\lib\\site-packages (from matplotlib>=2.2->seaborn) (1.3.1)\n",
      "Requirement already satisfied: pillow>=6.2.0 in e:\\anaconda3\\envs\\python_ds\\lib\\site-packages (from matplotlib>=2.2->seaborn) (8.2.0)\n",
      "Requirement already satisfied: python-dateutil>=2.7 in e:\\anaconda3\\envs\\python_ds\\lib\\site-packages (from matplotlib>=2.2->seaborn) (2.8.1)\n",
      "Requirement already satisfied: cycler>=0.10 in e:\\anaconda3\\envs\\python_ds\\lib\\site-packages (from matplotlib>=2.2->seaborn) (0.10.0)\n",
      "Requirement already satisfied: pyparsing>=2.2.1 in e:\\anaconda3\\envs\\python_ds\\lib\\site-packages (from matplotlib>=2.2->seaborn) (2.4.7)\n",
      "Requirement already satisfied: six in e:\\anaconda3\\envs\\python_ds\\lib\\site-packages (from cycler>=0.10->matplotlib>=2.2->seaborn) (1.15.0)\n",
      "Requirement already satisfied: pytz>=2017.3 in e:\\anaconda3\\envs\\python_ds\\lib\\site-packages (from pandas>=0.23->seaborn) (2021.1)\n",
      "Note: you may need to restart the kernel to use updated packages.\n"
     ]
    }
   ],
   "source": [
    "pip install seaborn"
   ]
  },
  {
   "cell_type": "code",
   "execution_count": 5,
   "id": "6679bb8d",
   "metadata": {},
   "outputs": [
    {
     "name": "stdout",
     "output_type": "stream",
     "text": [
      "Requirement already satisfied: plotly in e:\\anaconda3\\envs\\python_ds\\lib\\site-packages (5.10.0)\n",
      "Requirement already satisfied: tenacity>=6.2.0 in e:\\anaconda3\\envs\\python_ds\\lib\\site-packages (from plotly) (8.0.1)\n",
      "Note: you may need to restart the kernel to use updated packages.\n"
     ]
    }
   ],
   "source": [
    "pip install plotly"
   ]
  },
  {
   "cell_type": "code",
   "execution_count": 1,
   "id": "3bb35aac",
   "metadata": {},
   "outputs": [],
   "source": [
    "import numpy as np\n",
    "import pandas as pd\n",
    "import scipy.stats\n",
    "%matplotlib inline\n",
    "import matplotlib.pyplot as plt\n",
    "import seaborn as sns"
   ]
  },
  {
   "cell_type": "code",
   "execution_count": 2,
   "id": "79d82974",
   "metadata": {},
   "outputs": [],
   "source": [
    "import matplotlib.ticker as mtick\n",
    "import plotly.express as px\n",
    "sns.set(rc = {'figure.figsize':(15,8)})"
   ]
  },
  {
   "cell_type": "markdown",
   "id": "b76205f8",
   "metadata": {},
   "source": [
    "Lecture des données"
   ]
  },
  {
   "cell_type": "code",
   "execution_count": 3,
   "id": "7c808d73",
   "metadata": {},
   "outputs": [
    {
     "data": {
      "text/html": [
       "<div>\n",
       "<style scoped>\n",
       "    .dataframe tbody tr th:only-of-type {\n",
       "        vertical-align: middle;\n",
       "    }\n",
       "\n",
       "    .dataframe tbody tr th {\n",
       "        vertical-align: top;\n",
       "    }\n",
       "\n",
       "    .dataframe thead th {\n",
       "        text-align: right;\n",
       "    }\n",
       "</style>\n",
       "<table border=\"1\" class=\"dataframe\">\n",
       "  <thead>\n",
       "    <tr style=\"text-align: right;\">\n",
       "      <th></th>\n",
       "      <th>user_id</th>\n",
       "      <th>signup_time</th>\n",
       "      <th>purchase_time</th>\n",
       "      <th>purchase_value</th>\n",
       "      <th>device_id</th>\n",
       "      <th>source</th>\n",
       "      <th>browser</th>\n",
       "      <th>sex</th>\n",
       "      <th>age</th>\n",
       "      <th>ip_address</th>\n",
       "      <th>is_fraud</th>\n",
       "    </tr>\n",
       "  </thead>\n",
       "  <tbody>\n",
       "    <tr>\n",
       "      <th>0</th>\n",
       "      <td>22058</td>\n",
       "      <td>2015-02-24 22:55:49</td>\n",
       "      <td>2015-04-18 2:47:11</td>\n",
       "      <td>34</td>\n",
       "      <td>QVPSPJUOCKZAR</td>\n",
       "      <td>SEO</td>\n",
       "      <td>Chrome</td>\n",
       "      <td>M</td>\n",
       "      <td>39</td>\n",
       "      <td>7.327584e+08</td>\n",
       "      <td>0</td>\n",
       "    </tr>\n",
       "    <tr>\n",
       "      <th>1</th>\n",
       "      <td>333320</td>\n",
       "      <td>2015-06-07 20:39:50</td>\n",
       "      <td>2015-06-08 1:38:54</td>\n",
       "      <td>16</td>\n",
       "      <td>EOGFQPIZPYXFZ</td>\n",
       "      <td>Ads</td>\n",
       "      <td>Chrome</td>\n",
       "      <td>F</td>\n",
       "      <td>53</td>\n",
       "      <td>3.503114e+08</td>\n",
       "      <td>0</td>\n",
       "    </tr>\n",
       "    <tr>\n",
       "      <th>2</th>\n",
       "      <td>1359</td>\n",
       "      <td>2015-01-01 18:52:44</td>\n",
       "      <td>2015-01-01 18:52:45</td>\n",
       "      <td>15</td>\n",
       "      <td>YSSKYOSJHPPLJ</td>\n",
       "      <td>SEO</td>\n",
       "      <td>Opera</td>\n",
       "      <td>M</td>\n",
       "      <td>53</td>\n",
       "      <td>2.621474e+09</td>\n",
       "      <td>1</td>\n",
       "    </tr>\n",
       "    <tr>\n",
       "      <th>3</th>\n",
       "      <td>150084</td>\n",
       "      <td>2015-04-28 21:13:25</td>\n",
       "      <td>2015-05-04 13:54:50</td>\n",
       "      <td>44</td>\n",
       "      <td>ATGTXKYKUDUQN</td>\n",
       "      <td>SEO</td>\n",
       "      <td>Safari</td>\n",
       "      <td>M</td>\n",
       "      <td>41</td>\n",
       "      <td>3.840542e+09</td>\n",
       "      <td>0</td>\n",
       "    </tr>\n",
       "    <tr>\n",
       "      <th>4</th>\n",
       "      <td>221365</td>\n",
       "      <td>2015-07-21 7:09:52</td>\n",
       "      <td>2015-09-09 18:40:53</td>\n",
       "      <td>39</td>\n",
       "      <td>NAUITBZFJKHWW</td>\n",
       "      <td>Ads</td>\n",
       "      <td>Safari</td>\n",
       "      <td>M</td>\n",
       "      <td>45</td>\n",
       "      <td>4.155831e+08</td>\n",
       "      <td>0</td>\n",
       "    </tr>\n",
       "  </tbody>\n",
       "</table>\n",
       "</div>"
      ],
      "text/plain": [
       "   user_id          signup_time        purchase_time  purchase_value  \\\n",
       "0    22058  2015-02-24 22:55:49   2015-04-18 2:47:11              34   \n",
       "1   333320  2015-06-07 20:39:50   2015-06-08 1:38:54              16   \n",
       "2     1359  2015-01-01 18:52:44  2015-01-01 18:52:45              15   \n",
       "3   150084  2015-04-28 21:13:25  2015-05-04 13:54:50              44   \n",
       "4   221365   2015-07-21 7:09:52  2015-09-09 18:40:53              39   \n",
       "\n",
       "       device_id source browser sex  age    ip_address  is_fraud  \n",
       "0  QVPSPJUOCKZAR    SEO  Chrome   M   39  7.327584e+08         0  \n",
       "1  EOGFQPIZPYXFZ    Ads  Chrome   F   53  3.503114e+08         0  \n",
       "2  YSSKYOSJHPPLJ    SEO   Opera   M   53  2.621474e+09         1  \n",
       "3  ATGTXKYKUDUQN    SEO  Safari   M   41  3.840542e+09         0  \n",
       "4  NAUITBZFJKHWW    Ads  Safari   M   45  4.155831e+08         0  "
      ]
     },
     "execution_count": 3,
     "metadata": {},
     "output_type": "execute_result"
    }
   ],
   "source": [
    "df = pd.read_csv('E:/Formation/Data_Science/Projets_DataScientest/fraud_detection/fraud.csv')\n",
    "# affichage des 5 premières lignes\n",
    "df.head()"
   ]
  },
  {
   "cell_type": "code",
   "execution_count": 4,
   "id": "26ae65cb",
   "metadata": {},
   "outputs": [
    {
     "data": {
      "text/html": [
       "<div>\n",
       "<style scoped>\n",
       "    .dataframe tbody tr th:only-of-type {\n",
       "        vertical-align: middle;\n",
       "    }\n",
       "\n",
       "    .dataframe tbody tr th {\n",
       "        vertical-align: top;\n",
       "    }\n",
       "\n",
       "    .dataframe thead th {\n",
       "        text-align: right;\n",
       "    }\n",
       "</style>\n",
       "<table border=\"1\" class=\"dataframe\">\n",
       "  <thead>\n",
       "    <tr style=\"text-align: right;\">\n",
       "      <th></th>\n",
       "      <th>user_id</th>\n",
       "      <th>signup_time</th>\n",
       "      <th>purchase_time</th>\n",
       "      <th>purchase_value</th>\n",
       "      <th>device_id</th>\n",
       "      <th>source</th>\n",
       "      <th>browser</th>\n",
       "      <th>sex</th>\n",
       "      <th>age</th>\n",
       "      <th>ip_address</th>\n",
       "      <th>is_fraud</th>\n",
       "    </tr>\n",
       "  </thead>\n",
       "  <tbody>\n",
       "    <tr>\n",
       "      <th>151107</th>\n",
       "      <td>345170</td>\n",
       "      <td>2015-01-27 3:03:34</td>\n",
       "      <td>2015-03-29 0:30:47</td>\n",
       "      <td>43</td>\n",
       "      <td>XPSKTWGPWINLR</td>\n",
       "      <td>SEO</td>\n",
       "      <td>Chrome</td>\n",
       "      <td>M</td>\n",
       "      <td>28</td>\n",
       "      <td>3.451155e+09</td>\n",
       "      <td>1</td>\n",
       "    </tr>\n",
       "    <tr>\n",
       "      <th>151108</th>\n",
       "      <td>274471</td>\n",
       "      <td>2015-05-15 17:43:29</td>\n",
       "      <td>2015-05-26 12:24:39</td>\n",
       "      <td>35</td>\n",
       "      <td>LYSFABUCPCGBA</td>\n",
       "      <td>SEO</td>\n",
       "      <td>Safari</td>\n",
       "      <td>M</td>\n",
       "      <td>32</td>\n",
       "      <td>2.439047e+09</td>\n",
       "      <td>0</td>\n",
       "    </tr>\n",
       "    <tr>\n",
       "      <th>151109</th>\n",
       "      <td>368416</td>\n",
       "      <td>2015-03-03 23:07:31</td>\n",
       "      <td>2015-05-20 7:07:47</td>\n",
       "      <td>40</td>\n",
       "      <td>MEQHCSJUBRBFE</td>\n",
       "      <td>SEO</td>\n",
       "      <td>IE</td>\n",
       "      <td>F</td>\n",
       "      <td>26</td>\n",
       "      <td>2.748471e+09</td>\n",
       "      <td>0</td>\n",
       "    </tr>\n",
       "    <tr>\n",
       "      <th>151110</th>\n",
       "      <td>207709</td>\n",
       "      <td>2015-07-09 20:06:07</td>\n",
       "      <td>2015-09-07 9:34:46</td>\n",
       "      <td>46</td>\n",
       "      <td>CMCXFGRHYSTVJ</td>\n",
       "      <td>SEO</td>\n",
       "      <td>Chrome</td>\n",
       "      <td>M</td>\n",
       "      <td>37</td>\n",
       "      <td>3.601175e+09</td>\n",
       "      <td>0</td>\n",
       "    </tr>\n",
       "    <tr>\n",
       "      <th>151111</th>\n",
       "      <td>138208</td>\n",
       "      <td>2015-06-10 7:02:20</td>\n",
       "      <td>2015-07-21 2:03:53</td>\n",
       "      <td>20</td>\n",
       "      <td>ZINIADFCLHYPG</td>\n",
       "      <td>Direct</td>\n",
       "      <td>IE</td>\n",
       "      <td>M</td>\n",
       "      <td>38</td>\n",
       "      <td>4.103825e+09</td>\n",
       "      <td>0</td>\n",
       "    </tr>\n",
       "  </tbody>\n",
       "</table>\n",
       "</div>"
      ],
      "text/plain": [
       "        user_id          signup_time        purchase_time  purchase_value  \\\n",
       "151107   345170   2015-01-27 3:03:34   2015-03-29 0:30:47              43   \n",
       "151108   274471  2015-05-15 17:43:29  2015-05-26 12:24:39              35   \n",
       "151109   368416  2015-03-03 23:07:31   2015-05-20 7:07:47              40   \n",
       "151110   207709  2015-07-09 20:06:07   2015-09-07 9:34:46              46   \n",
       "151111   138208   2015-06-10 7:02:20   2015-07-21 2:03:53              20   \n",
       "\n",
       "            device_id  source browser sex  age    ip_address  is_fraud  \n",
       "151107  XPSKTWGPWINLR     SEO  Chrome   M   28  3.451155e+09         1  \n",
       "151108  LYSFABUCPCGBA     SEO  Safari   M   32  2.439047e+09         0  \n",
       "151109  MEQHCSJUBRBFE     SEO      IE   F   26  2.748471e+09         0  \n",
       "151110  CMCXFGRHYSTVJ     SEO  Chrome   M   37  3.601175e+09         0  \n",
       "151111  ZINIADFCLHYPG  Direct      IE   M   38  4.103825e+09         0  "
      ]
     },
     "execution_count": 4,
     "metadata": {},
     "output_type": "execute_result"
    }
   ],
   "source": [
    "# affichage des 5 dernières lignes\n",
    "df.tail()"
   ]
  },
  {
   "cell_type": "code",
   "execution_count": 10,
   "id": "10a3ba50",
   "metadata": {},
   "outputs": [
    {
     "name": "stdout",
     "output_type": "stream",
     "text": [
      "(151112, 11)\n"
     ]
    }
   ],
   "source": [
    "# affichage de la taille du jeu de données\n",
    "print(df.shape)\n",
    "# le jeu de données se compose de 151112 lignes et 11 colonnes"
   ]
  },
  {
   "cell_type": "code",
   "execution_count": 11,
   "id": "d8d10664",
   "metadata": {},
   "outputs": [
    {
     "data": {
      "text/plain": [
       "user_id           151112\n",
       "signup_time       151112\n",
       "purchase_time     151112\n",
       "purchase_value    151112\n",
       "device_id         151112\n",
       "source            151112\n",
       "browser           151112\n",
       "sex               151112\n",
       "age               151112\n",
       "ip_address        151112\n",
       "is_fraud          151112\n",
       "dtype: int64"
      ]
     },
     "execution_count": 11,
     "metadata": {},
     "output_type": "execute_result"
    }
   ],
   "source": [
    "# vérification du nombre de données\n",
    "df.count()"
   ]
  },
  {
   "cell_type": "code",
   "execution_count": 12,
   "id": "42418c3b",
   "metadata": {},
   "outputs": [
    {
     "name": "stdout",
     "output_type": "stream",
     "text": [
      "<class 'pandas.core.frame.DataFrame'>\n",
      "RangeIndex: 151112 entries, 0 to 151111\n",
      "Data columns (total 11 columns):\n",
      " #   Column          Non-Null Count   Dtype  \n",
      "---  ------          --------------   -----  \n",
      " 0   user_id         151112 non-null  int64  \n",
      " 1   signup_time     151112 non-null  object \n",
      " 2   purchase_time   151112 non-null  object \n",
      " 3   purchase_value  151112 non-null  int64  \n",
      " 4   device_id       151112 non-null  object \n",
      " 5   source          151112 non-null  object \n",
      " 6   browser         151112 non-null  object \n",
      " 7   sex             151112 non-null  object \n",
      " 8   age             151112 non-null  int64  \n",
      " 9   ip_address      151112 non-null  float64\n",
      " 10  is_fraud        151112 non-null  int64  \n",
      "dtypes: float64(1), int64(4), object(6)\n",
      "memory usage: 12.7+ MB\n"
     ]
    }
   ],
   "source": [
    "# quelques informations sur le type des variables\n",
    "df.info()"
   ]
  },
  {
   "cell_type": "code",
   "execution_count": 13,
   "id": "852495e2",
   "metadata": {},
   "outputs": [
    {
     "data": {
      "text/plain": [
       "['user_id',\n",
       " 'signup_time',\n",
       " 'purchase_time',\n",
       " 'purchase_value',\n",
       " 'device_id',\n",
       " 'source',\n",
       " 'browser',\n",
       " 'sex',\n",
       " 'age',\n",
       " 'ip_address',\n",
       " 'is_fraud']"
      ]
     },
     "execution_count": 13,
     "metadata": {},
     "output_type": "execute_result"
    }
   ],
   "source": [
    "# affichage du nom des variables\n",
    "list(df.columns)"
   ]
  },
  {
   "cell_type": "code",
   "execution_count": 8,
   "id": "61867fe6",
   "metadata": {},
   "outputs": [
    {
     "data": {
      "text/html": [
       "<div>\n",
       "<style scoped>\n",
       "    .dataframe tbody tr th:only-of-type {\n",
       "        vertical-align: middle;\n",
       "    }\n",
       "\n",
       "    .dataframe tbody tr th {\n",
       "        vertical-align: top;\n",
       "    }\n",
       "\n",
       "    .dataframe thead th {\n",
       "        text-align: right;\n",
       "    }\n",
       "</style>\n",
       "<table border=\"1\" class=\"dataframe\">\n",
       "  <thead>\n",
       "    <tr style=\"text-align: right;\">\n",
       "      <th></th>\n",
       "      <th>user_id</th>\n",
       "      <th>device_id</th>\n",
       "      <th>source</th>\n",
       "      <th>browser</th>\n",
       "      <th>sex</th>\n",
       "      <th>age</th>\n",
       "      <th>ip_address</th>\n",
       "      <th>is_fraud</th>\n",
       "    </tr>\n",
       "  </thead>\n",
       "  <tbody>\n",
       "    <tr>\n",
       "      <th>0</th>\n",
       "      <td>22058</td>\n",
       "      <td>QVPSPJUOCKZAR</td>\n",
       "      <td>SEO</td>\n",
       "      <td>Chrome</td>\n",
       "      <td>M</td>\n",
       "      <td>39</td>\n",
       "      <td>7.327584e+08</td>\n",
       "      <td>0</td>\n",
       "    </tr>\n",
       "    <tr>\n",
       "      <th>1</th>\n",
       "      <td>333320</td>\n",
       "      <td>EOGFQPIZPYXFZ</td>\n",
       "      <td>Ads</td>\n",
       "      <td>Chrome</td>\n",
       "      <td>F</td>\n",
       "      <td>53</td>\n",
       "      <td>3.503114e+08</td>\n",
       "      <td>0</td>\n",
       "    </tr>\n",
       "    <tr>\n",
       "      <th>2</th>\n",
       "      <td>1359</td>\n",
       "      <td>YSSKYOSJHPPLJ</td>\n",
       "      <td>SEO</td>\n",
       "      <td>Opera</td>\n",
       "      <td>M</td>\n",
       "      <td>53</td>\n",
       "      <td>2.621474e+09</td>\n",
       "      <td>1</td>\n",
       "    </tr>\n",
       "    <tr>\n",
       "      <th>3</th>\n",
       "      <td>150084</td>\n",
       "      <td>ATGTXKYKUDUQN</td>\n",
       "      <td>SEO</td>\n",
       "      <td>Safari</td>\n",
       "      <td>M</td>\n",
       "      <td>41</td>\n",
       "      <td>3.840542e+09</td>\n",
       "      <td>0</td>\n",
       "    </tr>\n",
       "    <tr>\n",
       "      <th>4</th>\n",
       "      <td>221365</td>\n",
       "      <td>NAUITBZFJKHWW</td>\n",
       "      <td>Ads</td>\n",
       "      <td>Safari</td>\n",
       "      <td>M</td>\n",
       "      <td>45</td>\n",
       "      <td>4.155831e+08</td>\n",
       "      <td>0</td>\n",
       "    </tr>\n",
       "  </tbody>\n",
       "</table>\n",
       "</div>"
      ],
      "text/plain": [
       "   user_id      device_id source browser sex  age    ip_address  is_fraud\n",
       "0    22058  QVPSPJUOCKZAR    SEO  Chrome   M   39  7.327584e+08         0\n",
       "1   333320  EOGFQPIZPYXFZ    Ads  Chrome   F   53  3.503114e+08         0\n",
       "2     1359  YSSKYOSJHPPLJ    SEO   Opera   M   53  2.621474e+09         1\n",
       "3   150084  ATGTXKYKUDUQN    SEO  Safari   M   41  3.840542e+09         0\n",
       "4   221365  NAUITBZFJKHWW    Ads  Safari   M   45  4.155831e+08         0"
      ]
     },
     "execution_count": 8,
     "metadata": {},
     "output_type": "execute_result"
    }
   ],
   "source": [
    "# Extraction des variables catégorielles ou qualitatives\n",
    "cat_var_names = ['user_id','device_id','source','browser','sex','age','ip_address','is_fraud']\n",
    "df_cat = df[cat_var_names]\n",
    "df_cat.head()"
   ]
  },
  {
   "cell_type": "markdown",
   "id": "383ed7e4",
   "metadata": {},
   "source": [
    "Traitement des variables temporelles"
   ]
  },
  {
   "cell_type": "code",
   "execution_count": 9,
   "id": "a0e9c1cb",
   "metadata": {},
   "outputs": [
    {
     "data": {
      "text/html": [
       "<div>\n",
       "<style scoped>\n",
       "    .dataframe tbody tr th:only-of-type {\n",
       "        vertical-align: middle;\n",
       "    }\n",
       "\n",
       "    .dataframe tbody tr th {\n",
       "        vertical-align: top;\n",
       "    }\n",
       "\n",
       "    .dataframe thead th {\n",
       "        text-align: right;\n",
       "    }\n",
       "</style>\n",
       "<table border=\"1\" class=\"dataframe\">\n",
       "  <thead>\n",
       "    <tr style=\"text-align: right;\">\n",
       "      <th></th>\n",
       "      <th>signup_time</th>\n",
       "      <th>purchase_time</th>\n",
       "    </tr>\n",
       "  </thead>\n",
       "  <tbody>\n",
       "    <tr>\n",
       "      <th>0</th>\n",
       "      <td>2015-02-24 22:55:49</td>\n",
       "      <td>2015-04-18 2:47:11</td>\n",
       "    </tr>\n",
       "    <tr>\n",
       "      <th>1</th>\n",
       "      <td>2015-06-07 20:39:50</td>\n",
       "      <td>2015-06-08 1:38:54</td>\n",
       "    </tr>\n",
       "    <tr>\n",
       "      <th>2</th>\n",
       "      <td>2015-01-01 18:52:44</td>\n",
       "      <td>2015-01-01 18:52:45</td>\n",
       "    </tr>\n",
       "    <tr>\n",
       "      <th>3</th>\n",
       "      <td>2015-04-28 21:13:25</td>\n",
       "      <td>2015-05-04 13:54:50</td>\n",
       "    </tr>\n",
       "    <tr>\n",
       "      <th>4</th>\n",
       "      <td>2015-07-21 7:09:52</td>\n",
       "      <td>2015-09-09 18:40:53</td>\n",
       "    </tr>\n",
       "  </tbody>\n",
       "</table>\n",
       "</div>"
      ],
      "text/plain": [
       "           signup_time        purchase_time\n",
       "0  2015-02-24 22:55:49   2015-04-18 2:47:11\n",
       "1  2015-06-07 20:39:50   2015-06-08 1:38:54\n",
       "2  2015-01-01 18:52:44  2015-01-01 18:52:45\n",
       "3  2015-04-28 21:13:25  2015-05-04 13:54:50\n",
       "4   2015-07-21 7:09:52  2015-09-09 18:40:53"
      ]
     },
     "execution_count": 9,
     "metadata": {},
     "output_type": "execute_result"
    }
   ],
   "source": [
    "temp_var = ['signup_time','purchase_time']\n",
    "df_temp = df[temp_var]\n",
    "df_temp.head()"
   ]
  },
  {
   "cell_type": "markdown",
   "id": "b054c69d",
   "metadata": {},
   "source": [
    "Traitement des variables temporelles"
   ]
  },
  {
   "cell_type": "code",
   "execution_count": 10,
   "id": "4e51258e",
   "metadata": {},
   "outputs": [],
   "source": [
    "import datetime"
   ]
  },
  {
   "cell_type": "code",
   "execution_count": 4,
   "id": "c04468b9",
   "metadata": {},
   "outputs": [],
   "source": [
    "df['signup_time'] = pd.to_datetime(df['signup_time'], \n",
    " format = '%Y-%m-%dT%H:%M:%S')"
   ]
  },
  {
   "cell_type": "code",
   "execution_count": 5,
   "id": "37dfdb0e",
   "metadata": {},
   "outputs": [],
   "source": [
    "df['purchase_time'] = pd.to_datetime(df['signup_time'], \n",
    " format = '%Y-%m-%dT%H:%M:%S')"
   ]
  },
  {
   "cell_type": "markdown",
   "id": "8f134923",
   "metadata": {},
   "source": [
    "Vérification des doublons"
   ]
  },
  {
   "cell_type": "code",
   "execution_count": 13,
   "id": "2bacef7a",
   "metadata": {},
   "outputs": [
    {
     "data": {
      "text/plain": [
       "0"
      ]
     },
     "execution_count": 13,
     "metadata": {},
     "output_type": "execute_result"
    }
   ],
   "source": [
    "df.duplicated().sum()"
   ]
  },
  {
   "cell_type": "markdown",
   "id": "a0f9fcdb",
   "metadata": {},
   "source": [
    "Détection des valeurs manquantes"
   ]
  },
  {
   "cell_type": "code",
   "execution_count": 14,
   "id": "2878f771",
   "metadata": {},
   "outputs": [
    {
     "data": {
      "text/plain": [
       "user_id           False\n",
       "signup_time       False\n",
       "purchase_time     False\n",
       "purchase_value    False\n",
       "device_id         False\n",
       "source            False\n",
       "browser           False\n",
       "sex               False\n",
       "age               False\n",
       "ip_address        False\n",
       "is_fraud          False\n",
       "dtype: bool"
      ]
     },
     "execution_count": 14,
     "metadata": {},
     "output_type": "execute_result"
    }
   ],
   "source": [
    "# detection des colonnes avec valeurs manquantes\n",
    "df.isna().any(axis = 0)"
   ]
  },
  {
   "cell_type": "code",
   "execution_count": 15,
   "id": "728e2a17",
   "metadata": {},
   "outputs": [
    {
     "data": {
      "text/plain": [
       "0         False\n",
       "1         False\n",
       "2         False\n",
       "3         False\n",
       "4         False\n",
       "          ...  \n",
       "151107    False\n",
       "151108    False\n",
       "151109    False\n",
       "151110    False\n",
       "151111    False\n",
       "Length: 151112, dtype: bool"
      ]
     },
     "execution_count": 15,
     "metadata": {},
     "output_type": "execute_result"
    }
   ],
   "source": [
    "# detection des lignes avec des valeurs manquantes\n",
    "df.isna().any(axis = 1)"
   ]
  },
  {
   "cell_type": "code",
   "execution_count": 16,
   "id": "1659fd7a",
   "metadata": {},
   "outputs": [
    {
     "data": {
      "text/html": [
       "<div>\n",
       "<style scoped>\n",
       "    .dataframe tbody tr th:only-of-type {\n",
       "        vertical-align: middle;\n",
       "    }\n",
       "\n",
       "    .dataframe tbody tr th {\n",
       "        vertical-align: top;\n",
       "    }\n",
       "\n",
       "    .dataframe thead th {\n",
       "        text-align: right;\n",
       "    }\n",
       "</style>\n",
       "<table border=\"1\" class=\"dataframe\">\n",
       "  <thead>\n",
       "    <tr style=\"text-align: right;\">\n",
       "      <th></th>\n",
       "      <th>user_id</th>\n",
       "      <th>signup_time</th>\n",
       "      <th>purchase_time</th>\n",
       "      <th>purchase_value</th>\n",
       "      <th>device_id</th>\n",
       "      <th>source</th>\n",
       "      <th>browser</th>\n",
       "      <th>sex</th>\n",
       "      <th>age</th>\n",
       "      <th>ip_address</th>\n",
       "      <th>is_fraud</th>\n",
       "    </tr>\n",
       "  </thead>\n",
       "  <tbody>\n",
       "  </tbody>\n",
       "</table>\n",
       "</div>"
      ],
      "text/plain": [
       "Empty DataFrame\n",
       "Columns: [user_id, signup_time, purchase_time, purchase_value, device_id, source, browser, sex, age, ip_address, is_fraud]\n",
       "Index: []"
      ]
     },
     "execution_count": 16,
     "metadata": {},
     "output_type": "execute_result"
    }
   ],
   "source": [
    "# affichage des lignes contenant des valeurs manquantes\n",
    "df[df.isna().any(axis=1)]"
   ]
  },
  {
   "cell_type": "code",
   "execution_count": 17,
   "id": "a0307897",
   "metadata": {},
   "outputs": [
    {
     "data": {
      "text/plain": [
       "user_id           0\n",
       "signup_time       0\n",
       "purchase_time     0\n",
       "purchase_value    0\n",
       "device_id         0\n",
       "source            0\n",
       "browser           0\n",
       "sex               0\n",
       "age               0\n",
       "ip_address        0\n",
       "is_fraud          0\n",
       "dtype: int64"
      ]
     },
     "execution_count": 17,
     "metadata": {},
     "output_type": "execute_result"
    }
   ],
   "source": [
    "# comptage des valeurs manquantes pour chaque colonne\n",
    "df.isnull().sum(axis=0)"
   ]
  },
  {
   "cell_type": "code",
   "execution_count": 18,
   "id": "1e032a29",
   "metadata": {},
   "outputs": [
    {
     "data": {
      "text/plain": [
       "0         0\n",
       "1         0\n",
       "2         0\n",
       "3         0\n",
       "4         0\n",
       "         ..\n",
       "151107    0\n",
       "151108    0\n",
       "151109    0\n",
       "151110    0\n",
       "151111    0\n",
       "Length: 151112, dtype: int64"
      ]
     },
     "execution_count": 18,
     "metadata": {},
     "output_type": "execute_result"
    }
   ],
   "source": [
    "# comptage des valeurs manquantes pour chaque ligne\n",
    "df.isnull().sum(axis=1)"
   ]
  },
  {
   "cell_type": "markdown",
   "id": "632ffc9a",
   "metadata": {},
   "source": [
    "Aucunes valeurs manquantes"
   ]
  },
  {
   "cell_type": "code",
   "execution_count": 19,
   "id": "0672eb4b",
   "metadata": {},
   "outputs": [
    {
     "data": {
      "text/plain": [
       "2049      1\n",
       "237601    1\n",
       "154782    1\n",
       "345459    1\n",
       "192523    1\n",
       "         ..\n",
       "320544    1\n",
       "298171    1\n",
       "326366    1\n",
       "304318    1\n",
       "264191    1\n",
       "Name: user_id, Length: 151112, dtype: int64"
      ]
     },
     "execution_count": 19,
     "metadata": {},
     "output_type": "execute_result"
    }
   ],
   "source": [
    "# nombre de valeurs uniques\n",
    "df.user_id.value_counts()"
   ]
  },
  {
   "cell_type": "code",
   "execution_count": 20,
   "id": "811bcb27",
   "metadata": {},
   "outputs": [
    {
     "data": {
      "text/plain": [
       "ITUMJCKWEYNDD    20\n",
       "EQYVNEGOFLAWK    20\n",
       "KIPFSCNUGOLDP    20\n",
       "CQTUVBYIWWWBC    20\n",
       "NGQCKIADMZORL    20\n",
       "                 ..\n",
       "VPEUEJFIDDCLK     1\n",
       "NOACFFLBQZAAF     1\n",
       "WIDIMIQBWLAGU     1\n",
       "WGHUWXVSEVEEU     1\n",
       "IUITTODHUDENZ     1\n",
       "Name: device_id, Length: 137956, dtype: int64"
      ]
     },
     "execution_count": 20,
     "metadata": {},
     "output_type": "execute_result"
    }
   ],
   "source": [
    "# nombre de valeurs uniques\n",
    "df.device_id.value_counts()"
   ]
  },
  {
   "cell_type": "code",
   "execution_count": 27,
   "id": "9427878d",
   "metadata": {},
   "outputs": [
    {
     "data": {
      "text/plain": [
       "1.502818e+09    20\n",
       "2.050964e+09    20\n",
       "5.760609e+08    20\n",
       "3.874758e+09    20\n",
       "3.058785e+09    19\n",
       "                ..\n",
       "8.134860e+08     1\n",
       "1.812482e+09     1\n",
       "2.891885e+08     1\n",
       "1.528637e+09     1\n",
       "1.464834e+09     1\n",
       "Name: ip_address, Length: 143511, dtype: int64"
      ]
     },
     "execution_count": 27,
     "metadata": {},
     "output_type": "execute_result"
    }
   ],
   "source": [
    "df.ip_address.value_counts()"
   ]
  },
  {
   "cell_type": "code",
   "execution_count": 28,
   "id": "eb04edb2",
   "metadata": {},
   "outputs": [
    {
     "data": {
      "text/plain": [
       "SEO       60615\n",
       "Ads       59881\n",
       "Direct    30616\n",
       "Name: source, dtype: int64"
      ]
     },
     "execution_count": 28,
     "metadata": {},
     "output_type": "execute_result"
    }
   ],
   "source": [
    "df.source.value_counts()"
   ]
  },
  {
   "cell_type": "code",
   "execution_count": 29,
   "id": "36008b80",
   "metadata": {},
   "outputs": [
    {
     "data": {
      "text/plain": [
       "Chrome     61432\n",
       "IE         36727\n",
       "Safari     24667\n",
       "FireFox    24610\n",
       "Opera       3676\n",
       "Name: browser, dtype: int64"
      ]
     },
     "execution_count": 29,
     "metadata": {},
     "output_type": "execute_result"
    }
   ],
   "source": [
    "df.browser.value_counts()"
   ]
  },
  {
   "cell_type": "markdown",
   "id": "96177565",
   "metadata": {},
   "source": [
    "Les variables, user_id, device_id, ip_address ne seront pas utiles pour la modélisation, elles peuvent être supprimées"
   ]
  },
  {
   "cell_type": "code",
   "execution_count": 6,
   "id": "6906291e",
   "metadata": {},
   "outputs": [],
   "source": [
    "df = df.drop(['user_id', 'device_id', 'ip_address'], axis = 1)"
   ]
  },
  {
   "cell_type": "code",
   "execution_count": 7,
   "id": "9a30c45a",
   "metadata": {},
   "outputs": [
    {
     "data": {
      "text/html": [
       "<div>\n",
       "<style scoped>\n",
       "    .dataframe tbody tr th:only-of-type {\n",
       "        vertical-align: middle;\n",
       "    }\n",
       "\n",
       "    .dataframe tbody tr th {\n",
       "        vertical-align: top;\n",
       "    }\n",
       "\n",
       "    .dataframe thead th {\n",
       "        text-align: right;\n",
       "    }\n",
       "</style>\n",
       "<table border=\"1\" class=\"dataframe\">\n",
       "  <thead>\n",
       "    <tr style=\"text-align: right;\">\n",
       "      <th></th>\n",
       "      <th>signup_time</th>\n",
       "      <th>purchase_time</th>\n",
       "      <th>purchase_value</th>\n",
       "      <th>source</th>\n",
       "      <th>browser</th>\n",
       "      <th>sex</th>\n",
       "      <th>age</th>\n",
       "      <th>is_fraud</th>\n",
       "    </tr>\n",
       "  </thead>\n",
       "  <tbody>\n",
       "    <tr>\n",
       "      <th>0</th>\n",
       "      <td>2015-02-24 22:55:49</td>\n",
       "      <td>2015-02-24 22:55:49</td>\n",
       "      <td>34</td>\n",
       "      <td>SEO</td>\n",
       "      <td>Chrome</td>\n",
       "      <td>M</td>\n",
       "      <td>39</td>\n",
       "      <td>0</td>\n",
       "    </tr>\n",
       "    <tr>\n",
       "      <th>1</th>\n",
       "      <td>2015-06-07 20:39:50</td>\n",
       "      <td>2015-06-07 20:39:50</td>\n",
       "      <td>16</td>\n",
       "      <td>Ads</td>\n",
       "      <td>Chrome</td>\n",
       "      <td>F</td>\n",
       "      <td>53</td>\n",
       "      <td>0</td>\n",
       "    </tr>\n",
       "    <tr>\n",
       "      <th>2</th>\n",
       "      <td>2015-01-01 18:52:44</td>\n",
       "      <td>2015-01-01 18:52:44</td>\n",
       "      <td>15</td>\n",
       "      <td>SEO</td>\n",
       "      <td>Opera</td>\n",
       "      <td>M</td>\n",
       "      <td>53</td>\n",
       "      <td>1</td>\n",
       "    </tr>\n",
       "    <tr>\n",
       "      <th>3</th>\n",
       "      <td>2015-04-28 21:13:25</td>\n",
       "      <td>2015-04-28 21:13:25</td>\n",
       "      <td>44</td>\n",
       "      <td>SEO</td>\n",
       "      <td>Safari</td>\n",
       "      <td>M</td>\n",
       "      <td>41</td>\n",
       "      <td>0</td>\n",
       "    </tr>\n",
       "    <tr>\n",
       "      <th>4</th>\n",
       "      <td>2015-07-21 07:09:52</td>\n",
       "      <td>2015-07-21 07:09:52</td>\n",
       "      <td>39</td>\n",
       "      <td>Ads</td>\n",
       "      <td>Safari</td>\n",
       "      <td>M</td>\n",
       "      <td>45</td>\n",
       "      <td>0</td>\n",
       "    </tr>\n",
       "  </tbody>\n",
       "</table>\n",
       "</div>"
      ],
      "text/plain": [
       "          signup_time       purchase_time  purchase_value source browser sex  \\\n",
       "0 2015-02-24 22:55:49 2015-02-24 22:55:49              34    SEO  Chrome   M   \n",
       "1 2015-06-07 20:39:50 2015-06-07 20:39:50              16    Ads  Chrome   F   \n",
       "2 2015-01-01 18:52:44 2015-01-01 18:52:44              15    SEO   Opera   M   \n",
       "3 2015-04-28 21:13:25 2015-04-28 21:13:25              44    SEO  Safari   M   \n",
       "4 2015-07-21 07:09:52 2015-07-21 07:09:52              39    Ads  Safari   M   \n",
       "\n",
       "   age  is_fraud  \n",
       "0   39         0  \n",
       "1   53         0  \n",
       "2   53         1  \n",
       "3   41         0  \n",
       "4   45         0  "
      ]
     },
     "execution_count": 7,
     "metadata": {},
     "output_type": "execute_result"
    }
   ],
   "source": [
    "df.head()"
   ]
  },
  {
   "cell_type": "markdown",
   "id": "881bf710",
   "metadata": {},
   "source": [
    "Traitement des variables quantitatives"
   ]
  },
  {
   "cell_type": "code",
   "execution_count": 7,
   "id": "a0af6024",
   "metadata": {},
   "outputs": [
    {
     "data": {
      "text/html": [
       "<div>\n",
       "<style scoped>\n",
       "    .dataframe tbody tr th:only-of-type {\n",
       "        vertical-align: middle;\n",
       "    }\n",
       "\n",
       "    .dataframe tbody tr th {\n",
       "        vertical-align: top;\n",
       "    }\n",
       "\n",
       "    .dataframe thead th {\n",
       "        text-align: right;\n",
       "    }\n",
       "</style>\n",
       "<table border=\"1\" class=\"dataframe\">\n",
       "  <thead>\n",
       "    <tr style=\"text-align: right;\">\n",
       "      <th></th>\n",
       "      <th>purchase_value</th>\n",
       "      <th>age</th>\n",
       "    </tr>\n",
       "  </thead>\n",
       "  <tbody>\n",
       "    <tr>\n",
       "      <th>0</th>\n",
       "      <td>34</td>\n",
       "      <td>39</td>\n",
       "    </tr>\n",
       "    <tr>\n",
       "      <th>1</th>\n",
       "      <td>16</td>\n",
       "      <td>53</td>\n",
       "    </tr>\n",
       "    <tr>\n",
       "      <th>2</th>\n",
       "      <td>15</td>\n",
       "      <td>53</td>\n",
       "    </tr>\n",
       "    <tr>\n",
       "      <th>3</th>\n",
       "      <td>44</td>\n",
       "      <td>41</td>\n",
       "    </tr>\n",
       "    <tr>\n",
       "      <th>4</th>\n",
       "      <td>39</td>\n",
       "      <td>45</td>\n",
       "    </tr>\n",
       "  </tbody>\n",
       "</table>\n",
       "</div>"
      ],
      "text/plain": [
       "   purchase_value  age\n",
       "0              34   39\n",
       "1              16   53\n",
       "2              15   53\n",
       "3              44   41\n",
       "4              39   45"
      ]
     },
     "execution_count": 7,
     "metadata": {},
     "output_type": "execute_result"
    }
   ],
   "source": [
    "# Extraction des variables quantitatives\n",
    "num_var_names = ['purchase_value','age']\n",
    "df_num = df[num_var_names]\n",
    "df_num.head()"
   ]
  },
  {
   "cell_type": "code",
   "execution_count": 8,
   "id": "1bcf06a7",
   "metadata": {},
   "outputs": [
    {
     "data": {
      "text/html": [
       "<div>\n",
       "<style scoped>\n",
       "    .dataframe tbody tr th:only-of-type {\n",
       "        vertical-align: middle;\n",
       "    }\n",
       "\n",
       "    .dataframe tbody tr th {\n",
       "        vertical-align: top;\n",
       "    }\n",
       "\n",
       "    .dataframe thead th {\n",
       "        text-align: right;\n",
       "    }\n",
       "</style>\n",
       "<table border=\"1\" class=\"dataframe\">\n",
       "  <thead>\n",
       "    <tr style=\"text-align: right;\">\n",
       "      <th></th>\n",
       "      <th>purchase_value</th>\n",
       "      <th>age</th>\n",
       "    </tr>\n",
       "  </thead>\n",
       "  <tbody>\n",
       "    <tr>\n",
       "      <th>count</th>\n",
       "      <td>151112.000000</td>\n",
       "      <td>151112.000000</td>\n",
       "    </tr>\n",
       "    <tr>\n",
       "      <th>mean</th>\n",
       "      <td>36.935372</td>\n",
       "      <td>33.140704</td>\n",
       "    </tr>\n",
       "    <tr>\n",
       "      <th>std</th>\n",
       "      <td>18.322762</td>\n",
       "      <td>8.617733</td>\n",
       "    </tr>\n",
       "    <tr>\n",
       "      <th>min</th>\n",
       "      <td>9.000000</td>\n",
       "      <td>18.000000</td>\n",
       "    </tr>\n",
       "    <tr>\n",
       "      <th>25%</th>\n",
       "      <td>22.000000</td>\n",
       "      <td>27.000000</td>\n",
       "    </tr>\n",
       "    <tr>\n",
       "      <th>50%</th>\n",
       "      <td>35.000000</td>\n",
       "      <td>33.000000</td>\n",
       "    </tr>\n",
       "    <tr>\n",
       "      <th>75%</th>\n",
       "      <td>49.000000</td>\n",
       "      <td>39.000000</td>\n",
       "    </tr>\n",
       "    <tr>\n",
       "      <th>max</th>\n",
       "      <td>154.000000</td>\n",
       "      <td>76.000000</td>\n",
       "    </tr>\n",
       "  </tbody>\n",
       "</table>\n",
       "</div>"
      ],
      "text/plain": [
       "       purchase_value            age\n",
       "count   151112.000000  151112.000000\n",
       "mean        36.935372      33.140704\n",
       "std         18.322762       8.617733\n",
       "min          9.000000      18.000000\n",
       "25%         22.000000      27.000000\n",
       "50%         35.000000      33.000000\n",
       "75%         49.000000      39.000000\n",
       "max        154.000000      76.000000"
      ]
     },
     "execution_count": 8,
     "metadata": {},
     "output_type": "execute_result"
    }
   ],
   "source": [
    "# description des variables quantitatives\n",
    "df_num.describe()"
   ]
  },
  {
   "cell_type": "code",
   "execution_count": 34,
   "id": "8e2e35fc",
   "metadata": {},
   "outputs": [
    {
     "data": {
      "text/plain": [
       "0.25    27.0\n",
       "0.50    33.0\n",
       "0.75    39.0\n",
       "Name: age, dtype: float64"
      ]
     },
     "execution_count": 34,
     "metadata": {},
     "output_type": "execute_result"
    }
   ],
   "source": [
    "df_num['age'].quantile(q=[0.25, 0.5, 0.75])"
   ]
  },
  {
   "cell_type": "markdown",
   "id": "0f731338",
   "metadata": {},
   "source": [
    "25% ont moins de 27 ans\n",
    "50% ont moins de 33 ans\n",
    "75% ont moins de 39 ans"
   ]
  },
  {
   "cell_type": "code",
   "execution_count": 35,
   "id": "c4b4202b",
   "metadata": {},
   "outputs": [
    {
     "data": {
      "image/png": "[encoded data removed]",
      "text/plain": [
       "<Figure size 1080x576 with 1 Axes>"
      ]
     },
     "metadata": {},
     "output_type": "display_data"
    }
   ],
   "source": [
    "# Regardons la répartition de la variable age\n",
    "df.age.hist(bins = 10);"
   ]
  },
  {
   "cell_type": "code",
   "execution_count": 36,
   "id": "c883d71a",
   "metadata": {},
   "outputs": [
    {
     "data": {
      "image/png": "[encoded data removed]",
      "text/plain": [
       "<Figure size 1080x576 with 1 Axes>"
      ]
     },
     "metadata": {},
     "output_type": "display_data"
    }
   ],
   "source": [
    "# boîte à moustache de la variable age\n",
    "plt.boxplot(df.age)\n",
    "plt.title('Boxplot de la variable age');"
   ]
  },
  {
   "cell_type": "markdown",
   "id": "676466cd",
   "metadata": {},
   "source": [
    "Quelques valeurs au-dessus de 60 ans"
   ]
  },
  {
   "cell_type": "code",
   "execution_count": 37,
   "id": "da1b9964",
   "metadata": {},
   "outputs": [
    {
     "data": {
      "text/html": [
       "<div>\n",
       "<style scoped>\n",
       "    .dataframe tbody tr th:only-of-type {\n",
       "        vertical-align: middle;\n",
       "    }\n",
       "\n",
       "    .dataframe tbody tr th {\n",
       "        vertical-align: top;\n",
       "    }\n",
       "\n",
       "    .dataframe thead th {\n",
       "        text-align: right;\n",
       "    }\n",
       "</style>\n",
       "<table border=\"1\" class=\"dataframe\">\n",
       "  <thead>\n",
       "    <tr style=\"text-align: right;\">\n",
       "      <th></th>\n",
       "      <th>signup_time</th>\n",
       "      <th>purchase_time</th>\n",
       "      <th>purchase_value</th>\n",
       "      <th>source</th>\n",
       "      <th>browser</th>\n",
       "      <th>sex</th>\n",
       "      <th>age</th>\n",
       "      <th>is_fraud</th>\n",
       "    </tr>\n",
       "  </thead>\n",
       "  <tbody>\n",
       "    <tr>\n",
       "      <th>137430</th>\n",
       "      <td>2015-03-08 06:49:53</td>\n",
       "      <td>2015-03-08 06:49:53</td>\n",
       "      <td>49</td>\n",
       "      <td>SEO</td>\n",
       "      <td>Chrome</td>\n",
       "      <td>F</td>\n",
       "      <td>76</td>\n",
       "      <td>0</td>\n",
       "    </tr>\n",
       "  </tbody>\n",
       "</table>\n",
       "</div>"
      ],
      "text/plain": [
       "               signup_time       purchase_time  purchase_value source browser  \\\n",
       "137430 2015-03-08 06:49:53 2015-03-08 06:49:53              49    SEO  Chrome   \n",
       "\n",
       "       sex  age  is_fraud  \n",
       "137430   F   76         0  "
      ]
     },
     "execution_count": 37,
     "metadata": {},
     "output_type": "execute_result"
    }
   ],
   "source": [
    "df[df['age'] == max(df['age'])]"
   ]
  },
  {
   "cell_type": "markdown",
   "id": "c6648d44",
   "metadata": {},
   "source": [
    "L'âge maxi est de 76 ans"
   ]
  },
  {
   "cell_type": "markdown",
   "id": "a8671e41",
   "metadata": {},
   "source": [
    " Regardons l'âge déclarée des personnes qui ont effectué une transaction frauduleuse"
   ]
  },
  {
   "cell_type": "code",
   "execution_count": 8,
   "id": "15843aea",
   "metadata": {},
   "outputs": [
    {
     "data": {
      "text/html": [
       "<div>\n",
       "<style scoped>\n",
       "    .dataframe tbody tr th:only-of-type {\n",
       "        vertical-align: middle;\n",
       "    }\n",
       "\n",
       "    .dataframe tbody tr th {\n",
       "        vertical-align: top;\n",
       "    }\n",
       "\n",
       "    .dataframe thead th {\n",
       "        text-align: right;\n",
       "    }\n",
       "</style>\n",
       "<table border=\"1\" class=\"dataframe\">\n",
       "  <thead>\n",
       "    <tr style=\"text-align: right;\">\n",
       "      <th></th>\n",
       "      <th>signup_time</th>\n",
       "      <th>purchase_time</th>\n",
       "      <th>purchase_value</th>\n",
       "      <th>source</th>\n",
       "      <th>browser</th>\n",
       "      <th>sex</th>\n",
       "      <th>age</th>\n",
       "      <th>is_fraud</th>\n",
       "    </tr>\n",
       "  </thead>\n",
       "  <tbody>\n",
       "    <tr>\n",
       "      <th>2</th>\n",
       "      <td>2015-01-01 18:52:44</td>\n",
       "      <td>2015-01-01 18:52:44</td>\n",
       "      <td>15</td>\n",
       "      <td>SEO</td>\n",
       "      <td>Opera</td>\n",
       "      <td>M</td>\n",
       "      <td>53</td>\n",
       "      <td>1</td>\n",
       "    </tr>\n",
       "    <tr>\n",
       "      <th>24</th>\n",
       "      <td>2015-01-11 01:51:15</td>\n",
       "      <td>2015-01-11 01:51:15</td>\n",
       "      <td>52</td>\n",
       "      <td>Direct</td>\n",
       "      <td>IE</td>\n",
       "      <td>F</td>\n",
       "      <td>35</td>\n",
       "      <td>1</td>\n",
       "    </tr>\n",
       "    <tr>\n",
       "      <th>25</th>\n",
       "      <td>2015-01-04 22:32:33</td>\n",
       "      <td>2015-01-04 22:32:33</td>\n",
       "      <td>31</td>\n",
       "      <td>SEO</td>\n",
       "      <td>FireFox</td>\n",
       "      <td>M</td>\n",
       "      <td>36</td>\n",
       "      <td>1</td>\n",
       "    </tr>\n",
       "    <tr>\n",
       "      <th>29</th>\n",
       "      <td>2015-01-07 03:44:53</td>\n",
       "      <td>2015-01-07 03:44:53</td>\n",
       "      <td>48</td>\n",
       "      <td>SEO</td>\n",
       "      <td>Chrome</td>\n",
       "      <td>F</td>\n",
       "      <td>27</td>\n",
       "      <td>1</td>\n",
       "    </tr>\n",
       "    <tr>\n",
       "      <th>59</th>\n",
       "      <td>2015-02-01 05:59:23</td>\n",
       "      <td>2015-02-01 05:59:23</td>\n",
       "      <td>36</td>\n",
       "      <td>SEO</td>\n",
       "      <td>IE</td>\n",
       "      <td>M</td>\n",
       "      <td>30</td>\n",
       "      <td>1</td>\n",
       "    </tr>\n",
       "  </tbody>\n",
       "</table>\n",
       "</div>"
      ],
      "text/plain": [
       "           signup_time       purchase_time  purchase_value  source  browser  \\\n",
       "2  2015-01-01 18:52:44 2015-01-01 18:52:44              15     SEO    Opera   \n",
       "24 2015-01-11 01:51:15 2015-01-11 01:51:15              52  Direct       IE   \n",
       "25 2015-01-04 22:32:33 2015-01-04 22:32:33              31     SEO  FireFox   \n",
       "29 2015-01-07 03:44:53 2015-01-07 03:44:53              48     SEO   Chrome   \n",
       "59 2015-02-01 05:59:23 2015-02-01 05:59:23              36     SEO       IE   \n",
       "\n",
       "   sex  age  is_fraud  \n",
       "2    M   53         1  \n",
       "24   F   35         1  \n",
       "25   M   36         1  \n",
       "29   F   27         1  \n",
       "59   M   30         1  "
      ]
     },
     "execution_count": 8,
     "metadata": {},
     "output_type": "execute_result"
    }
   ],
   "source": [
    "df_f = df[df['is_fraud'] == 1]\n",
    "df_f.head()"
   ]
  },
  {
   "cell_type": "code",
   "execution_count": 26,
   "id": "1b2b5727",
   "metadata": {},
   "outputs": [
    {
     "data": {
      "text/html": [
       "<div>\n",
       "<style scoped>\n",
       "    .dataframe tbody tr th:only-of-type {\n",
       "        vertical-align: middle;\n",
       "    }\n",
       "\n",
       "    .dataframe tbody tr th {\n",
       "        vertical-align: top;\n",
       "    }\n",
       "\n",
       "    .dataframe thead th {\n",
       "        text-align: right;\n",
       "    }\n",
       "</style>\n",
       "<table border=\"1\" class=\"dataframe\">\n",
       "  <thead>\n",
       "    <tr style=\"text-align: right;\">\n",
       "      <th></th>\n",
       "      <th>purchase_value</th>\n",
       "      <th>age</th>\n",
       "      <th>is_fraud</th>\n",
       "    </tr>\n",
       "  </thead>\n",
       "  <tbody>\n",
       "    <tr>\n",
       "      <th>count</th>\n",
       "      <td>14151.000000</td>\n",
       "      <td>14151.000000</td>\n",
       "      <td>14151.0</td>\n",
       "    </tr>\n",
       "    <tr>\n",
       "      <th>mean</th>\n",
       "      <td>36.993004</td>\n",
       "      <td>33.318281</td>\n",
       "      <td>1.0</td>\n",
       "    </tr>\n",
       "    <tr>\n",
       "      <th>std</th>\n",
       "      <td>18.397654</td>\n",
       "      <td>8.568001</td>\n",
       "      <td>0.0</td>\n",
       "    </tr>\n",
       "    <tr>\n",
       "      <th>min</th>\n",
       "      <td>9.000000</td>\n",
       "      <td>18.000000</td>\n",
       "      <td>1.0</td>\n",
       "    </tr>\n",
       "    <tr>\n",
       "      <th>25%</th>\n",
       "      <td>22.000000</td>\n",
       "      <td>27.000000</td>\n",
       "      <td>1.0</td>\n",
       "    </tr>\n",
       "    <tr>\n",
       "      <th>50%</th>\n",
       "      <td>35.000000</td>\n",
       "      <td>33.000000</td>\n",
       "      <td>1.0</td>\n",
       "    </tr>\n",
       "    <tr>\n",
       "      <th>75%</th>\n",
       "      <td>49.000000</td>\n",
       "      <td>39.000000</td>\n",
       "      <td>1.0</td>\n",
       "    </tr>\n",
       "    <tr>\n",
       "      <th>max</th>\n",
       "      <td>111.000000</td>\n",
       "      <td>68.000000</td>\n",
       "      <td>1.0</td>\n",
       "    </tr>\n",
       "  </tbody>\n",
       "</table>\n",
       "</div>"
      ],
      "text/plain": [
       "       purchase_value           age  is_fraud\n",
       "count    14151.000000  14151.000000   14151.0\n",
       "mean        36.993004     33.318281       1.0\n",
       "std         18.397654      8.568001       0.0\n",
       "min          9.000000     18.000000       1.0\n",
       "25%         22.000000     27.000000       1.0\n",
       "50%         35.000000     33.000000       1.0\n",
       "75%         49.000000     39.000000       1.0\n",
       "max        111.000000     68.000000       1.0"
      ]
     },
     "execution_count": 26,
     "metadata": {},
     "output_type": "execute_result"
    }
   ],
   "source": [
    "df_f.describe()"
   ]
  },
  {
   "cell_type": "markdown",
   "id": "e87df56b",
   "metadata": {},
   "source": [
    "Regardons la proportion de transactions frauduleuses"
   ]
  },
  {
   "cell_type": "code",
   "execution_count": 27,
   "id": "ad915b93",
   "metadata": {},
   "outputs": [
    {
     "name": "stdout",
     "output_type": "stream",
     "text": [
      "la proportion de transactions frauduleuses : 9.36 pourcents \n"
     ]
    }
   ],
   "source": [
    "print(\"la proportion de transactions frauduleuses : %.2f pourcents \" %round(len(df_f)/len(df)*100,2))"
   ]
  },
  {
   "cell_type": "markdown",
   "id": "f7ac262b",
   "metadata": {},
   "source": [
    "l'age moyen déclarée des personnes qui ont effectué une transaction frauduleuse est de 33ans\n",
    "l'age maxi est de 68 ans"
   ]
  },
  {
   "cell_type": "code",
   "execution_count": 28,
   "id": "6c03bf7e",
   "metadata": {},
   "outputs": [
    {
     "data": {
      "image/png": "[encoded data removed]",
      "text/plain": [
       "<Figure size 1080x576 with 1 Axes>"
      ]
     },
     "metadata": {},
     "output_type": "display_data"
    }
   ],
   "source": [
    "# boîte à moustache de la variable purchase_value\n",
    "plt.boxplot(df_num.purchase_value)\n",
    "plt.title('Boxplot de la variable purchase_value');"
   ]
  },
  {
   "cell_type": "markdown",
   "id": "7f0f5cea",
   "metadata": {},
   "source": [
    "Quelques achats au-dessus de 80euros"
   ]
  },
  {
   "cell_type": "code",
   "execution_count": 29,
   "id": "c511ce1c",
   "metadata": {},
   "outputs": [
    {
     "data": {
      "image/png": "[encoded data removed]",
      "text/plain": [
       "<Figure size 1080x576 with 1 Axes>"
      ]
     },
     "metadata": {},
     "output_type": "display_data"
    }
   ],
   "source": [
    "# Regardons la répartition de la variable purchase_value\n",
    "df.purchase_value.hist(bins = 10);"
   ]
  },
  {
   "cell_type": "code",
   "execution_count": 30,
   "id": "3147e59d",
   "metadata": {},
   "outputs": [
    {
     "data": {
      "text/html": [
       "<div>\n",
       "<style scoped>\n",
       "    .dataframe tbody tr th:only-of-type {\n",
       "        vertical-align: middle;\n",
       "    }\n",
       "\n",
       "    .dataframe tbody tr th {\n",
       "        vertical-align: top;\n",
       "    }\n",
       "\n",
       "    .dataframe thead th {\n",
       "        text-align: right;\n",
       "    }\n",
       "</style>\n",
       "<table border=\"1\" class=\"dataframe\">\n",
       "  <thead>\n",
       "    <tr style=\"text-align: right;\">\n",
       "      <th></th>\n",
       "      <th>purchase_value</th>\n",
       "      <th>age</th>\n",
       "      <th>is_fraud</th>\n",
       "    </tr>\n",
       "  </thead>\n",
       "  <tbody>\n",
       "    <tr>\n",
       "      <th>count</th>\n",
       "      <td>14151.000000</td>\n",
       "      <td>14151.000000</td>\n",
       "      <td>14151.0</td>\n",
       "    </tr>\n",
       "    <tr>\n",
       "      <th>mean</th>\n",
       "      <td>36.993004</td>\n",
       "      <td>33.318281</td>\n",
       "      <td>1.0</td>\n",
       "    </tr>\n",
       "    <tr>\n",
       "      <th>std</th>\n",
       "      <td>18.397654</td>\n",
       "      <td>8.568001</td>\n",
       "      <td>0.0</td>\n",
       "    </tr>\n",
       "    <tr>\n",
       "      <th>min</th>\n",
       "      <td>9.000000</td>\n",
       "      <td>18.000000</td>\n",
       "      <td>1.0</td>\n",
       "    </tr>\n",
       "    <tr>\n",
       "      <th>25%</th>\n",
       "      <td>22.000000</td>\n",
       "      <td>27.000000</td>\n",
       "      <td>1.0</td>\n",
       "    </tr>\n",
       "    <tr>\n",
       "      <th>50%</th>\n",
       "      <td>35.000000</td>\n",
       "      <td>33.000000</td>\n",
       "      <td>1.0</td>\n",
       "    </tr>\n",
       "    <tr>\n",
       "      <th>75%</th>\n",
       "      <td>49.000000</td>\n",
       "      <td>39.000000</td>\n",
       "      <td>1.0</td>\n",
       "    </tr>\n",
       "    <tr>\n",
       "      <th>max</th>\n",
       "      <td>111.000000</td>\n",
       "      <td>68.000000</td>\n",
       "      <td>1.0</td>\n",
       "    </tr>\n",
       "  </tbody>\n",
       "</table>\n",
       "</div>"
      ],
      "text/plain": [
       "       purchase_value           age  is_fraud\n",
       "count    14151.000000  14151.000000   14151.0\n",
       "mean        36.993004     33.318281       1.0\n",
       "std         18.397654      8.568001       0.0\n",
       "min          9.000000     18.000000       1.0\n",
       "25%         22.000000     27.000000       1.0\n",
       "50%         35.000000     33.000000       1.0\n",
       "75%         49.000000     39.000000       1.0\n",
       "max        111.000000     68.000000       1.0"
      ]
     },
     "execution_count": 30,
     "metadata": {},
     "output_type": "execute_result"
    }
   ],
   "source": [
    "df_f.describe()"
   ]
  },
  {
   "cell_type": "markdown",
   "id": "9c0ac180",
   "metadata": {},
   "source": [
    "Le montant moyen d'une transaction frauduleuse est de 33,32euros, le montant max de 111 euros\n",
    "les transactions frauduleuses concernent des faibles montants"
   ]
  },
  {
   "cell_type": "markdown",
   "id": "a18ab26c",
   "metadata": {},
   "source": [
    "la majeure partie des achats est de moins de 40 euros"
   ]
  },
  {
   "cell_type": "markdown",
   "id": "99296568",
   "metadata": {},
   "source": [
    "Traitement des variables qualitatives"
   ]
  },
  {
   "cell_type": "code",
   "execution_count": 31,
   "id": "448cb191",
   "metadata": {},
   "outputs": [
    {
     "data": {
      "text/html": [
       "<div>\n",
       "<style scoped>\n",
       "    .dataframe tbody tr th:only-of-type {\n",
       "        vertical-align: middle;\n",
       "    }\n",
       "\n",
       "    .dataframe tbody tr th {\n",
       "        vertical-align: top;\n",
       "    }\n",
       "\n",
       "    .dataframe thead th {\n",
       "        text-align: right;\n",
       "    }\n",
       "</style>\n",
       "<table border=\"1\" class=\"dataframe\">\n",
       "  <thead>\n",
       "    <tr style=\"text-align: right;\">\n",
       "      <th></th>\n",
       "      <th>source</th>\n",
       "      <th>browser</th>\n",
       "      <th>sex</th>\n",
       "    </tr>\n",
       "  </thead>\n",
       "  <tbody>\n",
       "    <tr>\n",
       "      <th>0</th>\n",
       "      <td>SEO</td>\n",
       "      <td>Chrome</td>\n",
       "      <td>M</td>\n",
       "    </tr>\n",
       "    <tr>\n",
       "      <th>1</th>\n",
       "      <td>Ads</td>\n",
       "      <td>Chrome</td>\n",
       "      <td>F</td>\n",
       "    </tr>\n",
       "    <tr>\n",
       "      <th>2</th>\n",
       "      <td>SEO</td>\n",
       "      <td>Opera</td>\n",
       "      <td>M</td>\n",
       "    </tr>\n",
       "    <tr>\n",
       "      <th>3</th>\n",
       "      <td>SEO</td>\n",
       "      <td>Safari</td>\n",
       "      <td>M</td>\n",
       "    </tr>\n",
       "    <tr>\n",
       "      <th>4</th>\n",
       "      <td>Ads</td>\n",
       "      <td>Safari</td>\n",
       "      <td>M</td>\n",
       "    </tr>\n",
       "  </tbody>\n",
       "</table>\n",
       "</div>"
      ],
      "text/plain": [
       "  source browser sex\n",
       "0    SEO  Chrome   M\n",
       "1    Ads  Chrome   F\n",
       "2    SEO   Opera   M\n",
       "3    SEO  Safari   M\n",
       "4    Ads  Safari   M"
      ]
     },
     "execution_count": 31,
     "metadata": {},
     "output_type": "execute_result"
    }
   ],
   "source": [
    "# extraction des variables qualitatives\n",
    "cat_data = df.select_dtypes(include='O')\n",
    "cat_data.head()"
   ]
  },
  {
   "cell_type": "code",
   "execution_count": 32,
   "id": "b42c3ca4",
   "metadata": {},
   "outputs": [
    {
     "data": {
      "text/plain": [
       "SEO       60615\n",
       "Ads       59881\n",
       "Direct    30616\n",
       "Name: source, dtype: int64"
      ]
     },
     "execution_count": 32,
     "metadata": {},
     "output_type": "execute_result"
    }
   ],
   "source": [
    "cat_data.source.value_counts()"
   ]
  },
  {
   "cell_type": "markdown",
   "id": "aad1a483",
   "metadata": {},
   "source": [
    "Regardons la distribution de la variable source parmi toutes les transactions frauduleuses"
   ]
  },
  {
   "cell_type": "code",
   "execution_count": 46,
   "id": "2bfb1292",
   "metadata": {},
   "outputs": [
    {
     "data": {
      "text/plain": [
       "Ads       5513\n",
       "SEO       5412\n",
       "Direct    3226\n",
       "Name: source, dtype: int64"
      ]
     },
     "execution_count": 46,
     "metadata": {},
     "output_type": "execute_result"
    }
   ],
   "source": [
    "df_f.source.value_counts()"
   ]
  },
  {
   "cell_type": "code",
   "execution_count": 47,
   "id": "cf7e81a3",
   "metadata": {},
   "outputs": [
    {
     "data": {
      "text/plain": [
       "<AxesSubplot:xlabel='source'>"
      ]
     },
     "execution_count": 47,
     "metadata": {},
     "output_type": "execute_result"
    },
    {
     "data": {
      "image/png": "[encoded data removed]",
      "text/plain": [
       "<Figure size 1080x576 with 1 Axes>"
      ]
     },
     "metadata": {},
     "output_type": "display_data"
    }
   ],
   "source": [
    "t1 = pd.crosstab(df_f.source, \"freq\")\n",
    "t1.plot.bar()"
   ]
  },
  {
   "cell_type": "markdown",
   "id": "3f932743",
   "metadata": {},
   "source": [
    "ADS est la source la plus représentée parmi les transactions frauduleuses"
   ]
  },
  {
   "cell_type": "code",
   "execution_count": 48,
   "id": "31f09073",
   "metadata": {},
   "outputs": [
    {
     "data": {
      "text/plain": [
       "Chrome     61432\n",
       "IE         36727\n",
       "Safari     24667\n",
       "FireFox    24610\n",
       "Opera       3676\n",
       "Name: browser, dtype: int64"
      ]
     },
     "execution_count": 48,
     "metadata": {},
     "output_type": "execute_result"
    }
   ],
   "source": [
    "cat_data.browser.value_counts()"
   ]
  },
  {
   "cell_type": "markdown",
   "id": "ca95410f",
   "metadata": {},
   "source": [
    "Regardons la distribution de la variable browser parmi toutes les transactions frauduleuses"
   ]
  },
  {
   "cell_type": "code",
   "execution_count": 49,
   "id": "ed1676c8",
   "metadata": {},
   "outputs": [
    {
     "data": {
      "text/plain": [
       "Chrome     6069\n",
       "IE         3187\n",
       "FireFox    2342\n",
       "Safari     2225\n",
       "Opera       328\n",
       "Name: browser, dtype: int64"
      ]
     },
     "execution_count": 49,
     "metadata": {},
     "output_type": "execute_result"
    }
   ],
   "source": [
    "df_f.browser.value_counts()"
   ]
  },
  {
   "cell_type": "code",
   "execution_count": 50,
   "id": "5922ef91",
   "metadata": {},
   "outputs": [
    {
     "data": {
      "text/plain": [
       "<AxesSubplot:xlabel='browser'>"
      ]
     },
     "execution_count": 50,
     "metadata": {},
     "output_type": "execute_result"
    },
    {
     "data": {
      "image/png": "[encoded data removed]",
      "text/plain": [
       "<Figure size 1080x576 with 1 Axes>"
      ]
     },
     "metadata": {},
     "output_type": "display_data"
    }
   ],
   "source": [
    "t2 = pd.crosstab(df_f.browser, \"freq\")\n",
    "t2.plot.bar()"
   ]
  },
  {
   "cell_type": "markdown",
   "id": "c00f63fb",
   "metadata": {},
   "source": [
    "Chrome est le navigateur le plus représenté parmi les transactions frauduleuses"
   ]
  },
  {
   "cell_type": "markdown",
   "id": "094bb216",
   "metadata": {},
   "source": [
    "Regardons la distribution de la variable sex"
   ]
  },
  {
   "cell_type": "code",
   "execution_count": 51,
   "id": "b7ed0221",
   "metadata": {},
   "outputs": [
    {
     "data": {
      "text/plain": [
       "M    88293\n",
       "F    62819\n",
       "Name: sex, dtype: int64"
      ]
     },
     "execution_count": 51,
     "metadata": {},
     "output_type": "execute_result"
    }
   ],
   "source": [
    "cat_data.sex.value_counts()"
   ]
  },
  {
   "cell_type": "markdown",
   "id": "73514b41",
   "metadata": {},
   "source": [
    "Parmi les transactions frauduleuses, regardons la distribution de la variable sex"
   ]
  },
  {
   "cell_type": "code",
   "execution_count": 52,
   "id": "1129c417",
   "metadata": {},
   "outputs": [
    {
     "data": {
      "text/plain": [
       "M    8434\n",
       "F    5717\n",
       "Name: sex, dtype: int64"
      ]
     },
     "execution_count": 52,
     "metadata": {},
     "output_type": "execute_result"
    }
   ],
   "source": [
    "df_f.sex.value_counts()"
   ]
  },
  {
   "cell_type": "code",
   "execution_count": 53,
   "id": "813c7c8f",
   "metadata": {},
   "outputs": [
    {
     "data": {
      "text/plain": [
       "<AxesSubplot:xlabel='sex'>"
      ]
     },
     "execution_count": 53,
     "metadata": {},
     "output_type": "execute_result"
    },
    {
     "data": {
      "image/png": "[encoded data removed]",
      "text/plain": [
       "<Figure size 1080x576 with 1 Axes>"
      ]
     },
     "metadata": {},
     "output_type": "display_data"
    }
   ],
   "source": [
    "t3 = pd.crosstab(df_f.sex, \"freq\")\n",
    "t3.plot.bar()"
   ]
  },
  {
   "cell_type": "markdown",
   "id": "f44cbc93",
   "metadata": {},
   "source": [
    "Le genre masculin est le plus représenté"
   ]
  },
  {
   "cell_type": "markdown",
   "id": "4ca92439",
   "metadata": {},
   "source": [
    "Regardons les corrélations entre les variables "
   ]
  },
  {
   "cell_type": "code",
   "execution_count": 33,
   "id": "4f4e2908",
   "metadata": {},
   "outputs": [
    {
     "data": {
      "text/html": [
       "<div>\n",
       "<style scoped>\n",
       "    .dataframe tbody tr th:only-of-type {\n",
       "        vertical-align: middle;\n",
       "    }\n",
       "\n",
       "    .dataframe tbody tr th {\n",
       "        vertical-align: top;\n",
       "    }\n",
       "\n",
       "    .dataframe thead th {\n",
       "        text-align: right;\n",
       "    }\n",
       "</style>\n",
       "<table border=\"1\" class=\"dataframe\">\n",
       "  <thead>\n",
       "    <tr style=\"text-align: right;\">\n",
       "      <th></th>\n",
       "      <th>df</th>\n",
       "      <th>sum_sq</th>\n",
       "      <th>mean_sq</th>\n",
       "      <th>F</th>\n",
       "      <th>PR(&gt;F)</th>\n",
       "    </tr>\n",
       "  </thead>\n",
       "  <tbody>\n",
       "    <tr>\n",
       "      <th>is_fraud</th>\n",
       "      <td>1.0</td>\n",
       "      <td>5.185735e+01</td>\n",
       "      <td>51.857354</td>\n",
       "      <td>0.154464</td>\n",
       "      <td>0.694306</td>\n",
       "    </tr>\n",
       "    <tr>\n",
       "      <th>Residual</th>\n",
       "      <td>151110.0</td>\n",
       "      <td>5.073148e+07</td>\n",
       "      <td>335.725491</td>\n",
       "      <td>NaN</td>\n",
       "      <td>NaN</td>\n",
       "    </tr>\n",
       "  </tbody>\n",
       "</table>\n",
       "</div>"
      ],
      "text/plain": [
       "                df        sum_sq     mean_sq         F    PR(>F)\n",
       "is_fraud       1.0  5.185735e+01   51.857354  0.154464  0.694306\n",
       "Residual  151110.0  5.073148e+07  335.725491       NaN       NaN"
      ]
     },
     "execution_count": 33,
     "metadata": {},
     "output_type": "execute_result"
    }
   ],
   "source": [
    "# Corrélation entre purchase_value et is_fraud\n",
    "import statsmodels.api \n",
    "\n",
    "result = statsmodels.formula.api.ols('purchase_value ~ is_fraud', data=df).fit()\n",
    "table = statsmodels.api.stats.anova_lm(result)\n",
    "\n",
    "table\n",
    "# la p-value (PR(>F)) est supérieur à 5% , l'hypothèse selon laquelle purchase_value n'influe pas sur is_fraud peut être\n",
    "# posée."
   ]
  },
  {
   "cell_type": "code",
   "execution_count": 55,
   "id": "53890f9b",
   "metadata": {},
   "outputs": [
    {
     "data": {
      "text/html": [
       "<div>\n",
       "<style scoped>\n",
       "    .dataframe tbody tr th:only-of-type {\n",
       "        vertical-align: middle;\n",
       "    }\n",
       "\n",
       "    .dataframe tbody tr th {\n",
       "        vertical-align: top;\n",
       "    }\n",
       "\n",
       "    .dataframe thead th {\n",
       "        text-align: right;\n",
       "    }\n",
       "</style>\n",
       "<table border=\"1\" class=\"dataframe\">\n",
       "  <thead>\n",
       "    <tr style=\"text-align: right;\">\n",
       "      <th>is_fraud</th>\n",
       "      <th>0</th>\n",
       "      <th>1</th>\n",
       "    </tr>\n",
       "    <tr>\n",
       "      <th>source</th>\n",
       "      <th></th>\n",
       "      <th></th>\n",
       "    </tr>\n",
       "  </thead>\n",
       "  <tbody>\n",
       "    <tr>\n",
       "      <th>Ads</th>\n",
       "      <td>54368</td>\n",
       "      <td>5513</td>\n",
       "    </tr>\n",
       "    <tr>\n",
       "      <th>Direct</th>\n",
       "      <td>27390</td>\n",
       "      <td>3226</td>\n",
       "    </tr>\n",
       "    <tr>\n",
       "      <th>SEO</th>\n",
       "      <td>55203</td>\n",
       "      <td>5412</td>\n",
       "    </tr>\n",
       "  </tbody>\n",
       "</table>\n",
       "</div>"
      ],
      "text/plain": [
       "is_fraud      0     1\n",
       "source               \n",
       "Ads       54368  5513\n",
       "Direct    27390  3226\n",
       "SEO       55203  5412"
      ]
     },
     "execution_count": 55,
     "metadata": {},
     "output_type": "execute_result"
    }
   ],
   "source": [
    "# Corrélation entre les variables sources et les variables is_fraud\n",
    "table1 = pd.crosstab(df['source'],df['is_fraud'])\n",
    "table1"
   ]
  },
  {
   "cell_type": "code",
   "execution_count": 56,
   "id": "7707eb02",
   "metadata": {},
   "outputs": [
    {
     "name": "stdout",
     "output_type": "stream",
     "text": [
      "64.92317707262569 7.981990836440143e-15 2\n"
     ]
    }
   ],
   "source": [
    "from scipy.stats import chi2_contingency\n",
    "\n",
    "resultats_test = chi2_contingency(table1)\n",
    "statistique = resultats_test[0]\n",
    "p_valeur = resultats_test[1]\n",
    "degre_liberte = resultats_test[2]\n",
    "print(statistique, p_valeur,degre_liberte)\n",
    "# p-value < 5% donc on rejette H0 selon laquelles les variables sont indépendantes"
   ]
  },
  {
   "cell_type": "code",
   "execution_count": 57,
   "id": "47baf99c",
   "metadata": {},
   "outputs": [
    {
     "data": {
      "text/html": [
       "<div>\n",
       "<style scoped>\n",
       "    .dataframe tbody tr th:only-of-type {\n",
       "        vertical-align: middle;\n",
       "    }\n",
       "\n",
       "    .dataframe tbody tr th {\n",
       "        vertical-align: top;\n",
       "    }\n",
       "\n",
       "    .dataframe thead th {\n",
       "        text-align: right;\n",
       "    }\n",
       "</style>\n",
       "<table border=\"1\" class=\"dataframe\">\n",
       "  <thead>\n",
       "    <tr style=\"text-align: right;\">\n",
       "      <th>is_fraud</th>\n",
       "      <th>0</th>\n",
       "      <th>1</th>\n",
       "    </tr>\n",
       "    <tr>\n",
       "      <th>browser</th>\n",
       "      <th></th>\n",
       "      <th></th>\n",
       "    </tr>\n",
       "  </thead>\n",
       "  <tbody>\n",
       "    <tr>\n",
       "      <th>Chrome</th>\n",
       "      <td>55363</td>\n",
       "      <td>6069</td>\n",
       "    </tr>\n",
       "    <tr>\n",
       "      <th>FireFox</th>\n",
       "      <td>22268</td>\n",
       "      <td>2342</td>\n",
       "    </tr>\n",
       "    <tr>\n",
       "      <th>IE</th>\n",
       "      <td>33540</td>\n",
       "      <td>3187</td>\n",
       "    </tr>\n",
       "    <tr>\n",
       "      <th>Opera</th>\n",
       "      <td>3348</td>\n",
       "      <td>328</td>\n",
       "    </tr>\n",
       "    <tr>\n",
       "      <th>Safari</th>\n",
       "      <td>22442</td>\n",
       "      <td>2225</td>\n",
       "    </tr>\n",
       "  </tbody>\n",
       "</table>\n",
       "</div>"
      ],
      "text/plain": [
       "is_fraud      0     1\n",
       "browser              \n",
       "Chrome    55363  6069\n",
       "FireFox   22268  2342\n",
       "IE        33540  3187\n",
       "Opera      3348   328\n",
       "Safari    22442  2225"
      ]
     },
     "execution_count": 57,
     "metadata": {},
     "output_type": "execute_result"
    }
   ],
   "source": [
    "# Corrélation entre les variables browser et les variables is_fraud\n",
    "table2 = pd.crosstab(df['browser'],df['is_fraud'])\n",
    "table2"
   ]
  },
  {
   "cell_type": "code",
   "execution_count": 58,
   "id": "185c0466",
   "metadata": {},
   "outputs": [
    {
     "name": "stdout",
     "output_type": "stream",
     "text": [
      "44.556571734650184 4.916028350364759e-09 4\n"
     ]
    }
   ],
   "source": [
    "from scipy.stats import chi2_contingency\n",
    "\n",
    "resultats_test = chi2_contingency(table2)\n",
    "statistique = resultats_test[0]\n",
    "p_valeur = resultats_test[1]\n",
    "degre_liberte = resultats_test[2]\n",
    "print(statistique, p_valeur,degre_liberte)\n",
    "# p-value < 5% donc on rejette H0 selon laquelles les variables sont indépendantes"
   ]
  },
  {
   "cell_type": "code",
   "execution_count": 59,
   "id": "3c161a1a",
   "metadata": {},
   "outputs": [
    {
     "data": {
      "text/html": [
       "<div>\n",
       "<style scoped>\n",
       "    .dataframe tbody tr th:only-of-type {\n",
       "        vertical-align: middle;\n",
       "    }\n",
       "\n",
       "    .dataframe tbody tr th {\n",
       "        vertical-align: top;\n",
       "    }\n",
       "\n",
       "    .dataframe thead th {\n",
       "        text-align: right;\n",
       "    }\n",
       "</style>\n",
       "<table border=\"1\" class=\"dataframe\">\n",
       "  <thead>\n",
       "    <tr style=\"text-align: right;\">\n",
       "      <th>is_fraud</th>\n",
       "      <th>0</th>\n",
       "      <th>1</th>\n",
       "    </tr>\n",
       "    <tr>\n",
       "      <th>sex</th>\n",
       "      <th></th>\n",
       "      <th></th>\n",
       "    </tr>\n",
       "  </thead>\n",
       "  <tbody>\n",
       "    <tr>\n",
       "      <th>F</th>\n",
       "      <td>57102</td>\n",
       "      <td>5717</td>\n",
       "    </tr>\n",
       "    <tr>\n",
       "      <th>M</th>\n",
       "      <td>79859</td>\n",
       "      <td>8434</td>\n",
       "    </tr>\n",
       "  </tbody>\n",
       "</table>\n",
       "</div>"
      ],
      "text/plain": [
       "is_fraud      0     1\n",
       "sex                  \n",
       "F         57102  5717\n",
       "M         79859  8434"
      ]
     },
     "execution_count": 59,
     "metadata": {},
     "output_type": "execute_result"
    }
   ],
   "source": [
    "# Corrélation entre les variables sex et les variables is_fraud\n",
    "table3 = pd.crosstab(df['sex'],df['is_fraud'])\n",
    "table3"
   ]
  },
  {
   "cell_type": "code",
   "execution_count": 60,
   "id": "d572a1cc",
   "metadata": {},
   "outputs": [
    {
     "name": "stdout",
     "output_type": "stream",
     "text": [
      "8.76381632004166 0.003072654263243465 1\n"
     ]
    }
   ],
   "source": [
    "from scipy.stats import chi2_contingency\n",
    "\n",
    "resultats_test = chi2_contingency(table3)\n",
    "statistique = resultats_test[0]\n",
    "p_valeur = resultats_test[1]\n",
    "degre_liberte = resultats_test[2]\n",
    "print(statistique, p_valeur,degre_liberte)\n",
    "# p-value < 5% donc on rejette H0 selon laquelles les variables sont indépendantes"
   ]
  },
  {
   "cell_type": "code",
   "execution_count": 61,
   "id": "9cb36bce",
   "metadata": {},
   "outputs": [
    {
     "data": {
      "text/html": [
       "<div>\n",
       "<style scoped>\n",
       "    .dataframe tbody tr th:only-of-type {\n",
       "        vertical-align: middle;\n",
       "    }\n",
       "\n",
       "    .dataframe tbody tr th {\n",
       "        vertical-align: top;\n",
       "    }\n",
       "\n",
       "    .dataframe thead th {\n",
       "        text-align: right;\n",
       "    }\n",
       "</style>\n",
       "<table border=\"1\" class=\"dataframe\">\n",
       "  <thead>\n",
       "    <tr style=\"text-align: right;\">\n",
       "      <th></th>\n",
       "      <th>resultat_test</th>\n",
       "    </tr>\n",
       "  </thead>\n",
       "  <tbody>\n",
       "    <tr>\n",
       "      <th>pearson_coeff</th>\n",
       "      <td>0.006624</td>\n",
       "    </tr>\n",
       "    <tr>\n",
       "      <th>p-value</th>\n",
       "      <td>0.010030</td>\n",
       "    </tr>\n",
       "  </tbody>\n",
       "</table>\n",
       "</div>"
      ],
      "text/plain": [
       "               resultat_test\n",
       "pearson_coeff       0.006624\n",
       "p-value             0.010030"
      ]
     },
     "execution_count": 61,
     "metadata": {},
     "output_type": "execute_result"
    }
   ],
   "source": [
    "# Corrélation entre les variables age et les variables is_fraud\n",
    "from scipy.stats import pearsonr\n",
    "\n",
    "pd.DataFrame(pearsonr(df['age'], df['is_fraud']), index=['pearson_coeff','p-value'], columns=['resultat_test'])\n",
    "\n",
    "#la p-value < 5%, le coefficient proche de 0, il y a une faible corrélation entre les deux variables.\n"
   ]
  },
  {
   "cell_type": "markdown",
   "id": "9a717537",
   "metadata": {},
   "source": [
    "Regardons les variables temporelles "
   ]
  },
  {
   "cell_type": "code",
   "execution_count": 62,
   "id": "727fe93d",
   "metadata": {},
   "outputs": [
    {
     "data": {
      "text/html": [
       "<div>\n",
       "<style scoped>\n",
       "    .dataframe tbody tr th:only-of-type {\n",
       "        vertical-align: middle;\n",
       "    }\n",
       "\n",
       "    .dataframe tbody tr th {\n",
       "        vertical-align: top;\n",
       "    }\n",
       "\n",
       "    .dataframe thead th {\n",
       "        text-align: right;\n",
       "    }\n",
       "</style>\n",
       "<table border=\"1\" class=\"dataframe\">\n",
       "  <thead>\n",
       "    <tr style=\"text-align: right;\">\n",
       "      <th></th>\n",
       "      <th>signup_time</th>\n",
       "      <th>purchase_time</th>\n",
       "      <th>purchase_value</th>\n",
       "      <th>source</th>\n",
       "      <th>browser</th>\n",
       "      <th>sex</th>\n",
       "      <th>age</th>\n",
       "      <th>is_fraud</th>\n",
       "    </tr>\n",
       "  </thead>\n",
       "  <tbody>\n",
       "    <tr>\n",
       "      <th>2</th>\n",
       "      <td>2015-01-01 18:52:44</td>\n",
       "      <td>2015-01-01 18:52:44</td>\n",
       "      <td>15</td>\n",
       "      <td>SEO</td>\n",
       "      <td>Opera</td>\n",
       "      <td>M</td>\n",
       "      <td>53</td>\n",
       "      <td>1</td>\n",
       "    </tr>\n",
       "    <tr>\n",
       "      <th>24</th>\n",
       "      <td>2015-01-11 01:51:15</td>\n",
       "      <td>2015-01-11 01:51:15</td>\n",
       "      <td>52</td>\n",
       "      <td>Direct</td>\n",
       "      <td>IE</td>\n",
       "      <td>F</td>\n",
       "      <td>35</td>\n",
       "      <td>1</td>\n",
       "    </tr>\n",
       "    <tr>\n",
       "      <th>25</th>\n",
       "      <td>2015-01-04 22:32:33</td>\n",
       "      <td>2015-01-04 22:32:33</td>\n",
       "      <td>31</td>\n",
       "      <td>SEO</td>\n",
       "      <td>FireFox</td>\n",
       "      <td>M</td>\n",
       "      <td>36</td>\n",
       "      <td>1</td>\n",
       "    </tr>\n",
       "    <tr>\n",
       "      <th>29</th>\n",
       "      <td>2015-01-07 03:44:53</td>\n",
       "      <td>2015-01-07 03:44:53</td>\n",
       "      <td>48</td>\n",
       "      <td>SEO</td>\n",
       "      <td>Chrome</td>\n",
       "      <td>F</td>\n",
       "      <td>27</td>\n",
       "      <td>1</td>\n",
       "    </tr>\n",
       "    <tr>\n",
       "      <th>59</th>\n",
       "      <td>2015-02-01 05:59:23</td>\n",
       "      <td>2015-02-01 05:59:23</td>\n",
       "      <td>36</td>\n",
       "      <td>SEO</td>\n",
       "      <td>IE</td>\n",
       "      <td>M</td>\n",
       "      <td>30</td>\n",
       "      <td>1</td>\n",
       "    </tr>\n",
       "    <tr>\n",
       "      <th>60</th>\n",
       "      <td>2015-01-18 02:51:59</td>\n",
       "      <td>2015-01-18 02:51:59</td>\n",
       "      <td>27</td>\n",
       "      <td>Ads</td>\n",
       "      <td>IE</td>\n",
       "      <td>M</td>\n",
       "      <td>28</td>\n",
       "      <td>1</td>\n",
       "    </tr>\n",
       "    <tr>\n",
       "      <th>63</th>\n",
       "      <td>2015-01-05 21:07:24</td>\n",
       "      <td>2015-01-05 21:07:24</td>\n",
       "      <td>14</td>\n",
       "      <td>Ads</td>\n",
       "      <td>IE</td>\n",
       "      <td>M</td>\n",
       "      <td>35</td>\n",
       "      <td>1</td>\n",
       "    </tr>\n",
       "    <tr>\n",
       "      <th>64</th>\n",
       "      <td>2015-01-07 17:45:16</td>\n",
       "      <td>2015-01-07 17:45:16</td>\n",
       "      <td>10</td>\n",
       "      <td>Ads</td>\n",
       "      <td>FireFox</td>\n",
       "      <td>M</td>\n",
       "      <td>36</td>\n",
       "      <td>1</td>\n",
       "    </tr>\n",
       "    <tr>\n",
       "      <th>77</th>\n",
       "      <td>2015-01-07 08:15:53</td>\n",
       "      <td>2015-01-07 08:15:53</td>\n",
       "      <td>65</td>\n",
       "      <td>SEO</td>\n",
       "      <td>Opera</td>\n",
       "      <td>F</td>\n",
       "      <td>30</td>\n",
       "      <td>1</td>\n",
       "    </tr>\n",
       "    <tr>\n",
       "      <th>83</th>\n",
       "      <td>2015-01-10 23:23:25</td>\n",
       "      <td>2015-01-10 23:23:25</td>\n",
       "      <td>38</td>\n",
       "      <td>Ads</td>\n",
       "      <td>Safari</td>\n",
       "      <td>M</td>\n",
       "      <td>43</td>\n",
       "      <td>1</td>\n",
       "    </tr>\n",
       "    <tr>\n",
       "      <th>93</th>\n",
       "      <td>2015-04-17 07:26:15</td>\n",
       "      <td>2015-04-17 07:26:15</td>\n",
       "      <td>44</td>\n",
       "      <td>Ads</td>\n",
       "      <td>Chrome</td>\n",
       "      <td>F</td>\n",
       "      <td>26</td>\n",
       "      <td>1</td>\n",
       "    </tr>\n",
       "    <tr>\n",
       "      <th>111</th>\n",
       "      <td>2015-01-06 21:48:13</td>\n",
       "      <td>2015-01-06 21:48:13</td>\n",
       "      <td>45</td>\n",
       "      <td>Ads</td>\n",
       "      <td>IE</td>\n",
       "      <td>F</td>\n",
       "      <td>22</td>\n",
       "      <td>1</td>\n",
       "    </tr>\n",
       "    <tr>\n",
       "      <th>132</th>\n",
       "      <td>2015-03-26 12:11:48</td>\n",
       "      <td>2015-03-26 12:11:48</td>\n",
       "      <td>45</td>\n",
       "      <td>SEO</td>\n",
       "      <td>Chrome</td>\n",
       "      <td>M</td>\n",
       "      <td>41</td>\n",
       "      <td>1</td>\n",
       "    </tr>\n",
       "    <tr>\n",
       "      <th>133</th>\n",
       "      <td>2015-07-30 00:25:42</td>\n",
       "      <td>2015-07-30 00:25:42</td>\n",
       "      <td>26</td>\n",
       "      <td>SEO</td>\n",
       "      <td>Chrome</td>\n",
       "      <td>M</td>\n",
       "      <td>31</td>\n",
       "      <td>1</td>\n",
       "    </tr>\n",
       "    <tr>\n",
       "      <th>134</th>\n",
       "      <td>2015-01-05 00:09:57</td>\n",
       "      <td>2015-01-05 00:09:57</td>\n",
       "      <td>23</td>\n",
       "      <td>SEO</td>\n",
       "      <td>IE</td>\n",
       "      <td>M</td>\n",
       "      <td>33</td>\n",
       "      <td>1</td>\n",
       "    </tr>\n",
       "    <tr>\n",
       "      <th>141</th>\n",
       "      <td>2015-01-10 17:13:50</td>\n",
       "      <td>2015-01-10 17:13:50</td>\n",
       "      <td>18</td>\n",
       "      <td>SEO</td>\n",
       "      <td>Safari</td>\n",
       "      <td>M</td>\n",
       "      <td>27</td>\n",
       "      <td>1</td>\n",
       "    </tr>\n",
       "    <tr>\n",
       "      <th>160</th>\n",
       "      <td>2015-01-06 08:56:42</td>\n",
       "      <td>2015-01-06 08:56:42</td>\n",
       "      <td>28</td>\n",
       "      <td>Direct</td>\n",
       "      <td>Safari</td>\n",
       "      <td>M</td>\n",
       "      <td>34</td>\n",
       "      <td>1</td>\n",
       "    </tr>\n",
       "    <tr>\n",
       "      <th>162</th>\n",
       "      <td>2015-06-10 04:22:41</td>\n",
       "      <td>2015-06-10 04:22:41</td>\n",
       "      <td>46</td>\n",
       "      <td>Ads</td>\n",
       "      <td>Safari</td>\n",
       "      <td>M</td>\n",
       "      <td>29</td>\n",
       "      <td>1</td>\n",
       "    </tr>\n",
       "    <tr>\n",
       "      <th>175</th>\n",
       "      <td>2015-01-07 11:51:20</td>\n",
       "      <td>2015-01-07 11:51:20</td>\n",
       "      <td>11</td>\n",
       "      <td>SEO</td>\n",
       "      <td>IE</td>\n",
       "      <td>M</td>\n",
       "      <td>30</td>\n",
       "      <td>1</td>\n",
       "    </tr>\n",
       "    <tr>\n",
       "      <th>190</th>\n",
       "      <td>2015-01-08 09:32:59</td>\n",
       "      <td>2015-01-08 09:32:59</td>\n",
       "      <td>14</td>\n",
       "      <td>Ads</td>\n",
       "      <td>FireFox</td>\n",
       "      <td>M</td>\n",
       "      <td>39</td>\n",
       "      <td>1</td>\n",
       "    </tr>\n",
       "    <tr>\n",
       "      <th>193</th>\n",
       "      <td>2015-01-07 14:00:20</td>\n",
       "      <td>2015-01-07 14:00:20</td>\n",
       "      <td>32</td>\n",
       "      <td>SEO</td>\n",
       "      <td>Chrome</td>\n",
       "      <td>F</td>\n",
       "      <td>28</td>\n",
       "      <td>1</td>\n",
       "    </tr>\n",
       "    <tr>\n",
       "      <th>205</th>\n",
       "      <td>2015-02-14 23:24:11</td>\n",
       "      <td>2015-02-14 23:24:11</td>\n",
       "      <td>61</td>\n",
       "      <td>SEO</td>\n",
       "      <td>Safari</td>\n",
       "      <td>M</td>\n",
       "      <td>21</td>\n",
       "      <td>1</td>\n",
       "    </tr>\n",
       "    <tr>\n",
       "      <th>206</th>\n",
       "      <td>2015-03-08 15:11:25</td>\n",
       "      <td>2015-03-08 15:11:25</td>\n",
       "      <td>50</td>\n",
       "      <td>SEO</td>\n",
       "      <td>IE</td>\n",
       "      <td>F</td>\n",
       "      <td>32</td>\n",
       "      <td>1</td>\n",
       "    </tr>\n",
       "    <tr>\n",
       "      <th>207</th>\n",
       "      <td>2015-01-04 04:20:27</td>\n",
       "      <td>2015-01-04 04:20:27</td>\n",
       "      <td>42</td>\n",
       "      <td>SEO</td>\n",
       "      <td>Chrome</td>\n",
       "      <td>M</td>\n",
       "      <td>38</td>\n",
       "      <td>1</td>\n",
       "    </tr>\n",
       "    <tr>\n",
       "      <th>213</th>\n",
       "      <td>2015-05-22 14:34:36</td>\n",
       "      <td>2015-05-22 14:34:36</td>\n",
       "      <td>34</td>\n",
       "      <td>SEO</td>\n",
       "      <td>Chrome</td>\n",
       "      <td>F</td>\n",
       "      <td>30</td>\n",
       "      <td>1</td>\n",
       "    </tr>\n",
       "    <tr>\n",
       "      <th>219</th>\n",
       "      <td>2015-01-08 23:28:13</td>\n",
       "      <td>2015-01-08 23:28:13</td>\n",
       "      <td>17</td>\n",
       "      <td>Ads</td>\n",
       "      <td>IE</td>\n",
       "      <td>M</td>\n",
       "      <td>29</td>\n",
       "      <td>1</td>\n",
       "    </tr>\n",
       "    <tr>\n",
       "      <th>222</th>\n",
       "      <td>2015-01-11 05:15:18</td>\n",
       "      <td>2015-01-11 05:15:18</td>\n",
       "      <td>44</td>\n",
       "      <td>Direct</td>\n",
       "      <td>Chrome</td>\n",
       "      <td>M</td>\n",
       "      <td>27</td>\n",
       "      <td>1</td>\n",
       "    </tr>\n",
       "    <tr>\n",
       "      <th>235</th>\n",
       "      <td>2015-01-04 02:15:07</td>\n",
       "      <td>2015-01-04 02:15:07</td>\n",
       "      <td>17</td>\n",
       "      <td>Ads</td>\n",
       "      <td>Chrome</td>\n",
       "      <td>F</td>\n",
       "      <td>26</td>\n",
       "      <td>1</td>\n",
       "    </tr>\n",
       "    <tr>\n",
       "      <th>245</th>\n",
       "      <td>2015-01-03 23:34:46</td>\n",
       "      <td>2015-01-03 23:34:46</td>\n",
       "      <td>57</td>\n",
       "      <td>Direct</td>\n",
       "      <td>FireFox</td>\n",
       "      <td>M</td>\n",
       "      <td>18</td>\n",
       "      <td>1</td>\n",
       "    </tr>\n",
       "    <tr>\n",
       "      <th>249</th>\n",
       "      <td>2015-06-01 12:36:19</td>\n",
       "      <td>2015-06-01 12:36:19</td>\n",
       "      <td>34</td>\n",
       "      <td>Direct</td>\n",
       "      <td>IE</td>\n",
       "      <td>M</td>\n",
       "      <td>18</td>\n",
       "      <td>1</td>\n",
       "    </tr>\n",
       "  </tbody>\n",
       "</table>\n",
       "</div>"
      ],
      "text/plain": [
       "            signup_time       purchase_time  purchase_value  source  browser  \\\n",
       "2   2015-01-01 18:52:44 2015-01-01 18:52:44              15     SEO    Opera   \n",
       "24  2015-01-11 01:51:15 2015-01-11 01:51:15              52  Direct       IE   \n",
       "25  2015-01-04 22:32:33 2015-01-04 22:32:33              31     SEO  FireFox   \n",
       "29  2015-01-07 03:44:53 2015-01-07 03:44:53              48     SEO   Chrome   \n",
       "59  2015-02-01 05:59:23 2015-02-01 05:59:23              36     SEO       IE   \n",
       "60  2015-01-18 02:51:59 2015-01-18 02:51:59              27     Ads       IE   \n",
       "63  2015-01-05 21:07:24 2015-01-05 21:07:24              14     Ads       IE   \n",
       "64  2015-01-07 17:45:16 2015-01-07 17:45:16              10     Ads  FireFox   \n",
       "77  2015-01-07 08:15:53 2015-01-07 08:15:53              65     SEO    Opera   \n",
       "83  2015-01-10 23:23:25 2015-01-10 23:23:25              38     Ads   Safari   \n",
       "93  2015-04-17 07:26:15 2015-04-17 07:26:15              44     Ads   Chrome   \n",
       "111 2015-01-06 21:48:13 2015-01-06 21:48:13              45     Ads       IE   \n",
       "132 2015-03-26 12:11:48 2015-03-26 12:11:48              45     SEO   Chrome   \n",
       "133 2015-07-30 00:25:42 2015-07-30 00:25:42              26     SEO   Chrome   \n",
       "134 2015-01-05 00:09:57 2015-01-05 00:09:57              23     SEO       IE   \n",
       "141 2015-01-10 17:13:50 2015-01-10 17:13:50              18     SEO   Safari   \n",
       "160 2015-01-06 08:56:42 2015-01-06 08:56:42              28  Direct   Safari   \n",
       "162 2015-06-10 04:22:41 2015-06-10 04:22:41              46     Ads   Safari   \n",
       "175 2015-01-07 11:51:20 2015-01-07 11:51:20              11     SEO       IE   \n",
       "190 2015-01-08 09:32:59 2015-01-08 09:32:59              14     Ads  FireFox   \n",
       "193 2015-01-07 14:00:20 2015-01-07 14:00:20              32     SEO   Chrome   \n",
       "205 2015-02-14 23:24:11 2015-02-14 23:24:11              61     SEO   Safari   \n",
       "206 2015-03-08 15:11:25 2015-03-08 15:11:25              50     SEO       IE   \n",
       "207 2015-01-04 04:20:27 2015-01-04 04:20:27              42     SEO   Chrome   \n",
       "213 2015-05-22 14:34:36 2015-05-22 14:34:36              34     SEO   Chrome   \n",
       "219 2015-01-08 23:28:13 2015-01-08 23:28:13              17     Ads       IE   \n",
       "222 2015-01-11 05:15:18 2015-01-11 05:15:18              44  Direct   Chrome   \n",
       "235 2015-01-04 02:15:07 2015-01-04 02:15:07              17     Ads   Chrome   \n",
       "245 2015-01-03 23:34:46 2015-01-03 23:34:46              57  Direct  FireFox   \n",
       "249 2015-06-01 12:36:19 2015-06-01 12:36:19              34  Direct       IE   \n",
       "\n",
       "    sex  age  is_fraud  \n",
       "2     M   53         1  \n",
       "24    F   35         1  \n",
       "25    M   36         1  \n",
       "29    F   27         1  \n",
       "59    M   30         1  \n",
       "60    M   28         1  \n",
       "63    M   35         1  \n",
       "64    M   36         1  \n",
       "77    F   30         1  \n",
       "83    M   43         1  \n",
       "93    F   26         1  \n",
       "111   F   22         1  \n",
       "132   M   41         1  \n",
       "133   M   31         1  \n",
       "134   M   33         1  \n",
       "141   M   27         1  \n",
       "160   M   34         1  \n",
       "162   M   29         1  \n",
       "175   M   30         1  \n",
       "190   M   39         1  \n",
       "193   F   28         1  \n",
       "205   M   21         1  \n",
       "206   F   32         1  \n",
       "207   M   38         1  \n",
       "213   F   30         1  \n",
       "219   M   29         1  \n",
       "222   M   27         1  \n",
       "235   F   26         1  \n",
       "245   M   18         1  \n",
       "249   M   18         1  "
      ]
     },
     "execution_count": 62,
     "metadata": {},
     "output_type": "execute_result"
    }
   ],
   "source": [
    "df_f.head(30)"
   ]
  },
  {
   "cell_type": "code",
   "execution_count": 63,
   "id": "a3492e4b",
   "metadata": {},
   "outputs": [],
   "source": [
    "# il semblerait que pour les transactions frauduleuses les variables signup_time et purchase_time soient égales, \n",
    "# ce qui pourrait s'expliquer que les transactions frauduleuses soient majoritairement effectuées par des robots"
   ]
  },
  {
   "cell_type": "markdown",
   "id": "30e29663",
   "metadata": {},
   "source": [
    "Tendance horaire"
   ]
  },
  {
   "cell_type": "code",
   "execution_count": 8,
   "id": "03ca5fb0",
   "metadata": {},
   "outputs": [
    {
     "data": {
      "text/plain": [
       "<matplotlib.legend.Legend at 0x21092ddbe50>"
      ]
     },
     "execution_count": 8,
     "metadata": {},
     "output_type": "execute_result"
    },
    {
     "data": {
      "image/png": "[encoded data removed]",
      "text/plain": [
       "<Figure size 1080x576 with 1 Axes>"
      ]
     },
     "metadata": {},
     "output_type": "display_data"
    }
   ],
   "source": [
    "df['hour']=pd.to_datetime(df['purchase_time']).dt.hour\n",
    "ax=sns.histplot(data=df, x=\"hour\", hue=\"is_fraud\", common_norm=False,stat='percent',multiple='dodge')\n",
    "ax.set_ylabel('Percentage')\n",
    "ax.set_xlabel('Time (Hour) in a Day')\n",
    "plt.xticks(np.arange(0,24,1))\n",
    "plt.legend(title='Type', labels=['Fraud', 'Not Fraud'])"
   ]
  },
  {
   "cell_type": "code",
   "execution_count": 10,
   "id": "64fce0fd",
   "metadata": {},
   "outputs": [
    {
     "data": {
      "text/html": [
       "<div>\n",
       "<style scoped>\n",
       "    .dataframe tbody tr th:only-of-type {\n",
       "        vertical-align: middle;\n",
       "    }\n",
       "\n",
       "    .dataframe tbody tr th {\n",
       "        vertical-align: top;\n",
       "    }\n",
       "\n",
       "    .dataframe thead th {\n",
       "        text-align: right;\n",
       "    }\n",
       "</style>\n",
       "<table border=\"1\" class=\"dataframe\">\n",
       "  <thead>\n",
       "    <tr style=\"text-align: right;\">\n",
       "      <th></th>\n",
       "      <th>signup_time</th>\n",
       "      <th>purchase_time</th>\n",
       "      <th>purchase_value</th>\n",
       "      <th>source</th>\n",
       "      <th>browser</th>\n",
       "      <th>sex</th>\n",
       "      <th>age</th>\n",
       "      <th>is_fraud</th>\n",
       "      <th>hour</th>\n",
       "    </tr>\n",
       "  </thead>\n",
       "  <tbody>\n",
       "    <tr>\n",
       "      <th>0</th>\n",
       "      <td>2015-02-24 22:55:49</td>\n",
       "      <td>2015-02-24 22:55:49</td>\n",
       "      <td>34</td>\n",
       "      <td>SEO</td>\n",
       "      <td>Chrome</td>\n",
       "      <td>M</td>\n",
       "      <td>39</td>\n",
       "      <td>0</td>\n",
       "      <td>22</td>\n",
       "    </tr>\n",
       "    <tr>\n",
       "      <th>1</th>\n",
       "      <td>2015-06-07 20:39:50</td>\n",
       "      <td>2015-06-07 20:39:50</td>\n",
       "      <td>16</td>\n",
       "      <td>Ads</td>\n",
       "      <td>Chrome</td>\n",
       "      <td>F</td>\n",
       "      <td>53</td>\n",
       "      <td>0</td>\n",
       "      <td>20</td>\n",
       "    </tr>\n",
       "    <tr>\n",
       "      <th>2</th>\n",
       "      <td>2015-01-01 18:52:44</td>\n",
       "      <td>2015-01-01 18:52:44</td>\n",
       "      <td>15</td>\n",
       "      <td>SEO</td>\n",
       "      <td>Opera</td>\n",
       "      <td>M</td>\n",
       "      <td>53</td>\n",
       "      <td>1</td>\n",
       "      <td>18</td>\n",
       "    </tr>\n",
       "    <tr>\n",
       "      <th>3</th>\n",
       "      <td>2015-04-28 21:13:25</td>\n",
       "      <td>2015-04-28 21:13:25</td>\n",
       "      <td>44</td>\n",
       "      <td>SEO</td>\n",
       "      <td>Safari</td>\n",
       "      <td>M</td>\n",
       "      <td>41</td>\n",
       "      <td>0</td>\n",
       "      <td>21</td>\n",
       "    </tr>\n",
       "    <tr>\n",
       "      <th>4</th>\n",
       "      <td>2015-07-21 07:09:52</td>\n",
       "      <td>2015-07-21 07:09:52</td>\n",
       "      <td>39</td>\n",
       "      <td>Ads</td>\n",
       "      <td>Safari</td>\n",
       "      <td>M</td>\n",
       "      <td>45</td>\n",
       "      <td>0</td>\n",
       "      <td>7</td>\n",
       "    </tr>\n",
       "  </tbody>\n",
       "</table>\n",
       "</div>"
      ],
      "text/plain": [
       "          signup_time       purchase_time  purchase_value source browser sex  \\\n",
       "0 2015-02-24 22:55:49 2015-02-24 22:55:49              34    SEO  Chrome   M   \n",
       "1 2015-06-07 20:39:50 2015-06-07 20:39:50              16    Ads  Chrome   F   \n",
       "2 2015-01-01 18:52:44 2015-01-01 18:52:44              15    SEO   Opera   M   \n",
       "3 2015-04-28 21:13:25 2015-04-28 21:13:25              44    SEO  Safari   M   \n",
       "4 2015-07-21 07:09:52 2015-07-21 07:09:52              39    Ads  Safari   M   \n",
       "\n",
       "   age  is_fraud  hour  \n",
       "0   39         0    22  \n",
       "1   53         0    20  \n",
       "2   53         1    18  \n",
       "3   41         0    21  \n",
       "4   45         0     7  "
      ]
     },
     "execution_count": 10,
     "metadata": {},
     "output_type": "execute_result"
    }
   ],
   "source": [
    "df.head()"
   ]
  },
  {
   "cell_type": "markdown",
   "id": "d0f18ed1",
   "metadata": {},
   "source": [
    "Il existe des pics des transactions frauduleuses à 9h, 17h et 19h"
   ]
  },
  {
   "cell_type": "markdown",
   "id": "ab99dc1c",
   "metadata": {},
   "source": [
    "Tendance jour "
   ]
  },
  {
   "cell_type": "code",
   "execution_count": 9,
   "id": "88284d9f",
   "metadata": {},
   "outputs": [
    {
     "name": "stderr",
     "output_type": "stream",
     "text": [
      "<ipython-input-9-27afe8af0642>:4: UserWarning: FixedFormatter should only be used together with FixedLocator\n",
      "  ax.set_xticklabels(['',\"Mon\",\"Tue\",\"Wed\",\"Thu\",\"Fri\",\"Sat\",\"Sun\"])\n"
     ]
    },
    {
     "data": {
      "text/plain": [
       "<matplotlib.legend.Legend at 0x21092d14160>"
      ]
     },
     "execution_count": 9,
     "metadata": {},
     "output_type": "execute_result"
    },
    {
     "data": {
      "image/png": "[encoded data removed]",
      "text/plain": [
       "<Figure size 1080x576 with 1 Axes>"
      ]
     },
     "metadata": {},
     "output_type": "display_data"
    }
   ],
   "source": [
    "#day of week vs fraud\n",
    "df['day']=pd.to_datetime(df['purchase_time']).dt.dayofweek\n",
    "ax=sns.histplot(data=df, x=\"day\", hue=\"is_fraud\", common_norm=False,stat='percent',multiple='dodge')\n",
    "ax.set_xticklabels(['',\"Mon\",\"Tue\",\"Wed\",\"Thu\",\"Fri\",\"Sat\",\"Sun\"])\n",
    "ax.set_ylabel('Percentage')\n",
    "ax.set_xlabel('Day of Week')\n",
    "plt.legend(title='Type', labels=['Fraud', 'Not Fraud'])"
   ]
  },
  {
   "cell_type": "markdown",
   "id": "2c435f21",
   "metadata": {},
   "source": [
    "il existe de pics le lundi, le jeudi, le vendredi et le dimanche"
   ]
  },
  {
   "cell_type": "markdown",
   "id": "f8e236df",
   "metadata": {},
   "source": [
    "Tendance mois"
   ]
  },
  {
   "cell_type": "code",
   "execution_count": 10,
   "id": "9282e779",
   "metadata": {},
   "outputs": [
    {
     "data": {
      "text/plain": [
       "<matplotlib.legend.Legend at 0x2109376dfd0>"
      ]
     },
     "execution_count": 10,
     "metadata": {},
     "output_type": "execute_result"
    },
    {
     "data": {
      "image/png": "[encoded data removed]",
      "text/plain": [
       "<Figure size 1080x576 with 1 Axes>"
      ]
     },
     "metadata": {},
     "output_type": "display_data"
    }
   ],
   "source": [
    "#month vs fraud\n",
    "df['month']=pd.to_datetime(df['purchase_time']).dt.month\n",
    "ax=sns.histplot(data=df, x=\"month\", hue=\"is_fraud\", common_norm=False,stat='percent',multiple='dodge')\n",
    "ax.set_ylabel('Percentage')\n",
    "ax.set_xlabel('Month')\n",
    "plt.xticks(np.arange(1,13,1))\n",
    "ax.set_xticklabels([\"Jan\",\"Feb\",\"Mar\",\"Apr\",\"May\",\"Jun\",\"Jul\",'Aug','Sep','Oct','Nov','Dec'])\n",
    "plt.legend(title='Type', labels=['Fraud', 'Not Fraud'])"
   ]
  },
  {
   "cell_type": "markdown",
   "id": "d11dba13",
   "metadata": {},
   "source": [
    "Les transactions enregistrées ont eu lieu de janvier à août\n",
    "Gros pic des transactions frauduleuses en janvier, peut-être suite aux fêtes de fin d'année"
   ]
  },
  {
   "cell_type": "markdown",
   "id": "5651ab58",
   "metadata": {},
   "source": [
    "Machine learning"
   ]
  },
  {
   "cell_type": "code",
   "execution_count": 11,
   "id": "396e43a9",
   "metadata": {},
   "outputs": [
    {
     "data": {
      "text/html": [
       "<div>\n",
       "<style scoped>\n",
       "    .dataframe tbody tr th:only-of-type {\n",
       "        vertical-align: middle;\n",
       "    }\n",
       "\n",
       "    .dataframe tbody tr th {\n",
       "        vertical-align: top;\n",
       "    }\n",
       "\n",
       "    .dataframe thead th {\n",
       "        text-align: right;\n",
       "    }\n",
       "</style>\n",
       "<table border=\"1\" class=\"dataframe\">\n",
       "  <thead>\n",
       "    <tr style=\"text-align: right;\">\n",
       "      <th></th>\n",
       "      <th>signup_time</th>\n",
       "      <th>purchase_time</th>\n",
       "      <th>purchase_value</th>\n",
       "      <th>source</th>\n",
       "      <th>browser</th>\n",
       "      <th>sex</th>\n",
       "      <th>age</th>\n",
       "      <th>is_fraud</th>\n",
       "      <th>hour</th>\n",
       "      <th>day</th>\n",
       "      <th>month</th>\n",
       "    </tr>\n",
       "  </thead>\n",
       "  <tbody>\n",
       "    <tr>\n",
       "      <th>0</th>\n",
       "      <td>2015-02-24 22:55:49</td>\n",
       "      <td>2015-02-24 22:55:49</td>\n",
       "      <td>34</td>\n",
       "      <td>SEO</td>\n",
       "      <td>Chrome</td>\n",
       "      <td>M</td>\n",
       "      <td>39</td>\n",
       "      <td>0</td>\n",
       "      <td>22</td>\n",
       "      <td>1</td>\n",
       "      <td>2</td>\n",
       "    </tr>\n",
       "    <tr>\n",
       "      <th>1</th>\n",
       "      <td>2015-06-07 20:39:50</td>\n",
       "      <td>2015-06-07 20:39:50</td>\n",
       "      <td>16</td>\n",
       "      <td>Ads</td>\n",
       "      <td>Chrome</td>\n",
       "      <td>F</td>\n",
       "      <td>53</td>\n",
       "      <td>0</td>\n",
       "      <td>20</td>\n",
       "      <td>6</td>\n",
       "      <td>6</td>\n",
       "    </tr>\n",
       "    <tr>\n",
       "      <th>2</th>\n",
       "      <td>2015-01-01 18:52:44</td>\n",
       "      <td>2015-01-01 18:52:44</td>\n",
       "      <td>15</td>\n",
       "      <td>SEO</td>\n",
       "      <td>Opera</td>\n",
       "      <td>M</td>\n",
       "      <td>53</td>\n",
       "      <td>1</td>\n",
       "      <td>18</td>\n",
       "      <td>3</td>\n",
       "      <td>1</td>\n",
       "    </tr>\n",
       "    <tr>\n",
       "      <th>3</th>\n",
       "      <td>2015-04-28 21:13:25</td>\n",
       "      <td>2015-04-28 21:13:25</td>\n",
       "      <td>44</td>\n",
       "      <td>SEO</td>\n",
       "      <td>Safari</td>\n",
       "      <td>M</td>\n",
       "      <td>41</td>\n",
       "      <td>0</td>\n",
       "      <td>21</td>\n",
       "      <td>1</td>\n",
       "      <td>4</td>\n",
       "    </tr>\n",
       "    <tr>\n",
       "      <th>4</th>\n",
       "      <td>2015-07-21 07:09:52</td>\n",
       "      <td>2015-07-21 07:09:52</td>\n",
       "      <td>39</td>\n",
       "      <td>Ads</td>\n",
       "      <td>Safari</td>\n",
       "      <td>M</td>\n",
       "      <td>45</td>\n",
       "      <td>0</td>\n",
       "      <td>7</td>\n",
       "      <td>1</td>\n",
       "      <td>7</td>\n",
       "    </tr>\n",
       "  </tbody>\n",
       "</table>\n",
       "</div>"
      ],
      "text/plain": [
       "          signup_time       purchase_time  purchase_value source browser sex  \\\n",
       "0 2015-02-24 22:55:49 2015-02-24 22:55:49              34    SEO  Chrome   M   \n",
       "1 2015-06-07 20:39:50 2015-06-07 20:39:50              16    Ads  Chrome   F   \n",
       "2 2015-01-01 18:52:44 2015-01-01 18:52:44              15    SEO   Opera   M   \n",
       "3 2015-04-28 21:13:25 2015-04-28 21:13:25              44    SEO  Safari   M   \n",
       "4 2015-07-21 07:09:52 2015-07-21 07:09:52              39    Ads  Safari   M   \n",
       "\n",
       "   age  is_fraud  hour  day  month  \n",
       "0   39         0    22    1      2  \n",
       "1   53         0    20    6      6  \n",
       "2   53         1    18    3      1  \n",
       "3   41         0    21    1      4  \n",
       "4   45         0     7    1      7  "
      ]
     },
     "execution_count": 11,
     "metadata": {},
     "output_type": "execute_result"
    }
   ],
   "source": [
    "df.head()"
   ]
  },
  {
   "cell_type": "code",
   "execution_count": 12,
   "id": "c4940273",
   "metadata": {},
   "outputs": [
    {
     "data": {
      "text/html": [
       "<div>\n",
       "<style scoped>\n",
       "    .dataframe tbody tr th:only-of-type {\n",
       "        vertical-align: middle;\n",
       "    }\n",
       "\n",
       "    .dataframe tbody tr th {\n",
       "        vertical-align: top;\n",
       "    }\n",
       "\n",
       "    .dataframe thead th {\n",
       "        text-align: right;\n",
       "    }\n",
       "</style>\n",
       "<table border=\"1\" class=\"dataframe\">\n",
       "  <thead>\n",
       "    <tr style=\"text-align: right;\">\n",
       "      <th></th>\n",
       "      <th>purchase_value</th>\n",
       "      <th>source</th>\n",
       "      <th>browser</th>\n",
       "      <th>sex</th>\n",
       "      <th>age</th>\n",
       "      <th>is_fraud</th>\n",
       "      <th>hour</th>\n",
       "      <th>day</th>\n",
       "      <th>month</th>\n",
       "    </tr>\n",
       "  </thead>\n",
       "  <tbody>\n",
       "    <tr>\n",
       "      <th>0</th>\n",
       "      <td>34</td>\n",
       "      <td>SEO</td>\n",
       "      <td>Chrome</td>\n",
       "      <td>M</td>\n",
       "      <td>39</td>\n",
       "      <td>0</td>\n",
       "      <td>22</td>\n",
       "      <td>1</td>\n",
       "      <td>2</td>\n",
       "    </tr>\n",
       "    <tr>\n",
       "      <th>1</th>\n",
       "      <td>16</td>\n",
       "      <td>Ads</td>\n",
       "      <td>Chrome</td>\n",
       "      <td>F</td>\n",
       "      <td>53</td>\n",
       "      <td>0</td>\n",
       "      <td>20</td>\n",
       "      <td>6</td>\n",
       "      <td>6</td>\n",
       "    </tr>\n",
       "    <tr>\n",
       "      <th>2</th>\n",
       "      <td>15</td>\n",
       "      <td>SEO</td>\n",
       "      <td>Opera</td>\n",
       "      <td>M</td>\n",
       "      <td>53</td>\n",
       "      <td>1</td>\n",
       "      <td>18</td>\n",
       "      <td>3</td>\n",
       "      <td>1</td>\n",
       "    </tr>\n",
       "    <tr>\n",
       "      <th>3</th>\n",
       "      <td>44</td>\n",
       "      <td>SEO</td>\n",
       "      <td>Safari</td>\n",
       "      <td>M</td>\n",
       "      <td>41</td>\n",
       "      <td>0</td>\n",
       "      <td>21</td>\n",
       "      <td>1</td>\n",
       "      <td>4</td>\n",
       "    </tr>\n",
       "    <tr>\n",
       "      <th>4</th>\n",
       "      <td>39</td>\n",
       "      <td>Ads</td>\n",
       "      <td>Safari</td>\n",
       "      <td>M</td>\n",
       "      <td>45</td>\n",
       "      <td>0</td>\n",
       "      <td>7</td>\n",
       "      <td>1</td>\n",
       "      <td>7</td>\n",
       "    </tr>\n",
       "  </tbody>\n",
       "</table>\n",
       "</div>"
      ],
      "text/plain": [
       "   purchase_value source browser sex  age  is_fraud  hour  day  month\n",
       "0              34    SEO  Chrome   M   39         0    22    1      2\n",
       "1              16    Ads  Chrome   F   53         0    20    6      6\n",
       "2              15    SEO   Opera   M   53         1    18    3      1\n",
       "3              44    SEO  Safari   M   41         0    21    1      4\n",
       "4              39    Ads  Safari   M   45         0     7    1      7"
      ]
     },
     "execution_count": 12,
     "metadata": {},
     "output_type": "execute_result"
    }
   ],
   "source": [
    "# suppressions des variables 'signup_time' et 'purchase_time'\n",
    "df1 = df.drop(['signup_time', 'purchase_time'], axis =1)\n",
    "df1.head()"
   ]
  },
  {
   "cell_type": "markdown",
   "id": "a11013f1",
   "metadata": {},
   "source": [
    "Nous sommes face à un problème d'apprentissage supervisé car il existe une variable cible, la variable 'is_fraud'. La variable 'is_fraud' est qualitative, il s'agit donc d'un problème de classification. Pour permettre le fonctionnement des algorithmes de prédiction, nous proposons d'encoder grâce à la méthode 'One Hot Encoding' des variables qualitatives 'source', 'browser', 'sex'. "
   ]
  },
  {
   "cell_type": "code",
   "execution_count": 13,
   "id": "1dc61654",
   "metadata": {},
   "outputs": [
    {
     "data": {
      "text/html": [
       "<div>\n",
       "<style scoped>\n",
       "    .dataframe tbody tr th:only-of-type {\n",
       "        vertical-align: middle;\n",
       "    }\n",
       "\n",
       "    .dataframe tbody tr th {\n",
       "        vertical-align: top;\n",
       "    }\n",
       "\n",
       "    .dataframe thead th {\n",
       "        text-align: right;\n",
       "    }\n",
       "</style>\n",
       "<table border=\"1\" class=\"dataframe\">\n",
       "  <thead>\n",
       "    <tr style=\"text-align: right;\">\n",
       "      <th></th>\n",
       "      <th>purchase_value</th>\n",
       "      <th>age</th>\n",
       "      <th>is_fraud</th>\n",
       "      <th>hour</th>\n",
       "      <th>day</th>\n",
       "      <th>month</th>\n",
       "      <th>source_Ads</th>\n",
       "      <th>source_Direct</th>\n",
       "      <th>source_SEO</th>\n",
       "      <th>browser_Chrome</th>\n",
       "      <th>browser_FireFox</th>\n",
       "      <th>browser_IE</th>\n",
       "      <th>browser_Opera</th>\n",
       "      <th>browser_Safari</th>\n",
       "      <th>sex_F</th>\n",
       "      <th>sex_M</th>\n",
       "    </tr>\n",
       "  </thead>\n",
       "  <tbody>\n",
       "    <tr>\n",
       "      <th>0</th>\n",
       "      <td>34</td>\n",
       "      <td>39</td>\n",
       "      <td>0</td>\n",
       "      <td>22</td>\n",
       "      <td>1</td>\n",
       "      <td>2</td>\n",
       "      <td>0</td>\n",
       "      <td>0</td>\n",
       "      <td>1</td>\n",
       "      <td>1</td>\n",
       "      <td>0</td>\n",
       "      <td>0</td>\n",
       "      <td>0</td>\n",
       "      <td>0</td>\n",
       "      <td>0</td>\n",
       "      <td>1</td>\n",
       "    </tr>\n",
       "    <tr>\n",
       "      <th>1</th>\n",
       "      <td>16</td>\n",
       "      <td>53</td>\n",
       "      <td>0</td>\n",
       "      <td>20</td>\n",
       "      <td>6</td>\n",
       "      <td>6</td>\n",
       "      <td>1</td>\n",
       "      <td>0</td>\n",
       "      <td>0</td>\n",
       "      <td>1</td>\n",
       "      <td>0</td>\n",
       "      <td>0</td>\n",
       "      <td>0</td>\n",
       "      <td>0</td>\n",
       "      <td>1</td>\n",
       "      <td>0</td>\n",
       "    </tr>\n",
       "    <tr>\n",
       "      <th>2</th>\n",
       "      <td>15</td>\n",
       "      <td>53</td>\n",
       "      <td>1</td>\n",
       "      <td>18</td>\n",
       "      <td>3</td>\n",
       "      <td>1</td>\n",
       "      <td>0</td>\n",
       "      <td>0</td>\n",
       "      <td>1</td>\n",
       "      <td>0</td>\n",
       "      <td>0</td>\n",
       "      <td>0</td>\n",
       "      <td>1</td>\n",
       "      <td>0</td>\n",
       "      <td>0</td>\n",
       "      <td>1</td>\n",
       "    </tr>\n",
       "    <tr>\n",
       "      <th>3</th>\n",
       "      <td>44</td>\n",
       "      <td>41</td>\n",
       "      <td>0</td>\n",
       "      <td>21</td>\n",
       "      <td>1</td>\n",
       "      <td>4</td>\n",
       "      <td>0</td>\n",
       "      <td>0</td>\n",
       "      <td>1</td>\n",
       "      <td>0</td>\n",
       "      <td>0</td>\n",
       "      <td>0</td>\n",
       "      <td>0</td>\n",
       "      <td>1</td>\n",
       "      <td>0</td>\n",
       "      <td>1</td>\n",
       "    </tr>\n",
       "    <tr>\n",
       "      <th>4</th>\n",
       "      <td>39</td>\n",
       "      <td>45</td>\n",
       "      <td>0</td>\n",
       "      <td>7</td>\n",
       "      <td>1</td>\n",
       "      <td>7</td>\n",
       "      <td>1</td>\n",
       "      <td>0</td>\n",
       "      <td>0</td>\n",
       "      <td>0</td>\n",
       "      <td>0</td>\n",
       "      <td>0</td>\n",
       "      <td>0</td>\n",
       "      <td>1</td>\n",
       "      <td>0</td>\n",
       "      <td>1</td>\n",
       "    </tr>\n",
       "  </tbody>\n",
       "</table>\n",
       "</div>"
      ],
      "text/plain": [
       "   purchase_value  age  is_fraud  hour  day  month  source_Ads  source_Direct  \\\n",
       "0              34   39         0    22    1      2           0              0   \n",
       "1              16   53         0    20    6      6           1              0   \n",
       "2              15   53         1    18    3      1           0              0   \n",
       "3              44   41         0    21    1      4           0              0   \n",
       "4              39   45         0     7    1      7           1              0   \n",
       "\n",
       "   source_SEO  browser_Chrome  browser_FireFox  browser_IE  browser_Opera  \\\n",
       "0           1               1                0           0              0   \n",
       "1           0               1                0           0              0   \n",
       "2           1               0                0           0              1   \n",
       "3           1               0                0           0              0   \n",
       "4           0               0                0           0              0   \n",
       "\n",
       "   browser_Safari  sex_F  sex_M  \n",
       "0               0      0      1  \n",
       "1               0      1      0  \n",
       "2               0      0      1  \n",
       "3               1      0      1  \n",
       "4               1      0      1  "
      ]
     },
     "execution_count": 13,
     "metadata": {},
     "output_type": "execute_result"
    }
   ],
   "source": [
    "df2 = pd.get_dummies(df1, columns = ['source', 'browser', 'sex'])\n",
    "df2.head()"
   ]
  },
  {
   "cell_type": "markdown",
   "id": "9786cc81",
   "metadata": {},
   "source": [
    "Nous procédons à la désignation des variables explicatives et de la variable cible."
   ]
  },
  {
   "cell_type": "code",
   "execution_count": 14,
   "id": "1ab57f4d",
   "metadata": {},
   "outputs": [],
   "source": [
    "# les variables explicatives\n",
    "X = df2.drop(['is_fraud'], axis = 1)\n",
    "# la variable cible\n",
    "y = df2['is_fraud']"
   ]
  },
  {
   "cell_type": "code",
   "execution_count": 15,
   "id": "1af7d801",
   "metadata": {},
   "outputs": [
    {
     "data": {
      "text/html": [
       "<div>\n",
       "<style scoped>\n",
       "    .dataframe tbody tr th:only-of-type {\n",
       "        vertical-align: middle;\n",
       "    }\n",
       "\n",
       "    .dataframe tbody tr th {\n",
       "        vertical-align: top;\n",
       "    }\n",
       "\n",
       "    .dataframe thead th {\n",
       "        text-align: right;\n",
       "    }\n",
       "</style>\n",
       "<table border=\"1\" class=\"dataframe\">\n",
       "  <thead>\n",
       "    <tr style=\"text-align: right;\">\n",
       "      <th></th>\n",
       "      <th>purchase_value</th>\n",
       "      <th>age</th>\n",
       "      <th>hour</th>\n",
       "      <th>day</th>\n",
       "      <th>month</th>\n",
       "      <th>source_Ads</th>\n",
       "      <th>source_Direct</th>\n",
       "      <th>source_SEO</th>\n",
       "      <th>browser_Chrome</th>\n",
       "      <th>browser_FireFox</th>\n",
       "      <th>browser_IE</th>\n",
       "      <th>browser_Opera</th>\n",
       "      <th>browser_Safari</th>\n",
       "      <th>sex_F</th>\n",
       "      <th>sex_M</th>\n",
       "    </tr>\n",
       "  </thead>\n",
       "  <tbody>\n",
       "    <tr>\n",
       "      <th>0</th>\n",
       "      <td>34</td>\n",
       "      <td>39</td>\n",
       "      <td>22</td>\n",
       "      <td>1</td>\n",
       "      <td>2</td>\n",
       "      <td>0</td>\n",
       "      <td>0</td>\n",
       "      <td>1</td>\n",
       "      <td>1</td>\n",
       "      <td>0</td>\n",
       "      <td>0</td>\n",
       "      <td>0</td>\n",
       "      <td>0</td>\n",
       "      <td>0</td>\n",
       "      <td>1</td>\n",
       "    </tr>\n",
       "    <tr>\n",
       "      <th>1</th>\n",
       "      <td>16</td>\n",
       "      <td>53</td>\n",
       "      <td>20</td>\n",
       "      <td>6</td>\n",
       "      <td>6</td>\n",
       "      <td>1</td>\n",
       "      <td>0</td>\n",
       "      <td>0</td>\n",
       "      <td>1</td>\n",
       "      <td>0</td>\n",
       "      <td>0</td>\n",
       "      <td>0</td>\n",
       "      <td>0</td>\n",
       "      <td>1</td>\n",
       "      <td>0</td>\n",
       "    </tr>\n",
       "    <tr>\n",
       "      <th>2</th>\n",
       "      <td>15</td>\n",
       "      <td>53</td>\n",
       "      <td>18</td>\n",
       "      <td>3</td>\n",
       "      <td>1</td>\n",
       "      <td>0</td>\n",
       "      <td>0</td>\n",
       "      <td>1</td>\n",
       "      <td>0</td>\n",
       "      <td>0</td>\n",
       "      <td>0</td>\n",
       "      <td>1</td>\n",
       "      <td>0</td>\n",
       "      <td>0</td>\n",
       "      <td>1</td>\n",
       "    </tr>\n",
       "    <tr>\n",
       "      <th>3</th>\n",
       "      <td>44</td>\n",
       "      <td>41</td>\n",
       "      <td>21</td>\n",
       "      <td>1</td>\n",
       "      <td>4</td>\n",
       "      <td>0</td>\n",
       "      <td>0</td>\n",
       "      <td>1</td>\n",
       "      <td>0</td>\n",
       "      <td>0</td>\n",
       "      <td>0</td>\n",
       "      <td>0</td>\n",
       "      <td>1</td>\n",
       "      <td>0</td>\n",
       "      <td>1</td>\n",
       "    </tr>\n",
       "    <tr>\n",
       "      <th>4</th>\n",
       "      <td>39</td>\n",
       "      <td>45</td>\n",
       "      <td>7</td>\n",
       "      <td>1</td>\n",
       "      <td>7</td>\n",
       "      <td>1</td>\n",
       "      <td>0</td>\n",
       "      <td>0</td>\n",
       "      <td>0</td>\n",
       "      <td>0</td>\n",
       "      <td>0</td>\n",
       "      <td>0</td>\n",
       "      <td>1</td>\n",
       "      <td>0</td>\n",
       "      <td>1</td>\n",
       "    </tr>\n",
       "  </tbody>\n",
       "</table>\n",
       "</div>"
      ],
      "text/plain": [
       "   purchase_value  age  hour  day  month  source_Ads  source_Direct  \\\n",
       "0              34   39    22    1      2           0              0   \n",
       "1              16   53    20    6      6           1              0   \n",
       "2              15   53    18    3      1           0              0   \n",
       "3              44   41    21    1      4           0              0   \n",
       "4              39   45     7    1      7           1              0   \n",
       "\n",
       "   source_SEO  browser_Chrome  browser_FireFox  browser_IE  browser_Opera  \\\n",
       "0           1               1                0           0              0   \n",
       "1           0               1                0           0              0   \n",
       "2           1               0                0           0              1   \n",
       "3           1               0                0           0              0   \n",
       "4           0               0                0           0              0   \n",
       "\n",
       "   browser_Safari  sex_F  sex_M  \n",
       "0               0      0      1  \n",
       "1               0      1      0  \n",
       "2               0      0      1  \n",
       "3               1      0      1  \n",
       "4               1      0      1  "
      ]
     },
     "execution_count": 15,
     "metadata": {},
     "output_type": "execute_result"
    }
   ],
   "source": [
    "X.head()"
   ]
  },
  {
   "cell_type": "code",
   "execution_count": 16,
   "id": "10d86a4a",
   "metadata": {},
   "outputs": [],
   "source": [
    "# les variables explicatives\n",
    "X_2 = df2.drop(['is_fraud'], axis = 1)\n",
    "# la variable cible\n",
    "y_2 = df2['is_fraud']"
   ]
  },
  {
   "cell_type": "code",
   "execution_count": 17,
   "id": "936ff79a",
   "metadata": {},
   "outputs": [
    {
     "data": {
      "text/html": [
       "<div>\n",
       "<style scoped>\n",
       "    .dataframe tbody tr th:only-of-type {\n",
       "        vertical-align: middle;\n",
       "    }\n",
       "\n",
       "    .dataframe tbody tr th {\n",
       "        vertical-align: top;\n",
       "    }\n",
       "\n",
       "    .dataframe thead th {\n",
       "        text-align: right;\n",
       "    }\n",
       "</style>\n",
       "<table border=\"1\" class=\"dataframe\">\n",
       "  <thead>\n",
       "    <tr style=\"text-align: right;\">\n",
       "      <th></th>\n",
       "      <th>purchase_value</th>\n",
       "      <th>age</th>\n",
       "      <th>hour</th>\n",
       "      <th>day</th>\n",
       "      <th>month</th>\n",
       "      <th>source_Ads</th>\n",
       "      <th>source_Direct</th>\n",
       "      <th>source_SEO</th>\n",
       "      <th>browser_Chrome</th>\n",
       "      <th>browser_FireFox</th>\n",
       "      <th>browser_IE</th>\n",
       "      <th>browser_Opera</th>\n",
       "      <th>browser_Safari</th>\n",
       "      <th>sex_F</th>\n",
       "      <th>sex_M</th>\n",
       "    </tr>\n",
       "  </thead>\n",
       "  <tbody>\n",
       "    <tr>\n",
       "      <th>0</th>\n",
       "      <td>34</td>\n",
       "      <td>39</td>\n",
       "      <td>22</td>\n",
       "      <td>1</td>\n",
       "      <td>2</td>\n",
       "      <td>0</td>\n",
       "      <td>0</td>\n",
       "      <td>1</td>\n",
       "      <td>1</td>\n",
       "      <td>0</td>\n",
       "      <td>0</td>\n",
       "      <td>0</td>\n",
       "      <td>0</td>\n",
       "      <td>0</td>\n",
       "      <td>1</td>\n",
       "    </tr>\n",
       "    <tr>\n",
       "      <th>1</th>\n",
       "      <td>16</td>\n",
       "      <td>53</td>\n",
       "      <td>20</td>\n",
       "      <td>6</td>\n",
       "      <td>6</td>\n",
       "      <td>1</td>\n",
       "      <td>0</td>\n",
       "      <td>0</td>\n",
       "      <td>1</td>\n",
       "      <td>0</td>\n",
       "      <td>0</td>\n",
       "      <td>0</td>\n",
       "      <td>0</td>\n",
       "      <td>1</td>\n",
       "      <td>0</td>\n",
       "    </tr>\n",
       "    <tr>\n",
       "      <th>2</th>\n",
       "      <td>15</td>\n",
       "      <td>53</td>\n",
       "      <td>18</td>\n",
       "      <td>3</td>\n",
       "      <td>1</td>\n",
       "      <td>0</td>\n",
       "      <td>0</td>\n",
       "      <td>1</td>\n",
       "      <td>0</td>\n",
       "      <td>0</td>\n",
       "      <td>0</td>\n",
       "      <td>1</td>\n",
       "      <td>0</td>\n",
       "      <td>0</td>\n",
       "      <td>1</td>\n",
       "    </tr>\n",
       "    <tr>\n",
       "      <th>3</th>\n",
       "      <td>44</td>\n",
       "      <td>41</td>\n",
       "      <td>21</td>\n",
       "      <td>1</td>\n",
       "      <td>4</td>\n",
       "      <td>0</td>\n",
       "      <td>0</td>\n",
       "      <td>1</td>\n",
       "      <td>0</td>\n",
       "      <td>0</td>\n",
       "      <td>0</td>\n",
       "      <td>0</td>\n",
       "      <td>1</td>\n",
       "      <td>0</td>\n",
       "      <td>1</td>\n",
       "    </tr>\n",
       "    <tr>\n",
       "      <th>4</th>\n",
       "      <td>39</td>\n",
       "      <td>45</td>\n",
       "      <td>7</td>\n",
       "      <td>1</td>\n",
       "      <td>7</td>\n",
       "      <td>1</td>\n",
       "      <td>0</td>\n",
       "      <td>0</td>\n",
       "      <td>0</td>\n",
       "      <td>0</td>\n",
       "      <td>0</td>\n",
       "      <td>0</td>\n",
       "      <td>1</td>\n",
       "      <td>0</td>\n",
       "      <td>1</td>\n",
       "    </tr>\n",
       "  </tbody>\n",
       "</table>\n",
       "</div>"
      ],
      "text/plain": [
       "   purchase_value  age  hour  day  month  source_Ads  source_Direct  \\\n",
       "0              34   39    22    1      2           0              0   \n",
       "1              16   53    20    6      6           1              0   \n",
       "2              15   53    18    3      1           0              0   \n",
       "3              44   41    21    1      4           0              0   \n",
       "4              39   45     7    1      7           1              0   \n",
       "\n",
       "   source_SEO  browser_Chrome  browser_FireFox  browser_IE  browser_Opera  \\\n",
       "0           1               1                0           0              0   \n",
       "1           0               1                0           0              0   \n",
       "2           1               0                0           0              1   \n",
       "3           1               0                0           0              0   \n",
       "4           0               0                0           0              0   \n",
       "\n",
       "   browser_Safari  sex_F  sex_M  \n",
       "0               0      0      1  \n",
       "1               0      1      0  \n",
       "2               0      0      1  \n",
       "3               1      0      1  \n",
       "4               1      0      1  "
      ]
     },
     "execution_count": 17,
     "metadata": {},
     "output_type": "execute_result"
    }
   ],
   "source": [
    "X_2.head()"
   ]
  },
  {
   "cell_type": "code",
   "execution_count": 18,
   "id": "5bb36f7b",
   "metadata": {},
   "outputs": [
    {
     "name": "stdout",
     "output_type": "stream",
     "text": [
      "Counter({0: 136961, 1: 14151})\n",
      "Counter({0: 120400, 1: 30712})\n"
     ]
    }
   ],
   "source": [
    "from collections import Counter\n",
    "from sklearn.datasets import make_classification\n",
    "X_2, y_2 = make_classification(n_samples=151112, n_features=15,\n",
    "                           n_redundant=0, n_repeated=0, n_classes=2,\n",
    "                           weights=[0.8, 0.2],\n",
    "                           class_sep=0.8, random_state=0)\n",
    "# class distribution\n",
    "print(Counter(y))\n",
    "print(Counter(y_2))"
   ]
  },
  {
   "cell_type": "code",
   "execution_count": 19,
   "id": "13712f13",
   "metadata": {},
   "outputs": [
    {
     "data": {
      "text/plain": [
       "array([-0.33225667,  0.81409547,  0.55071934, -0.51205733,  0.20936434,\n",
       "       -0.79315262, -1.01663328, -0.47634431,  1.21749682,  1.19815195,\n",
       "       -1.21036562, -1.38924262, -0.07820605,  0.82914616,  0.02649766])"
      ]
     },
     "execution_count": 19,
     "metadata": {},
     "output_type": "execute_result"
    }
   ],
   "source": [
    "X_2[0]"
   ]
  },
  {
   "cell_type": "code",
   "execution_count": 73,
   "id": "4d9dcbb0",
   "metadata": {},
   "outputs": [
    {
     "name": "stdout",
     "output_type": "stream",
     "text": [
      "Help on function make_classification in module sklearn.datasets._samples_generator:\n",
      "\n",
      "make_classification(n_samples=100, n_features=20, *, n_informative=2, n_redundant=2, n_repeated=0, n_classes=2, n_clusters_per_class=2, weights=None, flip_y=0.01, class_sep=1.0, hypercube=True, shift=0.0, scale=1.0, shuffle=True, random_state=None)\n",
      "    Generate a random n-class classification problem.\n",
      "    \n",
      "    This initially creates clusters of points normally distributed (std=1)\n",
      "    about vertices of an ``n_informative``-dimensional hypercube with sides of\n",
      "    length ``2*class_sep`` and assigns an equal number of clusters to each\n",
      "    class. It introduces interdependence between these features and adds\n",
      "    various types of further noise to the data.\n",
      "    \n",
      "    Without shuffling, ``X`` horizontally stacks features in the following\n",
      "    order: the primary ``n_informative`` features, followed by ``n_redundant``\n",
      "    linear combinations of the informative features, followed by ``n_repeated``\n",
      "    duplicates, drawn randomly with replacement from the informative and\n",
      "    redundant features. The remaining features are filled with random noise.\n",
      "    Thus, without shuffling, all useful features are contained in the columns\n",
      "    ``X[:, :n_informative + n_redundant + n_repeated]``.\n",
      "    \n",
      "    Read more in the :ref:`User Guide <sample_generators>`.\n",
      "    \n",
      "    Parameters\n",
      "    ----------\n",
      "    n_samples : int, default=100\n",
      "        The number of samples.\n",
      "    \n",
      "    n_features : int, default=20\n",
      "        The total number of features. These comprise ``n_informative``\n",
      "        informative features, ``n_redundant`` redundant features,\n",
      "        ``n_repeated`` duplicated features and\n",
      "        ``n_features-n_informative-n_redundant-n_repeated`` useless features\n",
      "        drawn at random.\n",
      "    \n",
      "    n_informative : int, default=2\n",
      "        The number of informative features. Each class is composed of a number\n",
      "        of gaussian clusters each located around the vertices of a hypercube\n",
      "        in a subspace of dimension ``n_informative``. For each cluster,\n",
      "        informative features are drawn independently from  N(0, 1) and then\n",
      "        randomly linearly combined within each cluster in order to add\n",
      "        covariance. The clusters are then placed on the vertices of the\n",
      "        hypercube.\n",
      "    \n",
      "    n_redundant : int, default=2\n",
      "        The number of redundant features. These features are generated as\n",
      "        random linear combinations of the informative features.\n",
      "    \n",
      "    n_repeated : int, default=0\n",
      "        The number of duplicated features, drawn randomly from the informative\n",
      "        and the redundant features.\n",
      "    \n",
      "    n_classes : int, default=2\n",
      "        The number of classes (or labels) of the classification problem.\n",
      "    \n",
      "    n_clusters_per_class : int, default=2\n",
      "        The number of clusters per class.\n",
      "    \n",
      "    weights : array-like of shape (n_classes,) or (n_classes - 1,),              default=None\n",
      "        The proportions of samples assigned to each class. If None, then\n",
      "        classes are balanced. Note that if ``len(weights) == n_classes - 1``,\n",
      "        then the last class weight is automatically inferred.\n",
      "        More than ``n_samples`` samples may be returned if the sum of\n",
      "        ``weights`` exceeds 1. Note that the actual class proportions will\n",
      "        not exactly match ``weights`` when ``flip_y`` isn't 0.\n",
      "    \n",
      "    flip_y : float, default=0.01\n",
      "        The fraction of samples whose class is assigned randomly. Larger\n",
      "        values introduce noise in the labels and make the classification\n",
      "        task harder. Note that the default setting flip_y > 0 might lead\n",
      "        to less than ``n_classes`` in y in some cases.\n",
      "    \n",
      "    class_sep : float, default=1.0\n",
      "        The factor multiplying the hypercube size.  Larger values spread\n",
      "        out the clusters/classes and make the classification task easier.\n",
      "    \n",
      "    hypercube : bool, default=True\n",
      "        If True, the clusters are put on the vertices of a hypercube. If\n",
      "        False, the clusters are put on the vertices of a random polytope.\n",
      "    \n",
      "    shift : float, ndarray of shape (n_features,) or None, default=0.0\n",
      "        Shift features by the specified value. If None, then features\n",
      "        are shifted by a random value drawn in [-class_sep, class_sep].\n",
      "    \n",
      "    scale : float, ndarray of shape (n_features,) or None, default=1.0\n",
      "        Multiply features by the specified value. If None, then features\n",
      "        are scaled by a random value drawn in [1, 100]. Note that scaling\n",
      "        happens after shifting.\n",
      "    \n",
      "    shuffle : bool, default=True\n",
      "        Shuffle the samples and the features.\n",
      "    \n",
      "    random_state : int, RandomState instance or None, default=None\n",
      "        Determines random number generation for dataset creation. Pass an int\n",
      "        for reproducible output across multiple function calls.\n",
      "        See :term:`Glossary <random_state>`.\n",
      "    \n",
      "    Returns\n",
      "    -------\n",
      "    X : ndarray of shape (n_samples, n_features)\n",
      "        The generated samples.\n",
      "    \n",
      "    y : ndarray of shape (n_samples,)\n",
      "        The integer labels for class membership of each sample.\n",
      "    \n",
      "    Notes\n",
      "    -----\n",
      "    The algorithm is adapted from Guyon [1] and was designed to generate\n",
      "    the \"Madelon\" dataset.\n",
      "    \n",
      "    References\n",
      "    ----------\n",
      "    .. [1] I. Guyon, \"Design of experiments for the NIPS 2003 variable\n",
      "           selection benchmark\", 2003.\n",
      "    \n",
      "    See Also\n",
      "    --------\n",
      "    make_blobs : Simplified variant.\n",
      "    make_multilabel_classification : Unrelated generator for multilabel tasks.\n",
      "\n"
     ]
    }
   ],
   "source": [
    "\n",
    "help(make_classification)"
   ]
  },
  {
   "cell_type": "code",
   "execution_count": 20,
   "id": "483aef0b",
   "metadata": {},
   "outputs": [],
   "source": [
    "#import de la fonction train_test_split\n",
    "from sklearn.model_selection import train_test_split\n",
    "\n",
    "#séparation des jeux de test et d'entrainement\n",
    "X_train, X_test, y_train, y_test = train_test_split(X,y,test_size=0.2, random_state = 42, stratify =y)\n"
   ]
  },
  {
   "cell_type": "code",
   "execution_count": 21,
   "id": "822adf22",
   "metadata": {},
   "outputs": [],
   "source": [
    "#import de la fonction train_test_split\n",
    "from sklearn.model_selection import train_test_split\n",
    "\n",
    "#séparation des jeux de test et d'entrainement\n",
    "X_train_2, X_test_2, y_train_2, y_test_2 = train_test_split(X_2,y_2,test_size=0.2, random_state = 42, stratify =y_2)"
   ]
  },
  {
   "cell_type": "code",
   "execution_count": 22,
   "id": "e56cac48",
   "metadata": {},
   "outputs": [],
   "source": [
    "#Normalisation des données d'entraînement et de test.\n",
    "from sklearn.preprocessing import MinMaxScaler, StandardScaler\n",
    "\n",
    "scaler = MinMaxScaler()\n",
    "X_train_norm = scaler.fit_transform(X_train)\n",
    "X_test_norm = scaler.transform(X_test)"
   ]
  },
  {
   "cell_type": "code",
   "execution_count": 23,
   "id": "09e57b33",
   "metadata": {},
   "outputs": [],
   "source": [
    "#Normalisation des données d'entraînement et de test.\n",
    "from sklearn.preprocessing import MinMaxScaler, StandardScaler\n",
    "\n",
    "scaler_2 = MinMaxScaler()\n",
    "X_train_norm_2 = scaler_2.fit_transform(X_train_2)\n",
    "X_test_norm_2 = scaler_2.transform(X_test_2)"
   ]
  },
  {
   "cell_type": "code",
   "execution_count": 24,
   "id": "10000da1",
   "metadata": {},
   "outputs": [],
   "source": [
    "from sklearn.linear_model import LogisticRegression\n",
    "from sklearn.neighbors import KNeighborsClassifier\n",
    "from sklearn.svm import SVC\n",
    "from sklearn.tree import DecisionTreeClassifier\n",
    "from sklearn.ensemble import RandomForestClassifier\n",
    "from sklearn.ensemble import BaggingClassifier\n",
    "from sklearn.ensemble import GradientBoostingClassifier"
   ]
  },
  {
   "cell_type": "code",
   "execution_count": 46,
   "id": "d7e72a15",
   "metadata": {},
   "outputs": [
    {
     "data": {
      "text/html": [
       "<div>\n",
       "<style scoped>\n",
       "    .dataframe tbody tr th:only-of-type {\n",
       "        vertical-align: middle;\n",
       "    }\n",
       "\n",
       "    .dataframe tbody tr th {\n",
       "        vertical-align: top;\n",
       "    }\n",
       "\n",
       "    .dataframe thead th {\n",
       "        text-align: right;\n",
       "    }\n",
       "</style>\n",
       "<table border=\"1\" class=\"dataframe\">\n",
       "  <thead>\n",
       "    <tr style=\"text-align: right;\">\n",
       "      <th></th>\n",
       "      <th>Variables</th>\n",
       "      <th>Coefficients</th>\n",
       "      <th>Odd_ratios</th>\n",
       "    </tr>\n",
       "  </thead>\n",
       "  <tbody>\n",
       "    <tr>\n",
       "      <th>1</th>\n",
       "      <td>age</td>\n",
       "      <td>0.131424</td>\n",
       "      <td>1.140451</td>\n",
       "    </tr>\n",
       "    <tr>\n",
       "      <th>4</th>\n",
       "      <td>month</td>\n",
       "      <td>-2.939123</td>\n",
       "      <td>0.052912</td>\n",
       "    </tr>\n",
       "  </tbody>\n",
       "</table>\n",
       "</div>"
      ],
      "text/plain": [
       "  Variables  Coefficients  Odd_ratios\n",
       "1       age      0.131424    1.140451\n",
       "4     month     -2.939123    0.052912"
      ]
     },
     "execution_count": 46,
     "metadata": {},
     "output_type": "execute_result"
    }
   ],
   "source": [
    "### Regression logistique \n",
    "\n",
    "LogReg = LogisticRegression(solver='newton-cg')\n",
    "\n",
    "# Entrainement \n",
    "LogReg.fit(X_train_norm, y_train)\n",
    "\n",
    "# Prédiction \n",
    "y_pred = LogReg.predict(X_test_norm)\n",
    "\n",
    "# on effectue les prédictions sur X_train_norm\n",
    "y_pred_train = LogReg.predict(X_train_norm)\n",
    "\n",
    "# on effectue les prédictions sur X_test_norm\n",
    "y_pred_test = LogReg.predict(X_test_norm)\n",
    "\n",
    "# on calcule les coefficients\n",
    "coef_ = LogReg.coef_\n",
    "\n",
    "# on calcule les odd-ratios\n",
    "odd_ratios = np.exp(LogReg.coef_)\n",
    "\n",
    "# on calcule l'intercept\n",
    "intercept_ = LogReg.intercept_\n",
    "\n",
    "# création d'un DataFrame qui comporte les variables, les coefficients et les odd-ratios\n",
    "resultats_LogReg = pd.DataFrame(X.columns, columns = ['Variables'])\n",
    "resultats_LogReg['Coefficients'] = LogReg.coef_.tolist()[0]\n",
    "resultats_LogReg['Odd_ratios'] = np.exp(LogReg.coef_).tolist()[0]\n",
    "\n",
    "resultats_LogReg[(resultats_LogReg.Odd_ratios == min(resultats_LogReg.Odd_ratios)) | (resultats_LogReg.Odd_ratios == max(resultats_LogReg.Odd_ratios))]\n"
   ]
  },
  {
   "cell_type": "code",
   "execution_count": 47,
   "id": "4f86be46",
   "metadata": {},
   "outputs": [
    {
     "data": {
      "text/html": [
       "<div>\n",
       "<style scoped>\n",
       "    .dataframe tbody tr th:only-of-type {\n",
       "        vertical-align: middle;\n",
       "    }\n",
       "\n",
       "    .dataframe tbody tr th {\n",
       "        vertical-align: top;\n",
       "    }\n",
       "\n",
       "    .dataframe thead th {\n",
       "        text-align: right;\n",
       "    }\n",
       "</style>\n",
       "<table border=\"1\" class=\"dataframe\">\n",
       "  <thead>\n",
       "    <tr style=\"text-align: right;\">\n",
       "      <th></th>\n",
       "      <th>Variables</th>\n",
       "      <th>Coefficients</th>\n",
       "      <th>Odd_ratios</th>\n",
       "    </tr>\n",
       "  </thead>\n",
       "  <tbody>\n",
       "    <tr>\n",
       "      <th>0</th>\n",
       "      <td>purchase_value</td>\n",
       "      <td>0.062794</td>\n",
       "      <td>1.064808</td>\n",
       "    </tr>\n",
       "    <tr>\n",
       "      <th>1</th>\n",
       "      <td>age</td>\n",
       "      <td>0.131424</td>\n",
       "      <td>1.140451</td>\n",
       "    </tr>\n",
       "    <tr>\n",
       "      <th>2</th>\n",
       "      <td>hour</td>\n",
       "      <td>0.018658</td>\n",
       "      <td>1.018833</td>\n",
       "    </tr>\n",
       "    <tr>\n",
       "      <th>3</th>\n",
       "      <td>day</td>\n",
       "      <td>0.081500</td>\n",
       "      <td>1.084913</td>\n",
       "    </tr>\n",
       "    <tr>\n",
       "      <th>4</th>\n",
       "      <td>month</td>\n",
       "      <td>-2.939123</td>\n",
       "      <td>0.052912</td>\n",
       "    </tr>\n",
       "    <tr>\n",
       "      <th>5</th>\n",
       "      <td>source_Ads</td>\n",
       "      <td>-0.037713</td>\n",
       "      <td>0.962989</td>\n",
       "    </tr>\n",
       "    <tr>\n",
       "      <th>6</th>\n",
       "      <td>source_Direct</td>\n",
       "      <td>0.119634</td>\n",
       "      <td>1.127084</td>\n",
       "    </tr>\n",
       "    <tr>\n",
       "      <th>7</th>\n",
       "      <td>source_SEO</td>\n",
       "      <td>-0.081921</td>\n",
       "      <td>0.921345</td>\n",
       "    </tr>\n",
       "    <tr>\n",
       "      <th>8</th>\n",
       "      <td>browser_Chrome</td>\n",
       "      <td>0.061311</td>\n",
       "      <td>1.063230</td>\n",
       "    </tr>\n",
       "    <tr>\n",
       "      <th>9</th>\n",
       "      <td>browser_FireFox</td>\n",
       "      <td>0.038781</td>\n",
       "      <td>1.039543</td>\n",
       "    </tr>\n",
       "    <tr>\n",
       "      <th>10</th>\n",
       "      <td>browser_IE</td>\n",
       "      <td>-0.062459</td>\n",
       "      <td>0.939452</td>\n",
       "    </tr>\n",
       "    <tr>\n",
       "      <th>11</th>\n",
       "      <td>browser_Opera</td>\n",
       "      <td>-0.020988</td>\n",
       "      <td>0.979230</td>\n",
       "    </tr>\n",
       "    <tr>\n",
       "      <th>12</th>\n",
       "      <td>browser_Safari</td>\n",
       "      <td>-0.016645</td>\n",
       "      <td>0.983492</td>\n",
       "    </tr>\n",
       "    <tr>\n",
       "      <th>13</th>\n",
       "      <td>sex_F</td>\n",
       "      <td>-0.025744</td>\n",
       "      <td>0.974585</td>\n",
       "    </tr>\n",
       "    <tr>\n",
       "      <th>14</th>\n",
       "      <td>sex_M</td>\n",
       "      <td>0.025744</td>\n",
       "      <td>1.026078</td>\n",
       "    </tr>\n",
       "  </tbody>\n",
       "</table>\n",
       "</div>"
      ],
      "text/plain": [
       "          Variables  Coefficients  Odd_ratios\n",
       "0    purchase_value      0.062794    1.064808\n",
       "1               age      0.131424    1.140451\n",
       "2              hour      0.018658    1.018833\n",
       "3               day      0.081500    1.084913\n",
       "4             month     -2.939123    0.052912\n",
       "5        source_Ads     -0.037713    0.962989\n",
       "6     source_Direct      0.119634    1.127084\n",
       "7        source_SEO     -0.081921    0.921345\n",
       "8    browser_Chrome      0.061311    1.063230\n",
       "9   browser_FireFox      0.038781    1.039543\n",
       "10       browser_IE     -0.062459    0.939452\n",
       "11    browser_Opera     -0.020988    0.979230\n",
       "12   browser_Safari     -0.016645    0.983492\n",
       "13            sex_F     -0.025744    0.974585\n",
       "14            sex_M      0.025744    1.026078"
      ]
     },
     "execution_count": 47,
     "metadata": {},
     "output_type": "execute_result"
    }
   ],
   "source": [
    "resultats_LogReg"
   ]
  },
  {
   "cell_type": "markdown",
   "id": "a827317f",
   "metadata": {},
   "source": [
    "La variable 'age' a l'Odd_ratio le plus élevé, quand l'age augmente cela multiplie la probabilité d'appartenir à la classe positive de la variable 'is_fraud' par 1,14"
   ]
  },
  {
   "cell_type": "code",
   "execution_count": 27,
   "id": "05cddcb5",
   "metadata": {},
   "outputs": [
    {
     "name": "stdout",
     "output_type": "stream",
     "text": [
      "LogisticRegression, Matrice de confusion:\n",
      "  [[27393     0]\n",
      " [ 2830     0]]\n",
      "\n",
      " Vrais négatifs: 27393 \n",
      " Faux positifs: 0 \n",
      " Faux négatifs: 2830 \n",
      " Vrais positifs: 0\n",
      "\n",
      "Accuracy train LogReg:\n",
      " 0.9063521081322535\n",
      "Accuracy test LogReg:\n",
      " 0.9063627039010026\n",
      "La répartition des classes:\n",
      " 0    136961\n",
      "1     14151\n",
      "Name: is_fraud, dtype: int64\n",
      "\n",
      "balanced_accuracy_score test LogReg:\n",
      " 0.5\n",
      "balanced_accuracy_score train LogReg:\n",
      " 0.5\n"
     ]
    }
   ],
   "source": [
    "# Import de la matrice de confusion\n",
    "from sklearn.metrics import confusion_matrix\n",
    "\n",
    "# Import de la fonction accuracy_score\n",
    "from sklearn.metrics import accuracy_score\n",
    "\n",
    "# Import de la fonction balanced_accuracy_score\n",
    "from sklearn.metrics import balanced_accuracy_score\n",
    "\n",
    "# Calcul de la matrice de confusion\n",
    "print('LogisticRegression, Matrice de confusion:\\n ',confusion_matrix(y_test, y_pred_test))\n",
    "\n",
    "# On peut également afficher la signification de chaque élément de la matrice lorsque l'on a une problématique binaire\n",
    "\n",
    "tn, fp, fn, tp = confusion_matrix(y_test,y_pred_test).ravel()\n",
    "\n",
    "print(\"\\n Vrais négatifs:\",tn,\"\\n Faux positifs:\",fp,\"\\n Faux négatifs:\",fn,\"\\n Vrais positifs:\",tp)\n",
    "\n",
    "\n",
    "# calcul de l'accuracy_score\n",
    "accuracy = accuracy_score(y_test, y_pred_test)\n",
    "\n",
    "# affichage de l'accuracy_score\n",
    "print('\\nAccuracy train LogReg:\\n', accuracy_score(y_train, y_pred_train))\n",
    "print('Accuracy test LogReg:\\n', accuracy_score(y_test, y_pred_test))\n",
    "\n",
    "\n",
    "# Vérification de la répartition des classes\n",
    "print('La répartition des classes:\\n', y.value_counts())\n",
    "\n",
    "# Affichage de l'accuracy_score\n",
    "print('\\nbalanced_accuracy_score test LogReg:\\n', balanced_accuracy_score(y_test, y_pred_test))\n",
    "print('balanced_accuracy_score train LogReg:\\n', balanced_accuracy_score(y_train, y_pred_train))"
   ]
  },
  {
   "cell_type": "markdown",
   "id": "7c6e3318",
   "metadata": {},
   "source": [
    "On constate ainsi qu'aucune transaction frauduleuses n'a été correctement classé sur 2830. Il y a donc 2830 transactions qui sont considéréés comme non frauduleuses alors qu'en réalité, oui.\n",
    "\n",
    "Concernant les transactions non frauduleuses, 27393 sont correctement classés sur 27393.\n",
    "\n",
    "Le modèle LogisticRegression prédit mieux les transactions non frauduleuses que celles qui sont frauduleuses.\n",
    "\n",
    "De plus, les balanced_accuracy sont loin des accuracy, ce qui confirme que le modèle LogisticRegression est victime du déséquilibre des classes."
   ]
  },
  {
   "cell_type": "markdown",
   "id": "f7aa118c",
   "metadata": {},
   "source": [
    "Nous proposons d'essayer le modèle de prédiction KNeighborsClassifier()"
   ]
  },
  {
   "cell_type": "code",
   "execution_count": 28,
   "id": "96b40b90",
   "metadata": {},
   "outputs": [
    {
     "name": "stdout",
     "output_type": "stream",
     "text": [
      "KNN, Matrice de confusion:\n",
      "  [[26762   631]\n",
      " [ 1321  1509]]\n",
      "\n",
      " Vrais négatifs knn: 26762 \n",
      " Faux positifs knn: 631 \n",
      " Faux négatifs knn: 1321 \n",
      " Vrais positifs knn: 1509\n",
      "\n",
      "Accuracy train KNN:\n",
      " 0.9423851632489308\n",
      "Accuracy test KNN:\n",
      " 0.9354134268603381\n",
      "La répartition des classes:\n",
      " 0    136961\n",
      "1     14151\n",
      "Name: is_fraud, dtype: int64\n",
      "balanced_accuracy_score train KNN:\n",
      " 0.7683827097702237\n",
      "\n",
      "balanced_accuracy_score test KNN :\n",
      " 0.7550902328739681\n"
     ]
    }
   ],
   "source": [
    "KNN = KNeighborsClassifier()\n",
    "\n",
    "KNN.fit(X_train_norm, y_train)\n",
    "\n",
    "y_pred_train_knn = KNN.predict(X_train_norm)\n",
    "y_pred_knn = KNN.predict(X_test_norm)\n",
    "\n",
    "# Calcul de la matrice de confusion\n",
    "print('KNN, Matrice de confusion:\\n ',confusion_matrix(y_test, y_pred_knn))\n",
    "\n",
    "# On peut également afficher la signification de chaque élément de la matrice lorsque l'on a une problématique binaire\n",
    "\n",
    "tn, fp, fn, tp = confusion_matrix(y_test,y_pred_knn).ravel()\n",
    "\n",
    "print(\"\\n Vrais négatifs knn:\",tn,\"\\n Faux positifs knn:\",fp,\"\\n Faux négatifs knn:\",fn,\"\\n Vrais positifs knn:\",tp)\n",
    "\n",
    "\n",
    "# calcul de l'accuracy_score\n",
    "accuracy = accuracy_score(y_test, y_pred_knn)\n",
    "\n",
    "# affichage de l'accuracy_score\n",
    "print('\\nAccuracy train KNN:\\n', accuracy_score(y_train, y_pred_train_knn))\n",
    "print('Accuracy test KNN:\\n', accuracy_score(y_test, y_pred_knn))\n",
    "\n",
    "\n",
    "# Vérification de la répartition des classes\n",
    "print('La répartition des classes:\\n', y.value_counts())\n",
    "\n",
    "# Affichage de l'accuracy_score\n",
    "print('balanced_accuracy_score train KNN:\\n', balanced_accuracy_score(y_train, y_pred_train_knn))\n",
    "print('\\nbalanced_accuracy_score test KNN :\\n', balanced_accuracy_score(y_test, y_pred_knn))\n"
   ]
  },
  {
   "cell_type": "markdown",
   "id": "e49c0bc7",
   "metadata": {},
   "source": [
    "On constate ainsi que 1508 transactions frauduleuses sont correctement classées sur 1322 + 1508 = 2830 transactions. Il y a donc 1322 transactions qui ne sont pas considérés comme frauduleuses alors qu'en réalité, oui.\n",
    "\n",
    "Concernant les transactions non frauduleuses, 27072 sont correctement classés sur 27393.\n",
    "\n",
    "Le modèle KNeighborsClassifier prédit mieux les transactions non frauduleuses que celles qui sont frauduleuses.\n",
    "\n",
    "De plus, les balanced_accuracy sont loin des accuracy, ce qui confirme que le modèle LogisticRegression est victime du déséquilibre des classes."
   ]
  },
  {
   "cell_type": "markdown",
   "id": "27bd53a3",
   "metadata": {},
   "source": [
    "Nous proposons d'essayer le modèle de prédiction DecisionTreeClassifier"
   ]
  },
  {
   "cell_type": "code",
   "execution_count": 31,
   "id": "0e996346",
   "metadata": {},
   "outputs": [
    {
     "name": "stdout",
     "output_type": "stream",
     "text": [
      "DTC, Matrice de confusion:\n",
      "  [[25404  1989]\n",
      " [ 1241  1589]]\n",
      "\n",
      " Vrais négatifs DTC: 25404 \n",
      " Faux positifs DTC: 1989 \n",
      " Faux négatifs DTC: 1241 \n",
      " Vrais positifs DTC: 1589\n",
      "\n",
      "Accuracy train DTC:\n",
      " 0.9950698574725575\n",
      "Accuracy test DTC:\n",
      " 0.8931277503887768\n",
      "La répartition des classes:\n",
      " 0    136961\n",
      "1     14151\n",
      "Name: is_fraud, dtype: int64\n",
      "balanced_accuracy_score train DTC:\n",
      " 0.9967653974672668\n",
      "\n",
      "balanced_accuracy_score test DTC :\n",
      " 0.7444371540587282\n"
     ]
    }
   ],
   "source": [
    "DTC = DecisionTreeClassifier()\n",
    "\n",
    "DTC.fit(X_train_norm, y_train)\n",
    "\n",
    "y_pred_train_DTC = DTC.predict(X_train_norm)\n",
    "y_pred_DTC = DTC.predict(X_test_norm)\n",
    "\n",
    "# Calcul de la matrice de confusion\n",
    "print('DTC, Matrice de confusion:\\n ',confusion_matrix(y_test, y_pred_DTC))\n",
    "\n",
    "# On peut également afficher la signification de chaque élément de la matrice lorsque l'on a une problématique binaire\n",
    "\n",
    "tn, fp, fn, tp = confusion_matrix(y_test,y_pred_DTC).ravel()\n",
    "\n",
    "print(\"\\n Vrais négatifs DTC:\",tn,\"\\n Faux positifs DTC:\",fp,\"\\n Faux négatifs DTC:\",fn,\"\\n Vrais positifs DTC:\",tp)\n",
    "\n",
    "\n",
    "# calcul de l'accuracy_score\n",
    "accuracy = accuracy_score(y_test, y_pred_DTC)\n",
    "\n",
    "# affichage de l'accuracy_score\n",
    "print('\\nAccuracy train DTC:\\n', accuracy_score(y_train, y_pred_train_DTC))\n",
    "print('Accuracy test DTC:\\n', accuracy_score(y_test, y_pred_DTC))\n",
    "\n",
    "\n",
    "# Vérification de la répartition des classes\n",
    "print('La répartition des classes:\\n', y.value_counts())\n",
    "\n",
    "# Affichage de l'accuracy_score\n",
    "print('balanced_accuracy_score train DTC:\\n', balanced_accuracy_score(y_train, y_pred_train_DTC))\n",
    "print('\\nbalanced_accuracy_score test DTC :\\n', balanced_accuracy_score(y_test, y_pred_DTC))"
   ]
  },
  {
   "cell_type": "markdown",
   "id": "460306ee",
   "metadata": {},
   "source": [
    "On constate ainsi que 1592 transactions frauduleuses sont correctement classées sur 1238 + 1592 = 2830 transactions. Il y a donc 1238 transactions qui ne sont pas considérés comme frauduleuses alors qu'en réalité, oui.\n",
    "\n",
    "Concernant les transactions non frauduleuses, 25427 sont correctement classés sur 27393.\n",
    "\n",
    "Le modèle DecisionTreeClassifier prédit mieux les transactions non frauduleuses que celles qui sont frauduleuses.\n",
    "\n",
    "De plus, à l'entrainement les balanced_accuracy sont proches des accuracy, mais en phase de test moins ce qui confirme le modèle DecisionTreeClassifier est victime du déséquilibre des classes en phase de test."
   ]
  },
  {
   "cell_type": "code",
   "execution_count": 33,
   "id": "f9a59e04",
   "metadata": {},
   "outputs": [
    {
     "name": "stdout",
     "output_type": "stream",
     "text": [
      "DTC_2, Matrice de confusion:\n",
      "  [[22344  1736]\n",
      " [ 1550  4593]]\n",
      "\n",
      " Vrais négatifs DTC_2: 22344 \n",
      " Faux positifs DTC_2: 1736 \n",
      " Faux négatifs DTC_2: 1550 \n",
      " Vrais positifs DTC_2: 4593\n",
      "\n",
      "Accuracy train DTC_2:\n",
      " 1.0\n",
      "Accuracy test DTC_2:\n",
      " 0.8912748568970652\n",
      "La répartition des classes:\n",
      " Counter({0: 120400, 1: 30712})\n",
      "balanced_accuracy_score train DTC_2:\n",
      " 1.0\n",
      "\n",
      "balanced_accuracy_score test DTC_2 :\n",
      " 0.8377936316245755\n"
     ]
    }
   ],
   "source": [
    "DTC_2 = DecisionTreeClassifier()\n",
    "\n",
    "DTC_2.fit(X_train_norm_2, y_train_2)\n",
    "\n",
    "y_pred_train_DTC_2 = DTC_2.predict(X_train_norm_2)\n",
    "y_pred_DTC_2 = DTC_2.predict(X_test_norm_2)\n",
    "\n",
    "# Calcul de la matrice de confusion\n",
    "print('DTC_2, Matrice de confusion:\\n ',confusion_matrix(y_test_2, y_pred_DTC_2))\n",
    "\n",
    "# On peut également afficher la signification de chaque élément de la matrice lorsque l'on a une problématique binaire\n",
    "\n",
    "tn, fp, fn, tp = confusion_matrix(y_test_2,y_pred_DTC_2).ravel()\n",
    "\n",
    "print(\"\\n Vrais négatifs DTC_2:\",tn,\"\\n Faux positifs DTC_2:\",fp,\"\\n Faux négatifs DTC_2:\",fn,\"\\n Vrais positifs DTC_2:\",tp)\n",
    "\n",
    "\n",
    "# calcul de l'accuracy_score\n",
    "accuracy = accuracy_score(y_test_2, y_pred_DTC_2)\n",
    "\n",
    "\n",
    "# affichage de l'accuracy_score\n",
    "print('\\nAccuracy train DTC_2:\\n', accuracy_score(y_train_2, y_pred_train_DTC_2))\n",
    "print('Accuracy test DTC_2:\\n', accuracy_score(y_test_2, y_pred_DTC_2))\n",
    "\n",
    "\n",
    "# Vérification de la répartition des classes\n",
    "print('La répartition des classes:\\n', Counter(y_2))\n",
    "\n",
    "# Affichage de l'accuracy_score\n",
    "print('balanced_accuracy_score train DTC_2:\\n', balanced_accuracy_score(y_train_2, y_pred_train_DTC_2))\n",
    "print('\\nbalanced_accuracy_score test DTC_2 :\\n', balanced_accuracy_score(y_test_2, y_pred_DTC_2))"
   ]
  },
  {
   "cell_type": "markdown",
   "id": "d9678713",
   "metadata": {},
   "source": [
    "Nous proposons d'essayer le modèle de prédiction SVC"
   ]
  },
  {
   "cell_type": "code",
   "execution_count": 34,
   "id": "6dffce6f",
   "metadata": {},
   "outputs": [
    {
     "name": "stdout",
     "output_type": "stream",
     "text": [
      "SVC, Matrice de confusion:\n",
      "  [[27393     0]\n",
      " [ 2830     0]]\n",
      "\n",
      " Vrais négatifs SVC: 27393 \n",
      " Faux positifs SVC: 0 \n",
      " Faux négatifs SVC: 2830 \n",
      " Vrais positifs SVC: 0\n",
      "\n",
      "Accuracy train SVC:\n",
      " 0.9063521081322535\n",
      "Accuracy test SVC:\n",
      " 0.9063627039010026\n",
      "La répartition des classes:\n",
      " 0    136961\n",
      "1     14151\n",
      "Name: is_fraud, dtype: int64\n",
      "balanced_accuracy_score train SVC:\n",
      " 0.5\n",
      "\n",
      "balanced_accuracy_score test SVC :\n",
      " 0.5\n"
     ]
    }
   ],
   "source": [
    "SVC = SVC()\n",
    "\n",
    "SVC.fit(X_train_norm, y_train)\n",
    "\n",
    "y_pred_train_SVC = SVC.predict(X_train_norm)\n",
    "y_pred_SVC = SVC.predict(X_test_norm)\n",
    "\n",
    "# Calcul de la matrice de confusion\n",
    "print('SVC, Matrice de confusion:\\n ',confusion_matrix(y_test, y_pred_SVC))\n",
    "\n",
    "# On peut également afficher la signification de chaque élément de la matrice lorsque l'on a une problématique binaire\n",
    "\n",
    "tn, fp, fn, tp = confusion_matrix(y_test,y_pred_SVC).ravel()\n",
    "\n",
    "print(\"\\n Vrais négatifs SVC:\",tn,\"\\n Faux positifs SVC:\",fp,\"\\n Faux négatifs SVC:\",fn,\"\\n Vrais positifs SVC:\",tp)\n",
    "\n",
    "\n",
    "# calcul de l'accuracy_score\n",
    "accuracy = accuracy_score(y_test, y_pred_SVC)\n",
    "\n",
    "# affichage de l'accuracy_score\n",
    "print('\\nAccuracy train SVC:\\n', accuracy_score(y_train, y_pred_train_SVC))\n",
    "print('Accuracy test SVC:\\n', accuracy_score(y_test, y_pred_SVC))\n",
    "\n",
    "\n",
    "# Vérification de la répartition des classes\n",
    "print('La répartition des classes:\\n', y.value_counts())\n",
    "\n",
    "# Affichage de l'accuracy_score\n",
    "print('balanced_accuracy_score train SVC:\\n', balanced_accuracy_score(y_train, y_pred_train_SVC))\n",
    "print('\\nbalanced_accuracy_score test SVC :\\n', balanced_accuracy_score(y_test, y_pred_SVC))"
   ]
  },
  {
   "cell_type": "code",
   "execution_count": 39,
   "id": "1e72eb29",
   "metadata": {},
   "outputs": [
    {
     "name": "stdout",
     "output_type": "stream",
     "text": [
      "RFC, Matrice de confusion:\n",
      "  [[27224   169]\n",
      " [ 1330  1500]]\n",
      "\n",
      " Vrais négatifs RFC: 27224 \n",
      " Faux positifs RFC: 169 \n",
      " Faux négatifs RFC: 1330 \n",
      " Vrais positifs RFC: 1500\n",
      "\n",
      "Accuracy train RFC:\n",
      " 0.9949788649091316\n",
      "Accuracy test RFC:\n",
      " 0.9504020117129338\n",
      "La répartition des classes:\n",
      " 0    136961\n",
      "1     14151\n",
      "Name: is_fraud, dtype: int64\n",
      "balanced_accuracy_score train RFC:\n",
      " 0.9962795746600943\n",
      "\n",
      "balanced_accuracy_score test RFC :\n",
      " 0.7619329381690585\n"
     ]
    }
   ],
   "source": [
    "RFC = RandomForestClassifier()\n",
    "\n",
    "RFC.fit(X_train_norm, y_train)\n",
    "\n",
    "y_pred_train_RFC = RFC.predict(X_train_norm)\n",
    "y_pred_RFC = RFC.predict(X_test_norm)\n",
    "\n",
    "# Calcul de la matrice de confusion\n",
    "print('RFC, Matrice de confusion:\\n ',confusion_matrix(y_test, y_pred_RFC))\n",
    "\n",
    "# On peut également afficher la signification de chaque élément de la matrice lorsque l'on a une problématique binaire\n",
    "\n",
    "tn, fp, fn, tp = confusion_matrix(y_test,y_pred_RFC).ravel()\n",
    "\n",
    "print(\"\\n Vrais négatifs RFC:\",tn,\"\\n Faux positifs RFC:\",fp,\"\\n Faux négatifs RFC:\",fn,\"\\n Vrais positifs RFC:\",tp)\n",
    "\n",
    "\n",
    "# calcul de l'accuracy_score\n",
    "accuracy = accuracy_score(y_test, y_pred_RFC)\n",
    "\n",
    "# affichage de l'accuracy_score\n",
    "print('\\nAccuracy train RFC:\\n', accuracy_score(y_train, y_pred_train_RFC))\n",
    "print('Accuracy test RFC:\\n', accuracy_score(y_test, y_pred_RFC))\n",
    "\n",
    "\n",
    "# Vérification de la répartition des classes\n",
    "print('La répartition des classes:\\n', y.value_counts())\n",
    "\n",
    "# Affichage de l'accuracy_score\n",
    "print('balanced_accuracy_score train RFC:\\n', balanced_accuracy_score(y_train, y_pred_train_RFC))\n",
    "print('\\nbalanced_accuracy_score test RFC :\\n', balanced_accuracy_score(y_test, y_pred_RFC))"
   ]
  },
  {
   "cell_type": "code",
   "execution_count": 35,
   "id": "ab42d0aa",
   "metadata": {},
   "outputs": [
    {
     "name": "stdout",
     "output_type": "stream",
     "text": [
      "RFC, Matrice de confusion:\n",
      "  [[23280   800]\n",
      " [ 1444  4699]]\n",
      "\n",
      " Vrais négatifs RFC_2: 23280 \n",
      " Faux positifs RFC_2: 800 \n",
      " Faux négatifs RFC_2: 1444 \n",
      " Vrais positifs RFC_2: 4699\n",
      "\n",
      "Accuracy train RFC:\n",
      " 0.9999917279487794\n",
      "Accuracy test RFC:\n",
      " 0.9257519107964133\n",
      "La répartition des classes:\n",
      " Counter({0: 120400, 1: 30712})\n",
      "balanced_accuracy_score train RFC:\n",
      " 0.9999796491513696\n",
      "\n",
      "balanced_accuracy_score test RFC :\n",
      " 0.8658565539038303\n"
     ]
    }
   ],
   "source": [
    "RFC_2 = RandomForestClassifier()\n",
    "\n",
    "RFC_2.fit(X_train_norm_2, y_train_2)\n",
    "\n",
    "y_pred_train_RFC_2 = RFC_2.predict(X_train_norm_2)\n",
    "y_pred_RFC_2 = RFC_2.predict(X_test_norm_2)\n",
    "\n",
    "# Calcul de la matrice de confusion\n",
    "print('RFC, Matrice de confusion:\\n ',confusion_matrix(y_test_2, y_pred_RFC_2))\n",
    "\n",
    "# On peut également afficher la signification de chaque élément de la matrice lorsque l'on a une problématique binaire\n",
    "\n",
    "tn, fp, fn, tp = confusion_matrix(y_test_2,y_pred_RFC_2).ravel()\n",
    "\n",
    "print(\"\\n Vrais négatifs RFC_2:\",tn,\"\\n Faux positifs RFC_2:\",fp,\"\\n Faux négatifs RFC_2:\",fn,\"\\n Vrais positifs RFC_2:\",tp)\n",
    "\n",
    "\n",
    "# calcul de l'accuracy_score\n",
    "accuracy = accuracy_score(y_test_2, y_pred_RFC_2)\n",
    "\n",
    "# affichage de l'accuracy_score\n",
    "print('\\nAccuracy train RFC:\\n', accuracy_score(y_train_2, y_pred_train_RFC_2))\n",
    "print('Accuracy test RFC:\\n', accuracy_score(y_test_2, y_pred_RFC_2))\n",
    "\n",
    "\n",
    "# Vérification de la répartition des classes\n",
    "print('La répartition des classes:\\n', Counter(y_2))\n",
    "\n",
    "# Affichage de l'accuracy_score\n",
    "print('balanced_accuracy_score train RFC:\\n', balanced_accuracy_score(y_train_2, y_pred_train_RFC_2))\n",
    "print('\\nbalanced_accuracy_score test RFC :\\n', balanced_accuracy_score(y_test_2, y_pred_RFC_2))"
   ]
  },
  {
   "cell_type": "code",
   "execution_count": 41,
   "id": "6b74f5d4",
   "metadata": {},
   "outputs": [
    {
     "name": "stdout",
     "output_type": "stream",
     "text": [
      "BC, Matrice de confusion:\n",
      "  [[27163   230]\n",
      " [ 1328  1502]]\n",
      "\n",
      " Vrais négatifs BC: 27163 \n",
      " Faux positifs BC: 230 \n",
      " Faux négatifs BC: 1328 \n",
      " Vrais positifs BC: 1502\n",
      "\n",
      "Accuracy train BC:\n",
      " 0.9850441313932616\n",
      "Accuracy test BC:\n",
      " 0.9484498560698805\n",
      "La répartition des classes:\n",
      " 0    136961\n",
      "1     14151\n",
      "Name: is_fraud, dtype: int64\n",
      "balanced_accuracy_score train BC:\n",
      " 0.943632580594552\n",
      "\n",
      "balanced_accuracy_score test BC :\n",
      " 0.7611728719222199\n"
     ]
    }
   ],
   "source": [
    "BC = BaggingClassifier()\n",
    "\n",
    "BC.fit(X_train_norm, y_train)\n",
    "\n",
    "y_pred_train_BC = BC.predict(X_train_norm)\n",
    "y_pred_BC = BC.predict(X_test_norm)\n",
    "\n",
    "# Calcul de la matrice de confusion\n",
    "print('BC, Matrice de confusion:\\n ',confusion_matrix(y_test, y_pred_BC))\n",
    "\n",
    "# On peut également afficher la signification de chaque élément de la matrice lorsque l'on a une problématique binaire\n",
    "\n",
    "tn, fp, fn, tp = confusion_matrix(y_test,y_pred_BC).ravel()\n",
    "\n",
    "print(\"\\n Vrais négatifs BC:\",tn,\"\\n Faux positifs BC:\",fp,\"\\n Faux négatifs BC:\",fn,\"\\n Vrais positifs BC:\",tp)\n",
    "\n",
    "\n",
    "# calcul de l'accuracy_score\n",
    "accuracy = accuracy_score(y_test, y_pred_BC)\n",
    "\n",
    "# affichage de l'accuracy_score\n",
    "print('\\nAccuracy train BC:\\n', accuracy_score(y_train, y_pred_train_BC))\n",
    "print('Accuracy test BC:\\n', accuracy_score(y_test, y_pred_BC))\n",
    "\n",
    "\n",
    "# Vérification de la répartition des classes\n",
    "print('La répartition des classes:\\n', y.value_counts())\n",
    "\n",
    "# Affichage de l'accuracy_score\n",
    "print('balanced_accuracy_score train BC:\\n', balanced_accuracy_score(y_train, y_pred_train_BC))\n",
    "print('\\nbalanced_accuracy_score test BC :\\n', balanced_accuracy_score(y_test, y_pred_BC))"
   ]
  },
  {
   "cell_type": "code",
   "execution_count": 36,
   "id": "f0be20b1",
   "metadata": {},
   "outputs": [
    {
     "name": "stdout",
     "output_type": "stream",
     "text": [
      "BC_2, Matrice de confusion:\n",
      "  [[23357   723]\n",
      " [ 1632  4511]]\n",
      "\n",
      " Vrais négatifs BC_2: 23357 \n",
      " Faux positifs BC_2: 723 \n",
      " Faux négatifs BC_2: 1632 \n",
      " Vrais positifs BC_2: 4511\n",
      "\n",
      "Accuracy train BC_2:\n",
      " 0.9933244546650233\n",
      "Accuracy test BC_2:\n",
      " 0.9220792111967707\n",
      "La répartition des classes:\n",
      " Counter({0: 120400, 1: 30712})\n",
      "balanced_accuracy_score train BC_2:\n",
      " 0.9845925730101908\n",
      "\n",
      "balanced_accuracy_score test BC_2 :\n",
      " 0.8521534213914982\n"
     ]
    }
   ],
   "source": [
    "BC_2 = BaggingClassifier()\n",
    "\n",
    "BC_2.fit(X_train_norm_2, y_train_2)\n",
    "\n",
    "y_pred_train_BC_2 = BC_2.predict(X_train_norm_2)\n",
    "y_pred_BC_2 = BC_2.predict(X_test_norm_2)\n",
    "\n",
    "# Calcul de la matrice de confusion\n",
    "print('BC_2, Matrice de confusion:\\n ',confusion_matrix(y_test_2, y_pred_BC_2))\n",
    "\n",
    "# On peut également afficher la signification de chaque élément de la matrice lorsque l'on a une problématique binaire\n",
    "\n",
    "tn, fp, fn, tp = confusion_matrix(y_test_2,y_pred_BC_2).ravel()\n",
    "\n",
    "print(\"\\n Vrais négatifs BC_2:\",tn,\"\\n Faux positifs BC_2:\",fp,\"\\n Faux négatifs BC_2:\",fn,\"\\n Vrais positifs BC_2:\",tp)\n",
    "\n",
    "\n",
    "# calcul de l'accuracy_score\n",
    "accuracy = accuracy_score(y_test_2, y_pred_BC_2)\n",
    "\n",
    "# affichage de l'accuracy_score\n",
    "print('\\nAccuracy train BC_2:\\n', accuracy_score(y_train_2, y_pred_train_BC_2))\n",
    "print('Accuracy test BC_2:\\n', accuracy_score(y_test_2, y_pred_BC_2))\n",
    "\n",
    "\n",
    "# Vérification de la répartition des classes\n",
    "print('La répartition des classes:\\n', Counter(y_2))\n",
    "\n",
    "# Affichage de l'accuracy_score\n",
    "print('balanced_accuracy_score train BC_2:\\n', balanced_accuracy_score(y_train_2, y_pred_train_BC_2))\n",
    "print('\\nbalanced_accuracy_score test BC_2 :\\n', balanced_accuracy_score(y_test_2, y_pred_BC_2))"
   ]
  },
  {
   "cell_type": "code",
   "execution_count": 37,
   "id": "f5badb8c",
   "metadata": {},
   "outputs": [
    {
     "name": "stdout",
     "output_type": "stream",
     "text": [
      "GBC, Matrice de confusion:\n",
      "  [[27386     7]\n",
      " [ 2816    14]]\n",
      "\n",
      " Vrais négatifs GBC: 27386 \n",
      " Faux positifs GBC: 7 \n",
      " Faux négatifs GBC: 2816 \n",
      " Vrais positifs GBC: 14\n",
      "\n",
      "Accuracy train GBC:\n",
      " 0.906831887103045\n",
      "Accuracy test GBC:\n",
      " 0.9065943155874665\n",
      "La répartition des classes:\n",
      " 0    136961\n",
      "1     14151\n",
      "Name: is_fraud, dtype: int64\n",
      "balanced_accuracy_score train GBC:\n",
      " 0.5031556461687124\n",
      "\n",
      "balanced_accuracy_score test GBC :\n",
      " 0.502345728365001\n"
     ]
    }
   ],
   "source": [
    "GBC = GradientBoostingClassifier()\n",
    "\n",
    "GBC.fit(X_train_norm, y_train)\n",
    "\n",
    "y_pred_train_GBC = GBC.predict(X_train_norm)\n",
    "y_pred_GBC = GBC.predict(X_test_norm)\n",
    "\n",
    "# Calcul de la matrice de confusion\n",
    "print('GBC, Matrice de confusion:\\n ',confusion_matrix(y_test, y_pred_GBC))\n",
    "\n",
    "# On peut également afficher la signification de chaque élément de la matrice lorsque l'on a une problématique binaire\n",
    "\n",
    "tn, fp, fn, tp = confusion_matrix(y_test,y_pred_GBC).ravel()\n",
    "\n",
    "print(\"\\n Vrais négatifs GBC:\",tn,\"\\n Faux positifs GBC:\",fp,\"\\n Faux négatifs GBC:\",fn,\"\\n Vrais positifs GBC:\",tp)\n",
    "\n",
    "\n",
    "# calcul de l'accuracy_score\n",
    "accuracy = accuracy_score(y_test, y_pred_GBC)\n",
    "\n",
    "# affichage de l'accuracy_score\n",
    "print('\\nAccuracy train GBC:\\n', accuracy_score(y_train, y_pred_train_GBC))\n",
    "print('Accuracy test GBC:\\n', accuracy_score(y_test, y_pred_GBC))\n",
    "\n",
    "\n",
    "# Vérification de la répartition des classes\n",
    "print('La répartition des classes:\\n', y.value_counts())\n",
    "\n",
    "# Affichage de l'accuracy_score\n",
    "print('balanced_accuracy_score train GBC:\\n', balanced_accuracy_score(y_train, y_pred_train_GBC))\n",
    "print('\\nbalanced_accuracy_score test GBC :\\n', balanced_accuracy_score(y_test, y_pred_GBC))"
   ]
  },
  {
   "cell_type": "code",
   "execution_count": 42,
   "id": "e6e83c97",
   "metadata": {},
   "outputs": [
    {
     "name": "stdout",
     "output_type": "stream",
     "text": [
      "En résumé, nous obtenons les performances suivantes :\n",
      "\n",
      "\n",
      "Accuracy test LogReg: 0.91\n",
      "Balanced_accuracy_score test LogReg: 0.5\n",
      "\n",
      "Accuracy test KNN: 0.94\n",
      "Balanced_accuracy_score test KNN : 0.76\n",
      "\n",
      "Accuracy test SVC: 0.91\n",
      "Balanced_accuracy_score test SVC : 0.5\n",
      "\n",
      "Accuracy test DTC: 0.89\n",
      "Balanced_accuracy_score test DTC : 0.84\n",
      "\n",
      "Accuracy test RFC: 0.95\n",
      "Balanced_accuracy_score test RFC : 0.87\n",
      "\n",
      "Accuracy test BC: 0.95\n",
      "Balanced_accuracy_score test BC : 0.85\n",
      "\n",
      "Accuracy test GBC: 0.91\n",
      "Balanced_accuracy_score test GBC : 0.5\n"
     ]
    }
   ],
   "source": [
    "print('En résumé, nous obtenons les performances suivantes :\\n')\n",
    "\n",
    "print('\\nAccuracy test LogReg:', accuracy_score(y_test, y_pred_test).round(2))\n",
    "print('Balanced_accuracy_score test LogReg:', balanced_accuracy_score(y_test, y_pred).round(2))\n",
    "\n",
    "print('\\nAccuracy test KNN:', accuracy_score(y_test, y_pred_knn).round(2))\n",
    "print('Balanced_accuracy_score test KNN :', balanced_accuracy_score(y_test, y_pred_knn).round(2))\n",
    "\n",
    "print('\\nAccuracy test SVC:', accuracy_score(y_test, y_pred_SVC).round(2))\n",
    "print('Balanced_accuracy_score test SVC :', balanced_accuracy_score(y_test, y_pred_SVC).round(2))\n",
    "\n",
    "print('\\nAccuracy test DTC:', accuracy_score(y_test, y_pred_DTC).round(2))\n",
    "print('Balanced_accuracy_score test DTC :', balanced_accuracy_score(y_test_2, y_pred_DTC_2).round(2))\n",
    "\n",
    "print('\\nAccuracy test RFC:', accuracy_score(y_test, y_pred_RFC).round(2))\n",
    "print('Balanced_accuracy_score test RFC :', balanced_accuracy_score(y_test_2, y_pred_RFC_2).round(2))\n",
    "\n",
    "print('\\nAccuracy test BC:', accuracy_score(y_test, y_pred_BC).round(2))\n",
    "print('Balanced_accuracy_score test BC :', balanced_accuracy_score(y_test_2, y_pred_BC_2).round(2))\n",
    "\n",
    "print('\\nAccuracy test GBC:', accuracy_score(y_test, y_pred_GBC).round(2))\n",
    "print('Balanced_accuracy_score test GBC :', balanced_accuracy_score(y_test, y_pred_GBC).round(2))\n"
   ]
  },
  {
   "cell_type": "markdown",
   "id": "744cb585",
   "metadata": {},
   "source": [
    "Préparation pour API"
   ]
  },
  {
   "cell_type": "code",
   "execution_count": 43,
   "id": "f2425a28",
   "metadata": {},
   "outputs": [],
   "source": [
    "from joblib import dump\n",
    "from joblib import load\n",
    "\n",
    "# definition d'une fonction qui permet de sauvegarder les modèles\n",
    "def save_model(model, path_to_model): \n",
    "    # saving model\n",
    "    print(str(model), 'saved at ', path_to_model)\n",
    "    dump(model, path_to_model)"
   ]
  },
  {
   "cell_type": "markdown",
   "id": "44646cb8",
   "metadata": {},
   "source": [
    "# Entrainement des modèles par la méthode de cross validation¶"
   ]
  },
  {
   "cell_type": "code",
   "execution_count": 48,
   "id": "759d44c8",
   "metadata": {},
   "outputs": [],
   "source": [
    "from sklearn.model_selection import cross_val_score\n",
    "from sklearn.model_selection import KFold\n",
    "\n",
    "def compute_model_score(model, X, y):\n",
    "    kf_2 = KFold(n_splits = 5, shuffle = True, random_state = 42)\n",
    "# computing cross val\n",
    "\n",
    "    cross_validation = cross_val_score(\n",
    "\n",
    "    model,\n",
    "\n",
    "    X,\n",
    "\n",
    "    y,\n",
    "\n",
    "    cv=kf_2,\n",
    "\n",
    "    scoring='accuracy')\n",
    "\n",
    "    model_score = cross_validation.mean()\n",
    "\n",
    "    return model_score"
   ]
  },
  {
   "cell_type": "code",
   "execution_count": 49,
   "id": "050ad288",
   "metadata": {},
   "outputs": [],
   "source": [
    "score_LR = round(compute_model_score(LogReg, X, y),2)\n",
    "score_KNN = compute_model_score(KNN, X, y).round(2)\n",
    "score_SVC = compute_model_score(SVC, X, y).round(2)\n",
    "score_DTC = compute_model_score(DTC_2, X_2, y_2).round(2)\n",
    "score_RFC = compute_model_score(RFC_2, X_2, y_2).round(2)\n",
    "score_BC = compute_model_score(BC_2, X_2, y_2).round(2)\n",
    "score_GBC = compute_model_score(GBC, X, y).round(2)"
   ]
  },
  {
   "cell_type": "code",
   "execution_count": 50,
   "id": "357e39c1",
   "metadata": {},
   "outputs": [],
   "source": [
    "# Import de la fonction balanced_accuracy_score\n",
    "from sklearn.metrics import balanced_accuracy_score\n",
    "\n",
    "balanced_accuracy_score_LR = balanced_accuracy_score(y_test, y_pred).round(2)\n",
    "balanced_accuracy_score_KNN = balanced_accuracy_score(y_test, y_pred_knn).round(2)\n",
    "balanced_accuracy_score_SVC = balanced_accuracy_score(y_test, y_pred_SVC).round(2)\n",
    "balanced_accuracy_score_DTC = balanced_accuracy_score(y_test_2, y_pred_DTC_2).round(2)\n",
    "balanced_accuracy_score_RFC = balanced_accuracy_score(y_test_2, y_pred_RFC_2).round(2)\n",
    "balanced_accuracy_score_BC = balanced_accuracy_score(y_test_2, y_pred_BC_2).round(2)\n",
    "balanced_accuracy_score_GBC = balanced_accuracy_score(y_test, y_pred_GBC).round(2)"
   ]
  },
  {
   "cell_type": "code",
   "execution_count": 51,
   "id": "0af74a4f",
   "metadata": {},
   "outputs": [],
   "source": [
    "score_dic = {\"Modele\": [\"LogReg\", \"KNN\", \"SVC\", \"DTC\", \"RFC\", \"BC\", \"GBC\"],\n",
    "             \"balanced_accuracy_score\" : [balanced_accuracy_score_LR, balanced_accuracy_score_KNN, balanced_accuracy_score_SVC, balanced_accuracy_score_DTC, balanced_accuracy_score_RFC, balanced_accuracy_score_BC, balanced_accuracy_score_GBC]\n",
    "              }"
   ]
  },
  {
   "cell_type": "code",
   "execution_count": 52,
   "id": "d99524ea",
   "metadata": {},
   "outputs": [],
   "source": [
    "score_dic_2 = {\"Modele\": [\"LogReg\", \"KNN\", \"SVC\", \"DTC\", \"RFC\", \"BC\", \"GBC\"],\n",
    "             \"Score\" : [score_LR, score_KNN, score_SVC, score_DTC, score_RFC, score_BC, score_GBC]\n",
    "              }"
   ]
  },
  {
   "cell_type": "code",
   "execution_count": 53,
   "id": "974ac787",
   "metadata": {},
   "outputs": [
    {
     "data": {
      "text/html": [
       "<div>\n",
       "<style scoped>\n",
       "    .dataframe tbody tr th:only-of-type {\n",
       "        vertical-align: middle;\n",
       "    }\n",
       "\n",
       "    .dataframe tbody tr th {\n",
       "        vertical-align: top;\n",
       "    }\n",
       "\n",
       "    .dataframe thead th {\n",
       "        text-align: right;\n",
       "    }\n",
       "</style>\n",
       "<table border=\"1\" class=\"dataframe\">\n",
       "  <thead>\n",
       "    <tr style=\"text-align: right;\">\n",
       "      <th></th>\n",
       "      <th>Modele</th>\n",
       "      <th>balanced_accuracy_score</th>\n",
       "    </tr>\n",
       "  </thead>\n",
       "  <tbody>\n",
       "    <tr>\n",
       "      <th>0</th>\n",
       "      <td>LogReg</td>\n",
       "      <td>0.50</td>\n",
       "    </tr>\n",
       "    <tr>\n",
       "      <th>1</th>\n",
       "      <td>KNN</td>\n",
       "      <td>0.76</td>\n",
       "    </tr>\n",
       "    <tr>\n",
       "      <th>2</th>\n",
       "      <td>SVC</td>\n",
       "      <td>0.50</td>\n",
       "    </tr>\n",
       "    <tr>\n",
       "      <th>3</th>\n",
       "      <td>DTC</td>\n",
       "      <td>0.84</td>\n",
       "    </tr>\n",
       "    <tr>\n",
       "      <th>4</th>\n",
       "      <td>RFC</td>\n",
       "      <td>0.87</td>\n",
       "    </tr>\n",
       "    <tr>\n",
       "      <th>5</th>\n",
       "      <td>BC</td>\n",
       "      <td>0.85</td>\n",
       "    </tr>\n",
       "    <tr>\n",
       "      <th>6</th>\n",
       "      <td>GBC</td>\n",
       "      <td>0.50</td>\n",
       "    </tr>\n",
       "  </tbody>\n",
       "</table>\n",
       "</div>"
      ],
      "text/plain": [
       "   Modele  balanced_accuracy_score\n",
       "0  LogReg                     0.50\n",
       "1     KNN                     0.76\n",
       "2     SVC                     0.50\n",
       "3     DTC                     0.84\n",
       "4     RFC                     0.87\n",
       "5      BC                     0.85\n",
       "6     GBC                     0.50"
      ]
     },
     "execution_count": 53,
     "metadata": {},
     "output_type": "execute_result"
    }
   ],
   "source": [
    "db_score = pd.DataFrame(score_dic)\n",
    "db_score.head(7)"
   ]
  },
  {
   "cell_type": "code",
   "execution_count": 54,
   "id": "02b6cc2b",
   "metadata": {},
   "outputs": [
    {
     "data": {
      "text/html": [
       "<div>\n",
       "<style scoped>\n",
       "    .dataframe tbody tr th:only-of-type {\n",
       "        vertical-align: middle;\n",
       "    }\n",
       "\n",
       "    .dataframe tbody tr th {\n",
       "        vertical-align: top;\n",
       "    }\n",
       "\n",
       "    .dataframe thead th {\n",
       "        text-align: right;\n",
       "    }\n",
       "</style>\n",
       "<table border=\"1\" class=\"dataframe\">\n",
       "  <thead>\n",
       "    <tr style=\"text-align: right;\">\n",
       "      <th></th>\n",
       "      <th>Modele</th>\n",
       "      <th>Score</th>\n",
       "    </tr>\n",
       "  </thead>\n",
       "  <tbody>\n",
       "    <tr>\n",
       "      <th>0</th>\n",
       "      <td>LogReg</td>\n",
       "      <td>0.91</td>\n",
       "    </tr>\n",
       "    <tr>\n",
       "      <th>1</th>\n",
       "      <td>KNN</td>\n",
       "      <td>0.94</td>\n",
       "    </tr>\n",
       "    <tr>\n",
       "      <th>2</th>\n",
       "      <td>SVC</td>\n",
       "      <td>0.91</td>\n",
       "    </tr>\n",
       "    <tr>\n",
       "      <th>3</th>\n",
       "      <td>DTC</td>\n",
       "      <td>0.89</td>\n",
       "    </tr>\n",
       "    <tr>\n",
       "      <th>4</th>\n",
       "      <td>RFC</td>\n",
       "      <td>0.93</td>\n",
       "    </tr>\n",
       "    <tr>\n",
       "      <th>5</th>\n",
       "      <td>BC</td>\n",
       "      <td>0.92</td>\n",
       "    </tr>\n",
       "    <tr>\n",
       "      <th>6</th>\n",
       "      <td>GBC</td>\n",
       "      <td>0.91</td>\n",
       "    </tr>\n",
       "  </tbody>\n",
       "</table>\n",
       "</div>"
      ],
      "text/plain": [
       "   Modele  Score\n",
       "0  LogReg   0.91\n",
       "1     KNN   0.94\n",
       "2     SVC   0.91\n",
       "3     DTC   0.89\n",
       "4     RFC   0.93\n",
       "5      BC   0.92\n",
       "6     GBC   0.91"
      ]
     },
     "execution_count": 54,
     "metadata": {},
     "output_type": "execute_result"
    }
   ],
   "source": [
    "db_score_2 = pd.DataFrame(score_dic_2)\n",
    "db_score_2.head(7)"
   ]
  },
  {
   "cell_type": "code",
   "execution_count": 55,
   "id": "9f69d33e",
   "metadata": {},
   "outputs": [],
   "source": [
    "sc_dic = {\"LogReg\": balanced_accuracy_score_LR, \n",
    "          \"KNN\"   : balanced_accuracy_score_KNN,\n",
    "          \"SVC\"   : balanced_accuracy_score_SVC, \n",
    "          \"DTC\"   : balanced_accuracy_score_DTC, \n",
    "          \"RFC\"   : balanced_accuracy_score_RFC, \n",
    "          \"BC\"    : balanced_accuracy_score_BC,\n",
    "          \"GBC\"   : balanced_accuracy_score_GBC            \n",
    "         }"
   ]
  },
  {
   "cell_type": "code",
   "execution_count": 56,
   "id": "d3a1b68c",
   "metadata": {},
   "outputs": [],
   "source": [
    "sc_dic_2 = {\"LogReg\": score_LR, \n",
    "          \"KNN\"   : score_KNN,\n",
    "          \"SVC\"   : score_SVC, \n",
    "          \"DTC\"   : score_DTC, \n",
    "          \"RFC\"   : score_RFC, \n",
    "          \"BC\"    : score_BC,\n",
    "          \"GBC\"   : score_GBC            \n",
    "         }"
   ]
  },
  {
   "cell_type": "code",
   "execution_count": 58,
   "id": "c48373a8",
   "metadata": {},
   "outputs": [],
   "source": [
    "import json\n",
    "import os\n",
    "\n",
    "\n",
    "filepath = \"E:/Formation/Data_Science/Projets_DataScientest/fraud_detection/Modele/Perf\"\n",
    "if os.path.exists(filepath) == False:\n",
    "        os.makedirs(filepath, mode = 511, exist_ok= False)\n",
    "os.chdir(filepath)        \n",
    "with open('score_ML.json', 'w') as fp:\n",
    "    json.dump(sc_dic_2, fp, indent=3)"
   ]
  },
  {
   "cell_type": "markdown",
   "id": "1bc566fd",
   "metadata": {},
   "source": [
    "Sauvegarde des modèles entraînés et testés"
   ]
  },
  {
   "cell_type": "code",
   "execution_count": 97,
   "id": "f724fd49",
   "metadata": {},
   "outputs": [
    {
     "name": "stdout",
     "output_type": "stream",
     "text": [
      "LogisticRegression(solver='newton-cg') saved at  E:/Formation/Data_Science/Projets_DataScientest/fraud_detection/Modele/LogReg.pckl\n",
      "/n\n",
      "KNeighborsClassifier() saved at  E:/Formation/Data_Science/Projets_DataScientest/fraud_detection/Modele/KNN.pckl\n",
      "/n\n",
      "SVC() saved at  E:/Formation/Data_Science/Projets_DataScientest/fraud_detection/Modele/SVC.pckl\n",
      "/n\n",
      "DecisionTreeClassifier() saved at  E:/Formation/Data_Science/Projets_DataScientest/fraud_detection/Modele/DTC_2.pckl\n",
      "/n\n",
      "RandomForestClassifier() saved at  E:/Formation/Data_Science/Projets_DataScientest/fraud_detection/Modele/RFC_2.pckl\n",
      "/n\n",
      "BaggingClassifier() saved at  E:/Formation/Data_Science/Projets_DataScientest/fraud_detection/Modele/BC_2.pckl\n",
      "/n\n",
      "GradientBoostingClassifier() saved at  E:/Formation/Data_Science/Projets_DataScientest/fraud_detection/Modele/GBC.pckl\n"
     ]
    }
   ],
   "source": [
    "save_model(LogReg, 'E:/Formation/Data_Science/Projets_DataScientest/fraud_detection/Modele/LogReg.pckl')\n",
    "print(\"/n\")\n",
    "save_model(KNN, 'E:/Formation/Data_Science/Projets_DataScientest/fraud_detection/Modele/KNN.pckl')\n",
    "print(\"/n\")\n",
    "save_model(SVC, 'E:/Formation/Data_Science/Projets_DataScientest/fraud_detection/Modele/SVC.pckl')\n",
    "print(\"/n\")\n",
    "save_model(DTC_2, 'E:/Formation/Data_Science/Projets_DataScientest/fraud_detection/Modele/DTC_2.pckl')\n",
    "print(\"/n\")\n",
    "save_model(RFC_2, 'E:/Formation/Data_Science/Projets_DataScientest/fraud_detection/Modele/RFC_2.pckl')\n",
    "print(\"/n\")\n",
    "save_model(BC_2, 'E:/Formation/Data_Science/Projets_DataScientest/fraud_detection/Modele/BC_2.pckl')\n",
    "print(\"/n\")\n",
    "save_model(GBC, 'E:/Formation/Data_Science/Projets_DataScientest/fraud_detection/Modele/GBC.pckl')"
   ]
  },
  {
   "cell_type": "markdown",
   "id": "64015312",
   "metadata": {},
   "source": [
    "Sauvegarde des scalers"
   ]
  },
  {
   "cell_type": "code",
   "execution_count": 60,
   "id": "dac2cdda",
   "metadata": {},
   "outputs": [
    {
     "name": "stdout",
     "output_type": "stream",
     "text": [
      "MinMaxScaler() saved at  E:/Formation/Data_Science/Projets_DataScientest/fraud_detection/Modele/scaler.pckl\n",
      "MinMaxScaler() saved at  E:/Formation/Data_Science/Projets_DataScientest/fraud_detection/Modele/scaler_2.pckl\n"
     ]
    }
   ],
   "source": [
    "save_model(scaler, 'E:/Formation/Data_Science/Projets_DataScientest/fraud_detection/Modele/scaler.pckl')\n",
    "save_model(scaler_2, 'E:/Formation/Data_Science/Projets_DataScientest/fraud_detection/Modele/scaler_2.pckl')"
   ]
  },
  {
   "cell_type": "code",
   "execution_count": 101,
   "id": "dede48a5",
   "metadata": {},
   "outputs": [
    {
     "data": {
      "text/html": [
       "<div>\n",
       "<style scoped>\n",
       "    .dataframe tbody tr th:only-of-type {\n",
       "        vertical-align: middle;\n",
       "    }\n",
       "\n",
       "    .dataframe tbody tr th {\n",
       "        vertical-align: top;\n",
       "    }\n",
       "\n",
       "    .dataframe thead th {\n",
       "        text-align: right;\n",
       "    }\n",
       "</style>\n",
       "<table border=\"1\" class=\"dataframe\">\n",
       "  <thead>\n",
       "    <tr style=\"text-align: right;\">\n",
       "      <th></th>\n",
       "      <th>purchase_value</th>\n",
       "      <th>age</th>\n",
       "      <th>hour</th>\n",
       "      <th>day</th>\n",
       "      <th>month</th>\n",
       "      <th>source_Ads</th>\n",
       "      <th>source_Direct</th>\n",
       "      <th>source_SEO</th>\n",
       "      <th>browser_Chrome</th>\n",
       "      <th>browser_FireFox</th>\n",
       "      <th>browser_IE</th>\n",
       "      <th>browser_Opera</th>\n",
       "      <th>browser_Safari</th>\n",
       "      <th>sex_F</th>\n",
       "      <th>sex_M</th>\n",
       "    </tr>\n",
       "  </thead>\n",
       "  <tbody>\n",
       "    <tr>\n",
       "      <th>0</th>\n",
       "      <td>34</td>\n",
       "      <td>39</td>\n",
       "      <td>22</td>\n",
       "      <td>1</td>\n",
       "      <td>2</td>\n",
       "      <td>0</td>\n",
       "      <td>0</td>\n",
       "      <td>1</td>\n",
       "      <td>1</td>\n",
       "      <td>0</td>\n",
       "      <td>0</td>\n",
       "      <td>0</td>\n",
       "      <td>0</td>\n",
       "      <td>0</td>\n",
       "      <td>1</td>\n",
       "    </tr>\n",
       "    <tr>\n",
       "      <th>1</th>\n",
       "      <td>16</td>\n",
       "      <td>53</td>\n",
       "      <td>20</td>\n",
       "      <td>6</td>\n",
       "      <td>6</td>\n",
       "      <td>1</td>\n",
       "      <td>0</td>\n",
       "      <td>0</td>\n",
       "      <td>1</td>\n",
       "      <td>0</td>\n",
       "      <td>0</td>\n",
       "      <td>0</td>\n",
       "      <td>0</td>\n",
       "      <td>1</td>\n",
       "      <td>0</td>\n",
       "    </tr>\n",
       "    <tr>\n",
       "      <th>2</th>\n",
       "      <td>15</td>\n",
       "      <td>53</td>\n",
       "      <td>18</td>\n",
       "      <td>3</td>\n",
       "      <td>1</td>\n",
       "      <td>0</td>\n",
       "      <td>0</td>\n",
       "      <td>1</td>\n",
       "      <td>0</td>\n",
       "      <td>0</td>\n",
       "      <td>0</td>\n",
       "      <td>1</td>\n",
       "      <td>0</td>\n",
       "      <td>0</td>\n",
       "      <td>1</td>\n",
       "    </tr>\n",
       "    <tr>\n",
       "      <th>3</th>\n",
       "      <td>44</td>\n",
       "      <td>41</td>\n",
       "      <td>21</td>\n",
       "      <td>1</td>\n",
       "      <td>4</td>\n",
       "      <td>0</td>\n",
       "      <td>0</td>\n",
       "      <td>1</td>\n",
       "      <td>0</td>\n",
       "      <td>0</td>\n",
       "      <td>0</td>\n",
       "      <td>0</td>\n",
       "      <td>1</td>\n",
       "      <td>0</td>\n",
       "      <td>1</td>\n",
       "    </tr>\n",
       "    <tr>\n",
       "      <th>4</th>\n",
       "      <td>39</td>\n",
       "      <td>45</td>\n",
       "      <td>7</td>\n",
       "      <td>1</td>\n",
       "      <td>7</td>\n",
       "      <td>1</td>\n",
       "      <td>0</td>\n",
       "      <td>0</td>\n",
       "      <td>0</td>\n",
       "      <td>0</td>\n",
       "      <td>0</td>\n",
       "      <td>0</td>\n",
       "      <td>1</td>\n",
       "      <td>0</td>\n",
       "      <td>1</td>\n",
       "    </tr>\n",
       "  </tbody>\n",
       "</table>\n",
       "</div>"
      ],
      "text/plain": [
       "   purchase_value  age  hour  day  month  source_Ads  source_Direct  \\\n",
       "0              34   39    22    1      2           0              0   \n",
       "1              16   53    20    6      6           1              0   \n",
       "2              15   53    18    3      1           0              0   \n",
       "3              44   41    21    1      4           0              0   \n",
       "4              39   45     7    1      7           1              0   \n",
       "\n",
       "   source_SEO  browser_Chrome  browser_FireFox  browser_IE  browser_Opera  \\\n",
       "0           1               1                0           0              0   \n",
       "1           0               1                0           0              0   \n",
       "2           1               0                0           0              1   \n",
       "3           1               0                0           0              0   \n",
       "4           0               0                0           0              0   \n",
       "\n",
       "   browser_Safari  sex_F  sex_M  \n",
       "0               0      0      1  \n",
       "1               0      1      0  \n",
       "2               0      0      1  \n",
       "3               1      0      1  \n",
       "4               1      0      1  "
      ]
     },
     "execution_count": 101,
     "metadata": {},
     "output_type": "execute_result"
    }
   ],
   "source": [
    "X.head()"
   ]
  },
  {
   "cell_type": "code",
   "execution_count": 82,
   "id": "aef0e116",
   "metadata": {},
   "outputs": [],
   "source": [
    "# Test prédiction\n",
    "dic = {\"purchase_value\"                 : [15],\n",
    "       \"age\"                            : [53],\n",
    "       \"hour\"                           : [18],\n",
    "       \"day\"                            : [3],\n",
    "       \"month\"                          : [1],\n",
    "       \"source_Ads\"                     : [0],      \n",
    "       \"source_Direct\"                  : [0],   \n",
    "       \"source_SEO\"                     : [1],  \n",
    "       \"browser_Chrome\"                 : [0],       \n",
    "       \"browser_FireFox\"                : [0],\n",
    "       \"browser_IE\"                     : [0],\n",
    "       \"browser_Opera\"                  : [1],\n",
    "       \"browser_Safari\"                 : [0],\n",
    "       \"sex_F\"                          : [0],\n",
    "       \"sex_M\"                          : [1]}\n"
   ]
  },
  {
   "cell_type": "code",
   "execution_count": 83,
   "id": "68fcd097",
   "metadata": {},
   "outputs": [
    {
     "data": {
      "text/html": [
       "<div>\n",
       "<style scoped>\n",
       "    .dataframe tbody tr th:only-of-type {\n",
       "        vertical-align: middle;\n",
       "    }\n",
       "\n",
       "    .dataframe tbody tr th {\n",
       "        vertical-align: top;\n",
       "    }\n",
       "\n",
       "    .dataframe thead th {\n",
       "        text-align: right;\n",
       "    }\n",
       "</style>\n",
       "<table border=\"1\" class=\"dataframe\">\n",
       "  <thead>\n",
       "    <tr style=\"text-align: right;\">\n",
       "      <th></th>\n",
       "      <th>purchase_value</th>\n",
       "      <th>age</th>\n",
       "      <th>hour</th>\n",
       "      <th>day</th>\n",
       "      <th>month</th>\n",
       "      <th>source_Ads</th>\n",
       "      <th>source_Direct</th>\n",
       "      <th>source_SEO</th>\n",
       "      <th>browser_Chrome</th>\n",
       "      <th>browser_FireFox</th>\n",
       "      <th>browser_IE</th>\n",
       "      <th>browser_Opera</th>\n",
       "      <th>browser_Safari</th>\n",
       "      <th>sex_F</th>\n",
       "      <th>sex_M</th>\n",
       "    </tr>\n",
       "  </thead>\n",
       "  <tbody>\n",
       "    <tr>\n",
       "      <th>0</th>\n",
       "      <td>15</td>\n",
       "      <td>53</td>\n",
       "      <td>18</td>\n",
       "      <td>3</td>\n",
       "      <td>1</td>\n",
       "      <td>0</td>\n",
       "      <td>0</td>\n",
       "      <td>1</td>\n",
       "      <td>0</td>\n",
       "      <td>0</td>\n",
       "      <td>0</td>\n",
       "      <td>1</td>\n",
       "      <td>0</td>\n",
       "      <td>0</td>\n",
       "      <td>1</td>\n",
       "    </tr>\n",
       "  </tbody>\n",
       "</table>\n",
       "</div>"
      ],
      "text/plain": [
       "   purchase_value  age  hour  day  month  source_Ads  source_Direct  \\\n",
       "0              15   53    18    3      1           0              0   \n",
       "\n",
       "   source_SEO  browser_Chrome  browser_FireFox  browser_IE  browser_Opera  \\\n",
       "0           1               0                0           0              1   \n",
       "\n",
       "   browser_Safari  sex_F  sex_M  \n",
       "0               0      0      1  "
      ]
     },
     "execution_count": 83,
     "metadata": {},
     "output_type": "execute_result"
    }
   ],
   "source": [
    "db = pd.DataFrame(dic)\n",
    "db"
   ]
  },
  {
   "cell_type": "code",
   "execution_count": 93,
   "id": "c571755b",
   "metadata": {},
   "outputs": [],
   "source": [
    "X_norm = scaler_2.transform(db)"
   ]
  },
  {
   "cell_type": "code",
   "execution_count": 94,
   "id": "e2fcecbc",
   "metadata": {},
   "outputs": [
    {
     "data": {
      "text/plain": [
       "array([[2.21851291, 6.70298503, 2.64848927, 0.87025735, 0.61747367,\n",
       "        0.47656701, 0.54413071, 0.57879812, 0.46465213, 0.50553469,\n",
       "        0.59606661, 0.63714835, 0.55305643, 0.51993511, 0.64142241]])"
      ]
     },
     "execution_count": 94,
     "metadata": {},
     "output_type": "execute_result"
    }
   ],
   "source": [
    "X_norm"
   ]
  },
  {
   "cell_type": "code",
   "execution_count": 98,
   "id": "3773a0a5",
   "metadata": {},
   "outputs": [],
   "source": [
    "BC_reloaded = load('E:/Formation/Data_Science/Projets_DataScientest/fraud_detection/Modele/BC_2.pckl')\n",
    "RFC_reloaded = load('E:/Formation/Data_Science/Projets_DataScientest/fraud_detection/Modele/RFC_2.pckl')"
   ]
  },
  {
   "cell_type": "code",
   "execution_count": 99,
   "id": "ded3da35",
   "metadata": {},
   "outputs": [
    {
     "name": "stdout",
     "output_type": "stream",
     "text": [
      "[1]\n",
      "[1]\n"
     ]
    }
   ],
   "source": [
    "y_res_BC = BC_reloaded.predict(X_norm)\n",
    "y_res_RFC = RFC_reloaded.predict(X_norm)\n",
    "print(y_res_BC)\n",
    "print(y_res_RFC)\n"
   ]
  }
 ],
 "metadata": {
  "kernelspec": {
   "display_name": "Python 3",
   "language": "python",
   "name": "python3"
  },
  "language_info": {
   "codemirror_mode": {
    "name": "ipython",
    "version": 3
   },
   "file_extension": ".py",
   "mimetype": "text/x-python",
   "name": "python",
   "nbconvert_exporter": "python",
   "pygments_lexer": "ipython3",
   "version": "3.8.10"
  }
 },
 "nbformat": 4,
 "nbformat_minor": 5
}
